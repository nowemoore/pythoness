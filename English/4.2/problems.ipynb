{
 "cells": [
  {
   "cell_type": "markdown",
   "id": "fdedb7a4",
   "metadata": {},
   "source": [
    "# In-Class Problems\n",
    "This problem set refers to data provided in `csvsample.csv`."
   ]
  },
  {
   "cell_type": "markdown",
   "id": "ff53b801",
   "metadata": {},
   "source": [
    "## ⭐ Task 01\n",
    "Find the price distribution of all products and plot it using a bar chart."
   ]
  },
  {
   "cell_type": "code",
   "execution_count": null,
   "id": "12a8ca16",
   "metadata": {},
   "outputs": [],
   "source": []
  },
  {
   "cell_type": "markdown",
   "id": "40347070",
   "metadata": {},
   "source": [
    "## ⭐ Task 02\n",
    "Show how much sales each category of product produced using a pie chart."
   ]
  },
  {
   "cell_type": "code",
   "execution_count": null,
   "id": "31408497",
   "metadata": {},
   "outputs": [],
   "source": []
  },
  {
   "cell_type": "markdown",
   "id": "de813226",
   "metadata": {},
   "source": [
    "## ⭐ Task 03\n",
    "Show how many units of products were sold every day using a line chart."
   ]
  },
  {
   "cell_type": "code",
   "execution_count": null,
   "id": "800d3293",
   "metadata": {},
   "outputs": [],
   "source": []
  },
  {
   "cell_type": "markdown",
   "id": "ae9982e7",
   "metadata": {},
   "source": [
    "## ⭐ Task 04\n",
    "Make a scatterplot exploring whether or not units sold correlate with cost per unit."
   ]
  },
  {
   "cell_type": "code",
   "execution_count": null,
   "id": "51bb1046",
   "metadata": {},
   "outputs": [],
   "source": []
  },
  {
   "cell_type": "markdown",
   "id": "dda8bf0e",
   "metadata": {},
   "source": [
    "## ⭐ Task 05\n",
    "Make a grouped bar graph of your choice but change the colour of the columns."
   ]
  },
  {
   "cell_type": "code",
   "execution_count": null,
   "id": "f13cf33a",
   "metadata": {},
   "outputs": [],
   "source": []
  }
 ],
 "metadata": {
  "language_info": {
   "name": "python"
  }
 },
 "nbformat": 4,
 "nbformat_minor": 5
}
