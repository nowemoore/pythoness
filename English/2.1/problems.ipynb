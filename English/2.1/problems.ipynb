{
 "cells": [
  {
   "cell_type": "markdown",
   "metadata": {},
   "source": [
    "# In-Class Problems"
   ]
  },
  {
   "cell_type": "markdown",
   "metadata": {},
   "source": [
    "## ⭐ **Task 01**\n",
    "Write a function `greet()` that takes in a name as an argument and prints `\"Hello, [name]!\"`. Test it with your own name."
   ]
  },
  {
   "cell_type": "code",
   "execution_count": null,
   "metadata": {},
   "outputs": [],
   "source": []
  },
  {
   "cell_type": "markdown",
   "metadata": {},
   "source": [
    "## ⭐ **Task 02**\n",
    "Write a function `reverse()` that takes in a string and returns the string reversed."
   ]
  },
  {
   "cell_type": "code",
   "execution_count": null,
   "metadata": {},
   "outputs": [],
   "source": []
  },
  {
   "cell_type": "markdown",
   "metadata": {},
   "source": [
    "## ⭐ **Task 03**\n",
    "Write a function `area()` that takes in every *unique* length of a right-angled symmetric quadrilateral (i.e., a square) and returns its area."
   ]
  },
  {
   "cell_type": "code",
   "execution_count": null,
   "metadata": {},
   "outputs": [],
   "source": []
  },
  {
   "cell_type": "markdown",
   "metadata": {},
   "source": [
    "## ⭐ **Task 04**\n",
    "Create a function `leap_year_check()` that takes in a year and returns `True` if it's a leap year."
   ]
  },
  {
   "cell_type": "code",
   "execution_count": null,
   "metadata": {},
   "outputs": [],
   "source": []
  },
  {
   "cell_type": "markdown",
   "metadata": {},
   "source": [
    "## ⭐ **Task 05**\n",
    "Write a function `greet_everyone()` that takes in a list of names and prints `\"Hello, [name]!\"` for all names on the list. The number of names is not specified ahead of time."
   ]
  },
  {
   "cell_type": "code",
   "execution_count": null,
   "metadata": {},
   "outputs": [],
   "source": []
  },
  {
   "cell_type": "markdown",
   "metadata": {},
   "source": [
    "## ⭐ **Task 06**\n",
    "Create a function `names_alphabetical()` that takes in a person's name (you don't know how many middle names they provide) and returns all parts of their name in the alphabetic order."
   ]
  },
  {
   "cell_type": "code",
   "execution_count": null,
   "metadata": {},
   "outputs": [],
   "source": []
  },
  {
   "cell_type": "markdown",
   "metadata": {},
   "source": [
    "## ⭐ **Task 07**\n",
    "Write a function `prime_check()` that takes in an integer and returns `True` if the number is prime, `False` otherwise. (Hint: make sure to handle negative numbers and other edge cases.)"
   ]
  },
  {
   "cell_type": "code",
   "execution_count": null,
   "metadata": {},
   "outputs": [],
   "source": []
  },
  {
   "cell_type": "markdown",
   "metadata": {},
   "source": [
    "## ⭐ **Task 08**\n",
    "Create a function `word_count()` that takes in a string with a sentence and returns a dictionary with each word as a key and its frequency as the value."
   ]
  },
  {
   "cell_type": "code",
   "execution_count": null,
   "metadata": {},
   "outputs": [],
   "source": []
  },
  {
   "cell_type": "markdown",
   "metadata": {},
   "source": [
    "## ⭐ **Task 09**\n",
    "Create a function `validate_email()` that returns `True` iff an input string contains exactly one `@`, at least one dot after `@`, and no spaces."
   ]
  },
  {
   "cell_type": "code",
   "execution_count": null,
   "metadata": {},
   "outputs": [],
   "source": []
  },
  {
   "cell_type": "markdown",
   "metadata": {},
   "source": [
    "## ⭐ **Task 10**\n",
    "Create a function `find_common_elements()` that takes in two lists and returns a list of elements that appear in both lists."
   ]
  },
  {
   "cell_type": "code",
   "execution_count": null,
   "metadata": {},
   "outputs": [],
   "source": []
  },
  {
   "cell_type": "markdown",
   "metadata": {},
   "source": [
    "## ⭐ **Task 11**\n",
    "Create a function `count_words_by_length()` that takes in a sentence and returns a dictionary where keys are word lengths and values are counts of words with that length."
   ]
  },
  {
   "cell_type": "code",
   "execution_count": null,
   "metadata": {},
   "outputs": [],
   "source": []
  },
  {
   "cell_type": "markdown",
   "metadata": {},
   "source": [
    "## ⭐ **Task 12**\n",
    "Create a function `hours_to_hms()` that takes in a decimal number of hours and converts it to hours:minutes:seconds format."
   ]
  },
  {
   "cell_type": "code",
   "execution_count": null,
   "metadata": {},
   "outputs": [],
   "source": []
  },
  {
   "cell_type": "markdown",
   "metadata": {},
   "source": [
    "## ⭐ **Task 13**\n",
    "Write a function `fibonacci()` that takes in an integer `n` and returns the $n^{th}$ fibonacci number."
   ]
  },
  {
   "cell_type": "code",
   "execution_count": null,
   "metadata": {},
   "outputs": [],
   "source": []
  },
  {
   "cell_type": "markdown",
   "metadata": {},
   "source": [
    "## ⭐ **Task 14**\n",
    "Create a recursive function `gcd()` that finds and returns the greatest common divisor of any two input integers. (Hint: consider using Euclid's algorithm.)"
   ]
  },
  {
   "cell_type": "code",
   "execution_count": null,
   "metadata": {},
   "outputs": [],
   "source": []
  },
  {
   "cell_type": "markdown",
   "metadata": {},
   "source": [
    "## ⭐ **Task 15**\n",
    "Create a function `merge_lists()` that takes in exactly two sorted lists of integers and returns a single sorted list containing all elements from both list."
   ]
  },
  {
   "cell_type": "code",
   "execution_count": null,
   "metadata": {},
   "outputs": [],
   "source": []
  },
  {
   "cell_type": "markdown",
   "metadata": {},
   "source": [
    "## ⭐ **Task 16**\n",
    "Write a function `find_second_largest()` that takes in a list of numbers and returns the second largest number. (Hint: handle a list of all values equal.)"
   ]
  },
  {
   "cell_type": "code",
   "execution_count": null,
   "metadata": {},
   "outputs": [],
   "source": []
  },
  {
   "cell_type": "markdown",
   "metadata": {},
   "source": [
    "## ⭐ **Task 17**\n",
    "Create a function `ceasar_cipher()` that takes in a string and an integer `n`, and returns the string shifted by $n$ positions to the left. (Hint: handle cases where $n$ is larger than string length.)"
   ]
  },
  {
   "cell_type": "code",
   "execution_count": null,
   "metadata": {},
   "outputs": [],
   "source": []
  },
  {
   "cell_type": "markdown",
   "metadata": {},
   "source": [
    "## ⭐ **Task 18**\n",
    "Write a function `remove_nth_character()` that takes in a string and an integer $n$, and returns the string with every $n^{th}$ character removed. Handle cases where $n$ is larger than string length."
   ]
  },
  {
   "cell_type": "code",
   "execution_count": null,
   "metadata": {},
   "outputs": [],
   "source": []
  },
  {
   "cell_type": "markdown",
   "metadata": {},
   "source": [
    "## ⭐ **Task 19**\n",
    "Write a function `find_missing_number()` that takes in a list of integers from 1 to $n$ with one number missing, and returns the missing number. (The list is not necessarily sorted.)"
   ]
  },
  {
   "cell_type": "code",
   "execution_count": null,
   "metadata": {},
   "outputs": [],
   "source": []
  },
  {
   "cell_type": "markdown",
   "metadata": {},
   "source": [
    "## ⭐ **Task 20**\n",
    "Write a function `anagram_groups()` that considers a list of words and returns a dictionary of anagrams, where the key is the alphabetical representative (e.g., `{\"aet\": [\"eat\", \"tea\", \"ate\"], \"ab\": [\"ab\", \"ba\"]}`)."
   ]
  },
  {
   "cell_type": "code",
   "execution_count": null,
   "metadata": {},
   "outputs": [],
   "source": []
  },
  {
   "cell_type": "markdown",
   "metadata": {},
   "source": [
    "## ⭐ **Task 21**\n",
    "Create a function `sort_by_frequency()` that takes in a list of elements and returns a list sorted by frequency of occurrence (most frequent first). (Hint: think about how you want to deal with ties.)"
   ]
  },
  {
   "cell_type": "code",
   "execution_count": null,
   "metadata": {},
   "outputs": [],
   "source": []
  }
 ],
 "metadata": {
  "kernelspec": {
   "display_name": "Python 3",
   "language": "python",
   "name": "python3"
  },
  "language_info": {
   "codemirror_mode": {
    "name": "ipython",
    "version": 3
   },
   "file_extension": ".py",
   "mimetype": "text/x-python",
   "name": "python",
   "nbconvert_exporter": "python",
   "pygments_lexer": "ipython3",
   "version": "3.11.4"
  }
 },
 "nbformat": 4,
 "nbformat_minor": 5
}
