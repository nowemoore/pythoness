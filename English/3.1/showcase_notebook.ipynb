{
 "cells": [
  {
   "cell_type": "markdown",
   "id": "7e42c991",
   "metadata": {},
   "source": [
    "# Classes & Objects"
   ]
  },
  {
   "cell_type": "markdown",
   "id": "ea5548ee",
   "metadata": {},
   "source": [
    "## Initialisation"
   ]
  },
  {
   "cell_type": "code",
   "execution_count": 1,
   "id": "e457aea7",
   "metadata": {},
   "outputs": [],
   "source": [
    "class Student:\n",
    "    def __init__(self, name, age, grade):\n",
    "        self.name = name\n",
    "        self.age = age\n",
    "        self.grade = grade"
   ]
  },
  {
   "cell_type": "markdown",
   "id": "e8bbec36",
   "metadata": {},
   "source": [
    "## String"
   ]
  },
  {
   "cell_type": "code",
   "execution_count": 2,
   "id": "c4603bd0",
   "metadata": {},
   "outputs": [
    {
     "name": "stdout",
     "output_type": "stream",
     "text": [
      "<__main__.Student object at 0x000001CD35C406E0>\n"
     ]
    }
   ],
   "source": [
    "john = Student(\"John\", 20, \"90%\")\n",
    "print(john)"
   ]
  },
  {
   "cell_type": "code",
   "execution_count": 3,
   "id": "b39bbe57",
   "metadata": {},
   "outputs": [],
   "source": [
    "class Student:\n",
    "    def __init__(self, name, age, grade):\n",
    "        self.name = name\n",
    "        self.age = age\n",
    "        self.grade = grade\n",
    "        \n",
    "    def __str__(self):\n",
    "        return \"Name: %s, Age: %d, Grade: %s\" % (self.name, self.age, self.grade)"
   ]
  },
  {
   "cell_type": "code",
   "execution_count": 4,
   "id": "d615568e",
   "metadata": {},
   "outputs": [
    {
     "name": "stdout",
     "output_type": "stream",
     "text": [
      "Name: John, Age: 20, Grade: 90%\n"
     ]
    }
   ],
   "source": [
    "john = Student(\"John\", 20, \"90%\")\n",
    "print(john)"
   ]
  }
 ],
 "metadata": {
  "kernelspec": {
   "display_name": "Python 3",
   "language": "python",
   "name": "python3"
  },
  "language_info": {
   "codemirror_mode": {
    "name": "ipython",
    "version": 3
   },
   "file_extension": ".py",
   "mimetype": "text/x-python",
   "name": "python",
   "nbconvert_exporter": "python",
   "pygments_lexer": "ipython3",
   "version": "3.13.7"
  }
 },
 "nbformat": 4,
 "nbformat_minor": 5
}
