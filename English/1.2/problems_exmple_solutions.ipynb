{
 "cells": [
  {
   "cell_type": "markdown",
   "id": "e8d7c491",
   "metadata": {},
   "source": [
    "# Example Solutions 1.2"
   ]
  },
  {
   "cell_type": "markdown",
   "id": "a9d2f2b3",
   "metadata": {},
   "source": [
    "## ⭐ **Task 01**\n",
    "Use control flows to print your name exactly 11 times."
   ]
  },
  {
   "cell_type": "code",
   "execution_count": null,
   "id": "b1c73a80",
   "metadata": {},
   "outputs": [],
   "source": [
    "name = \"My Name\"\n",
    "count = 0\n",
    "\n",
    "while count < 11: ## we do < 11 because we start at 0\n",
    "    print(name)\n",
    "    count = count + 1\n"
   ]
  },
  {
   "cell_type": "markdown",
   "id": "1d7f3c4d",
   "metadata": {},
   "source": [
    "## ⭐ **Task 02**\n",
    "Use control flows to print every multiple of 3 between 2 and 22."
   ]
  },
  {
   "cell_type": "code",
   "execution_count": null,
   "id": "c76c1f0e",
   "metadata": {},
   "outputs": [
    {
     "name": "stdout",
     "output_type": "stream",
     "text": [
      "3\n",
      "6\n",
      "9\n",
      "12\n",
      "15\n",
      "18\n",
      "21\n"
     ]
    }
   ],
   "source": [
    "for number in range(2, 23): ## checks every number between 2 and 22 (23 not included)\n",
    "    if number % 3 == 0: ## checks if number is divisible by 3 (aka remainder 0 after division by 3)\n",
    "        print(number)\n"
   ]
  },
  {
   "cell_type": "markdown",
   "id": "f5f5f5f5",
   "metadata": {},
   "source": [
    "## ⭐ **Task 03**\n",
    "Create a variable score between 0 and 100. Use control flows to assign a letter grade (A: 90-100, B: 80-89, C: 70-79, D: 60-69, F: below 60)."
   ]
  },
  {
   "cell_type": "code",
   "execution_count": 12,
   "id": "a2b3c4d5",
   "metadata": {},
   "outputs": [
    {
     "name": "stdout",
     "output_type": "stream",
     "text": [
      "F\n"
     ]
    }
   ],
   "source": [
    "score = 30\n",
    "\n",
    "match score: ## will match the value of score against the cases\n",
    "    case s if 100 >= s >= 90: ## you can use an if condition inside a case statement\n",
    "        grade = 'A'\n",
    "    case s if 90 >= s >= 80:\n",
    "        grade = 'B'\n",
    "    case s if 80 >= s >= 70:\n",
    "        grade = 'C'\n",
    "    case s if 70 >= s >= 60:\n",
    "        grade = 'D'\n",
    "    case s if 60 >= s >= 0: \n",
    "        grade = 'F'\n",
    "    case _: ## handles all other cases\n",
    "        grade = 'invalid score'\n",
    "\n",
    "print(grade)\n"
   ]
  },
  {
   "cell_type": "markdown",
   "id": "4e9a8b7c",
   "metadata": {},
   "source": [
    "## ⭐ **Task 04**\n",
    "Create a list with 5 different colours. Create a boolean variable `has_red` that yields True if the list contains red, False otherwise. Print the result."
   ]
  },
  {
   "cell_type": "code",
   "execution_count": 13,
   "id": "5f4g3h2i",
   "metadata": {},
   "outputs": [
    {
     "name": "stdout",
     "output_type": "stream",
     "text": [
      "False\n"
     ]
    }
   ],
   "source": [
    "colors = [\"blue\", \"green\", \"yellow\", \"purple\", \"orange\"]\n",
    "has_red = \"red\" in colors ## the in operator checks for membership (in this case membership in a list)\n",
    "\n",
    "print(has_red)"
   ]
  },
  {
   "cell_type": "markdown",
   "id": "6j1k0l9m",
   "metadata": {},
   "source": [
    "## ⭐ **Task 05**\n",
    "Make a list of boolean values representing quiz answers. Calculate and print the percentage of True answers."
   ]
  },
  {
   "cell_type": "code",
   "execution_count": 14,
   "id": "7n8o9p0q",
   "metadata": {},
   "outputs": [
    {
     "name": "stdout",
     "output_type": "stream",
     "text": [
      "60.0\n"
     ]
    }
   ],
   "source": [
    "quiz_answers = [True, False, True, True, False, True, False, True, True, False]\n",
    "total_answers = len(quiz_answers)\n",
    "correct_count = 0\n",
    "\n",
    "for answer in quiz_answers:\n",
    "    if answer: ## note that answer is already a boolean, so no further comparison is needed (if answer == True, the below block will execute)\n",
    "        correct_count += 1 ## recall that += is shorthand for incrementing a variable by a value (in this case increments correct_count by 1)\n",
    "\n",
    "## calculate percentage of correct answers\n",
    "percentage = (correct_count / total_answers) * 100\n",
    "\n",
    "print(percentage)\n"
   ]
  },
  {
   "cell_type": "markdown",
   "id": "8r7s6t5u",
   "metadata": {},
   "source": [
    "## ⭐ **Task 06**\n",
    "Create a list of floating-point numbers. Modify the list so that every number is rounded up to 2 decimal places."
   ]
  },
  {
   "cell_type": "code",
   "execution_count": 20,
   "id": "9v8w7x6y",
   "metadata": {},
   "outputs": [
    {
     "name": "stdout",
     "output_type": "stream",
     "text": [
      "[3.14, 2.71, 1.61, 0.57]\n",
      "[3.14, 2.71, 1.61, 0.57]\n",
      "[3.14, 2.72, 1.62, 0.58]\n"
     ]
    }
   ],
   "source": [
    "float_list = [3.14159, 2.71828, 1.61803, 0.57721]\n",
    "rounded_list = []\n",
    "\n",
    "for number in float_list:\n",
    "    number = number * 100 ## multiply by 100 to shift decimal two places to the right\n",
    "    number = int(number) ## convert to integer to truncate decimal portion\n",
    "    number = number / 100 ## divide by 100 to shift decimal back to original position\n",
    "    rounded_list.append(number) ## add rounded number to new list\n",
    "\n",
    "print(rounded_list)\n",
    "\n",
    "\n",
    "## OR use list comprehension (a nicer way to write a for loop that builds a list like the one above)\n",
    "float_list = [3.14159, 2.71828, 1.61803, 0.57721]\n",
    "rounded_list = [int(number * 100) / 100 for number in float_list]\n",
    "print(rounded_list)\n",
    "\n",
    "## OR use the round() function, takes in the number to round and number of decimal places\n",
    "float_list = [3.14159, 2.71828, 1.61803, 0.57721]\n",
    "rounded_list = []\n",
    "\n",
    "for number in float_list:\n",
    "    rounded_number = round(number, 2) ## round to 2 decimal places\n",
    "    rounded_list.append(rounded_number)\n",
    "\n",
    "print(rounded_list)\n"
   ]
  },
  {
   "cell_type": "markdown",
   "id": "0z1a2b3c",
   "metadata": {},
   "source": [
    "## ⭐ **Task 07**\n",
    "Create a set with numbers 1-20. Remove all numbers divisible by 4 and print the remaining set."
   ]
  },
  {
   "cell_type": "code",
   "execution_count": 21,
   "id": "d4e5f6g7",
   "metadata": {},
   "outputs": [
    {
     "name": "stdout",
     "output_type": "stream",
     "text": [
      "{1, 2, 3, 5, 6, 7, 9, 10, 11, 13, 14, 15, 17, 18, 19}\n"
     ]
    }
   ],
   "source": [
    "number_set = set(range(1, 21)) ## an alternative way to create a set {1, 2, ..., 20}\n",
    "to_remove = set() ## create an empty set to hold numbers to remove\n",
    "\n",
    "for number in number_set: ## iterate through each number in the original set\n",
    "    if number % 4 == 0: ## check if the number is a multiple of 4\n",
    "        to_remove.add(number)  ## add the number to the to_remove set if it is a multiple of 4 (this block only executes if the above condition is true)\n",
    "\n",
    "## remove the found multiples of 4 from the original set\n",
    "remaining_set = number_set - to_remove\n",
    "\n",
    "print(remaining_set)"
   ]
  },
  {
   "cell_type": "markdown",
   "id": "h8i9j0k1",
   "metadata": {},
   "source": [
    "## ⭐ **Task 08**\n",
    "Create two sets, `a` and `b`, with 7 numerical values between 0 and 9 each. Now create a set `c` that contains values of `a` without the values that also occur in `b`. (Hint: Recall set operations.)"
   ]
  },
  {
   "cell_type": "code",
   "execution_count": null,
   "id": "l2m3n4o5",
   "metadata": {},
   "outputs": [
    {
     "name": "stdout",
     "output_type": "stream",
     "text": [
      "{1, 3, 6}\n"
     ]
    }
   ],
   "source": [
    "set_a = {1, 2, 3, 5, 6, 8, 9}\n",
    "set_b = {0, 2, 4, 5, 7, 8, 9}\n",
    "\n",
    "## set difference - returns elements in set_a that are not in set_b\n",
    "set_c = set_a - set_b\n",
    "\n",
    "print(set_c) \n"
   ]
  },
  {
   "cell_type": "markdown",
   "id": "p6q7r8s9",
   "metadata": {},
   "source": [
    "## ⭐ **Task 09**\n",
    "Create a variable `day_idx` with a value between 1 and 365. Use control flows to determine which day of the week it is. (Hint: Consider using the modulo operator to find the pattern.)"
   ]
  },
  {
   "cell_type": "code",
   "execution_count": 23,
   "id": "t0u1v2w3",
   "metadata": {},
   "outputs": [
    {
     "name": "stdout",
     "output_type": "stream",
     "text": [
      "Sunday\n"
     ]
    }
   ],
   "source": [
    "day_idx = 175  ## example idx of the day in the year\n",
    "days_in_week = 7\n",
    "\n",
    "day_of_week_num = day_idx % days_in_week ## calculate day of the week number (0=Sunday, 1=Monday, ..., 6=Saturday)\n",
    "\n",
    "match day_of_week_num:\n",
    "    case 0:\n",
    "        day_name = \"Sunday\"\n",
    "    case 1:\n",
    "        day_name = \"Monday\"\n",
    "    case 2:\n",
    "        day_name = \"Tuesday\"\n",
    "    case 3:\n",
    "        day_name = \"Wednesday\"\n",
    "    case 4:\n",
    "        day_name = \"Thursday\"\n",
    "    case 5:\n",
    "        day_name = \"Friday\"\n",
    "    case 6:\n",
    "        day_name = \"Saturday\"\n",
    "    case _:\n",
    "        day_name = \"Invalid day\"\n",
    "\n",
    "print(day_name)\n"
   ]
  },
  {
   "cell_type": "markdown",
   "id": "x4y5z6a7",
   "metadata": {},
   "source": [
    "## ⭐ **Task 10**\n",
    "Create a list of strings representing file names. Use iterators to filter out strings not representing text files (`.txt`, `.md`) and print the result."
   ]
  },
  {
   "cell_type": "code",
   "execution_count": 27,
   "id": "b8c9d0e1",
   "metadata": {},
   "outputs": [
    {
     "name": "stdout",
     "output_type": "stream",
     "text": [
      "['report.pdf', 'photo.jpg', 'data.xlsx', 'script.py']\n"
     ]
    }
   ],
   "source": [
    "file_names = [\"report.pdf\", \"notes.txt\", \"photo.jpg\", \"README.md\", \"data.xlsx\", \"script.py\"]\n",
    "\n",
    "for file in file_names:\n",
    "    if file[-4:] == \".txt\" or file[-3:] == \".md\": ## check if the file ends with .txt or .md; note that a string is just a sequence of characters, so you can use slicing to get the last few characters\n",
    "        file_names.remove(file)\n",
    "\n",
    "print(file_names)\n"
   ]
  },
  {
   "cell_type": "markdown",
   "id": "f2g3h4i5",
   "metadata": {},
   "source": [
    "## ⭐ **Task 11**\n",
    "Create a list of 10 random integers. Find the second largest number."
   ]
  },
  {
   "cell_type": "code",
   "execution_count": 28,
   "id": "j6k7l8m9",
   "metadata": {},
   "outputs": [
    {
     "name": "stdout",
     "output_type": "stream",
     "text": [
      "29\n"
     ]
    }
   ],
   "source": [
    "numbers = [15, 22, 18, 5, 29, 3, 22, 10, 29, 1]\n",
    "\n",
    "## first, let's find the largest integer in the list\n",
    "top_integer = numbers[0] ## after one iteration, this will hold the largest integer found so far\n",
    "for number in numbers:\n",
    "    if number > top_integer: ## check if the current number is greater than the current top integer\n",
    "        top_integer = number ## update top integer if current number is greater\n",
    "        \n",
    "numbers.remove(top_integer) ## remove the largest integer from the list\n",
    "\n",
    "## now, let's find the second largest integer in the modified list\n",
    "second_top_integer = numbers[0] ## after one iteration, this will hold the second largest integer found so far\n",
    "for number in numbers:\n",
    "    if number > second_top_integer: ## check if the current number is greater than the current second top integer\n",
    "        second_top_integer = number ## update second top integer if current number is greater\n",
    "\n",
    "print(second_top_integer)"
   ]
  },
  {
   "cell_type": "markdown",
   "id": "n0o1p2q3",
   "metadata": {},
   "source": [
    "## ⭐ **Task 12**\n",
    "Create a list of dictionaries, each representing a person with name and age. Calculate the average age."
   ]
  },
  {
   "cell_type": "code",
   "execution_count": 29,
   "id": "r4s5t6u7",
   "metadata": {},
   "outputs": [
    {
     "name": "stdout",
     "output_type": "stream",
     "text": [
      "28.75\n"
     ]
    }
   ],
   "source": [
    "people = [\n",
    "    {\"name\": \"Alice\", \"age\": 30},\n",
    "    {\"name\": \"Bob\", \"age\": 25},\n",
    "    {\"name\": \"Charlie\", \"age\": 40},\n",
    "    {\"name\": \"Diana\", \"age\": 20}\n",
    "] ## people is a list, where each element is a dictionary representing a person with a name and age\n",
    "\n",
    "total_age = 0\n",
    "person_count = 0\n",
    "\n",
    "for person in people: ## iterate through each person in the list\n",
    "    total_age += person[\"age\"] ## increments total_age by the age of the current person, look up age using the key \"age\" in the dictionary\n",
    "    person_count += 1 ## increments person_count by 1 to count the number of people\n",
    "\n",
    "## calculate the average by dividing total_age by person_count\n",
    "if person_count > 0:\n",
    "    average_age = total_age / person_count\n",
    "else:\n",
    "    average_age = 0\n",
    "\n",
    "print(average_age)\n"
   ]
  },
  {
   "cell_type": "markdown",
   "id": "v8w9x0y1",
   "metadata": {},
   "source": [
    "## ⭐ **Task 13**\n",
    "Create a list of 12 random names. Split these names into triplets alphabetically and print the result as a list."
   ]
  },
  {
   "cell_type": "code",
   "execution_count": 30,
   "id": "z2a3b4c5",
   "metadata": {},
   "outputs": [
    {
     "name": "stdout",
     "output_type": "stream",
     "text": [
      "['Alex', 'Ella', 'Jane', 'John', 'Kyle', 'Luna', 'Mark', 'Nina', 'Pete', 'Quinn', 'Sam', 'Zoe']\n",
      "[('Alex', 'Ella', 'Jane'), ('John', 'Kyle', 'Luna'), ('Mark', 'Nina', 'Pete'), ('Quinn', 'Sam', 'Zoe')]\n"
     ]
    }
   ],
   "source": [
    "names = [\"John\", \"Jane\", \"Alex\", \"Zoe\", \"Mark\", \"Luna\", \"Pete\", \"Nina\", \"Quinn\", \"Sam\", \"Kyle\", \"Ella\"]\n",
    "\n",
    "names.sort() ## this method sorts the list in place in alphabetical order (if strings are used, else numerical order for numbers)\n",
    "\n",
    "triplets = []\n",
    "curr_idx = 0\n",
    "step = 3\n",
    "\n",
    "while curr_idx < len(names):\n",
    "    triplet = names[curr_idx : curr_idx + step] ## the expression inside [] returns a sublist from curr_idx (left-hand side of \":\") to curr_idx + step - 1 (right-hand side of \":\")\n",
    "    triplets.append(tuple(triplet)) ## append the triplet as a tuple to the triplets list\n",
    "    curr_idx = curr_idx + step ## increment curr_idx by step to move to the next triplet to avoid infinite loop\n",
    "\n",
    "print(names)\n",
    "print(triplets)\n"
   ]
  },
  {
   "cell_type": "markdown",
   "id": "d6e7f8g9",
   "metadata": {},
   "source": [
    "## ⭐ **Task 14**\n",
    "Use control flows to find the result of 63487 divided by 7. No division or multiplication operators!"
   ]
  },
  {
   "cell_type": "code",
   "execution_count": null,
   "id": "h0i1j2k3",
   "metadata": {},
   "outputs": [
    {
     "name": "stdout",
     "output_type": "stream",
     "text": [
      "The quotient is: 9069\n",
      "The remainder is: 4\n"
     ]
    }
   ],
   "source": [
    "dividend = 63487\n",
    "divisor = 7\n",
    "quotient = 0\n",
    "\n",
    "remainder = dividend\n",
    "\n",
    "## repeat subtraction of divisor from remainder until remainder is less than divisor\n",
    "while remainder >= divisor:\n",
    "    remainder = remainder - divisor\n",
    "    quotient = quotient + 1\n",
    "\n",
    "print(f\"The quotient is: {quotient}\")\n",
    "print(f\"The remainder is: {remainder}\")\n"
   ]
  },
  {
   "cell_type": "markdown",
   "id": "l4m5n6o7",
   "metadata": {},
   "source": [
    "## ⭐ **Task 15**\n",
    "Everyone create a list of 10 colours in your respective repositories. Then merge your lists into one repository using GitHub (not manually) and find their intersection."
   ]
  },
  {
   "cell_type": "code",
   "execution_count": 32,
   "id": "p8q9r0s1",
   "metadata": {},
   "outputs": [
    {
     "name": "stdout",
     "output_type": "stream",
     "text": [
      "{'lime', 'blue', 'green', 'red', 'yellow'}\n"
     ]
    }
   ],
   "source": [
    "## NOTE: you need to clone someone's repository and merge it with your own to fully complete this task\n",
    "## this solution simulates the lists from two different contributors and finds the intersection\n",
    "\n",
    "contributor1_colors = [\"red\", \"blue\", \"green\", \"yellow\", \"purple\", \"black\", \"white\", \"cyan\", \"magenta\", \"lime\"]\n",
    "contributor2_colors = [\"green\", \"orange\", \"blue\", \"red\", \"brown\", \"gray\", \"yellow\", \"pink\", \"gold\", \"lime\"]\n",
    "\n",
    "set1 = set(contributor1_colors) ## gets rid of duplicates and allows for set operations\n",
    "set2 = set(contributor2_colors)\n",
    "\n",
    "intersection_colors = set1 & set2 ## set intersection operator (&) finds common elements in both sets\n",
    "\n",
    "print(intersection_colors)"
   ]
  }
 ],
 "metadata": {
  "kernelspec": {
   "display_name": "Python 3",
   "language": "python",
   "name": "python3"
  },
  "language_info": {
   "codemirror_mode": {
    "name": "ipython",
    "version": 3
   },
   "file_extension": ".py",
   "mimetype": "text/x-python",
   "name": "python",
   "nbconvert_exporter": "python",
   "pygments_lexer": "ipython3",
   "version": "3.13.7"
  }
 },
 "nbformat": 4,
 "nbformat_minor": 5
}
