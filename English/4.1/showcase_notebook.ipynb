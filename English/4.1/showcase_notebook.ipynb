{
 "cells": [
  {
   "cell_type": "markdown",
   "id": "eca90eb4",
   "metadata": {},
   "source": [
    "# Module 4.1"
   ]
  },
  {
   "cell_type": "markdown",
   "id": "fe018ea2",
   "metadata": {},
   "source": [
    "## Reading TXT files"
   ]
  },
  {
   "cell_type": "markdown",
   "id": "94fd903b",
   "metadata": {},
   "source": [
    "### Method no. 1: `.read()`\n",
    "\n",
    "Method `.read()` returns the whole content of a txt file as an individual line"
   ]
  },
  {
   "cell_type": "code",
   "execution_count": 1,
   "id": "febbdd51",
   "metadata": {},
   "outputs": [
    {
     "name": "stdout",
     "output_type": "stream",
     "text": [
      "CINNAMON ROLLS: A QUICK GUIDE\n",
      "\n",
      "Making great cinnamon rolls is about respecting the yeast and the butter. This guide focuses on efficiency for a perfectly gooey result.\n",
      "\n",
      "1. THE DOUGH (Active Time: approx 15 min)\n",
      "\n",
      "Start by activating your yeast (2.25 tsp) in 1/4 cup of warm water with a pinch of sugar. While it foams, gently melt 1/4 cup of butter into 1 cup of milk, then cool it slightly before stirring in 1/4 tsp of salt. Now, combine the yeast mixture, the milk mixture, and 1 large egg in a large bowl. Gradually add 3 to 3.5 cups of flour until a soft dough forms. Knead it for about 5 minutes until smooth, then let it rise in an oiled bowl for 1 hour.\n",
      "\n",
      "2. THE FILLING & ASSEMBLY (Active Time: approx 10 min)\n",
      "\n",
      "Once the dough has doubled, punch it down and roll it into a large rectangle (around 12 in x 18 in). Spread 1/2 cup of soft butter evenly across the surface. In a separate bowl, mix 1 cup of packed brown sugar with 2 tablespoons of cinnamon, and sprinkle this rich mixture over the butter. Roll the dough up tightly from the long edge into a cylinder. Slice this log into 12 rolls and place them cut-side up in a greased 9 in x 13 in baking dish. Cover and let them rise one last time for 30 minutes.\n",
      "\n",
      "3. BAKE AND FROST (Total Time: approx 30 min)\n",
      "\n",
      "Preheat your oven to 375Ã‚Â°F and bake the rolls for 20 to 25 minutes until they are lightly golden brown. As they cool slightly, prepare the frosting: simply beat together 4 oz of soft cream cheese, 2 Tbsp of soft butter, 1.5 cups of powdered sugar, and 1/2 tsp of vanilla. Add a tablespoon or two of milk until the desired fluffy consistency is reached. Slather the warm rolls generously with the cream cheese frosting.\n",
      "\n",
      "Enjoy your incredibly soft and cinnamon-laced final product!\n"
     ]
    }
   ],
   "source": [
    "with open('textsample.txt', 'r') as file:\n",
    "    content = file.read()\n",
    "    print(content)"
   ]
  },
  {
   "cell_type": "code",
   "execution_count": 2,
   "id": "72ca2795",
   "metadata": {},
   "outputs": [
    {
     "name": "stdout",
     "output_type": "stream",
     "text": [
      "CINNAMON ROLLS: A QUICK GUIDE\n",
      "\n",
      "Making great cinnamon rolls is about respecting the yeast and the butter. This guide focuses on efficiency for a perfectly gooey result.\n",
      "\n",
      "1. THE DOUGH (Active Time: approx 15 min)\n",
      "\n",
      "Start by activating your yeast (2.25 tsp) in 1/4 cup of warm water with a pinch of sugar. While it foams, gently melt 1/4 cup of butter into 1 cup of milk, then cool it slightly before stirring in 1/4 tsp of salt. Now, combine the yeast mixture, the milk mixture, and 1 large egg in a large bowl. Gradually add 3 to 3.5 cups of flour until a soft dough forms. Knead it for about 5 minutes until smooth, then let it rise in an oiled bowl for 1 hour.\n",
      "\n",
      "2. THE FILLING & ASSEMBLY (Active Time: approx 10 min)\n",
      "\n",
      "Once the dough has doubled, punch it down and roll it into a large rectangle (around 12 in x 18 in). Spread 1/2 cup of soft butter evenly across the surface. In a separate bowl, mix 1 cup of packed brown sugar with 2 tablespoons of cinnamon, and sprinkle this rich mixture over the butter. Roll the dough up tightly from the long edge into a cylinder. Slice this log into 12 rolls and place them cut-side up in a greased 9 in x 13 in baking dish. Cover and let them rise one last time for 30 minutes.\n",
      "\n",
      "3. BAKE AND FROST (Total Time: approx 30 min)\n",
      "\n",
      "Preheat your oven to 375Â°F and bake the rolls for 20 to 25 minutes until they are lightly golden brown. As they cool slightly, prepare the frosting: simply beat together 4 oz of soft cream cheese, 2 Tbsp of soft butter, 1.5 cups of powdered sugar, and 1/2 tsp of vanilla. Add a tablespoon or two of milk until the desired fluffy consistency is reached. Slather the warm rolls generously with the cream cheese frosting.\n",
      "\n",
      "Enjoy your incredibly soft and cinnamon-laced final product!\n"
     ]
    }
   ],
   "source": [
    "with open('textsample.txt', 'r', encoding='utf-8') as file: ## other encodings: 'utf-16', 'latin-1'\n",
    "    content = file.read()\n",
    "    print(content)"
   ]
  },
  {
   "cell_type": "code",
   "execution_count": 3,
   "id": "b1c24405",
   "metadata": {},
   "outputs": [
    {
     "name": "stdout",
     "output_type": "stream",
     "text": [
      "<class 'str'>\n"
     ]
    }
   ],
   "source": [
    "## note that content is of type string\n",
    "print(type(content))"
   ]
  },
  {
   "cell_type": "code",
   "execution_count": 4,
   "id": "b332abc4",
   "metadata": {},
   "outputs": [
    {
     "name": "stdout",
     "output_type": "stream",
     "text": [
      "CINNAMON ROLLS: A QUICK GUIDE  Making great cinnamon rolls is about respecting the yeast and the butter. This guide focuses on efficiency for a perfectly gooey result.  1. THE DOUGH (Active Time: approx 15 min)  Start by activating your yeast (2.25 tsp) in 1/4 cup of warm water with a pinch of sugar. While it foams, gently melt 1/4 cup of butter into 1 cup of milk, then cool it slightly before stirring in 1/4 tsp of salt. Now, combine the yeast mixture, the milk mixture, and 1 large egg in a large bowl. Gradually add 3 to 3.5 cups of flour until a soft dough forms. Knead it for about 5 minutes until smooth, then let it rise in an oiled bowl for 1 hour.  2. THE FILLING & ASSEMBLY (Active Time: approx 10 min)  Once the dough has doubled, punch it down and roll it into a large rectangle (around 12 in x 18 in). Spread 1/2 cup of soft butter evenly across the surface. In a separate bowl, mix 1 cup of packed brown sugar with 2 tablespoons of cinnamon, and sprinkle this rich mixture over the butter. Roll the dough up tightly from the long edge into a cylinder. Slice this log into 12 rolls and place them cut-side up in a greased 9 in x 13 in baking dish. Cover and let them rise one last time for 30 minutes.  3. BAKE AND FROST (Total Time: approx 30 min)  Preheat your oven to 375Â°F and bake the rolls for 20 to 25 minutes until they are lightly golden brown. As they cool slightly, prepare the frosting: simply beat together 4 oz of soft cream cheese, 2 Tbsp of soft butter, 1.5 cups of powdered sugar, and 1/2 tsp of vanilla. Add a tablespoon or two of milk until the desired fluffy consistency is reached. Slather the warm rolls generously with the cream cheese frosting.  Enjoy your incredibly soft and cinnamon-laced final product!\n"
     ]
    }
   ],
   "source": [
    "## content is across multiple lines because the file has line breaks\n",
    "content = content.replace('\\n', ' ') ## if we replace line breaks with spaces\n",
    "print(content) ## content will print as single line"
   ]
  },
  {
   "cell_type": "markdown",
   "id": "c96f4200",
   "metadata": {},
   "source": [
    "### Method no. 2: Iterate through lines in file \n",
    "\n",
    "Same as iterating through any items in any collection. Helpful if the goal is to process/access individual lines."
   ]
  },
  {
   "cell_type": "code",
   "execution_count": 5,
   "id": "2568cb0e",
   "metadata": {},
   "outputs": [
    {
     "name": "stdout",
     "output_type": "stream",
     "text": [
      "CINNAMON ROLLS: A QUICK GUIDE\n",
      "\n",
      "Making great cinnamon rolls is about respecting the yeast and the butter. This guide focuses on efficiency for a perfectly gooey result.\n",
      "\n",
      "1. THE DOUGH (Active Time: approx 15 min)\n",
      "\n",
      "Start by activating your yeast (2.25 tsp) in 1/4 cup of warm water with a pinch of sugar. While it foams, gently melt 1/4 cup of butter into 1 cup of milk, then cool it slightly before stirring in 1/4 tsp of salt. Now, combine the yeast mixture, the milk mixture, and 1 large egg in a large bowl. Gradually add 3 to 3.5 cups of flour until a soft dough forms. Knead it for about 5 minutes until smooth, then let it rise in an oiled bowl for 1 hour.\n",
      "\n",
      "2. THE FILLING & ASSEMBLY (Active Time: approx 10 min)\n",
      "\n",
      "Once the dough has doubled, punch it down and roll it into a large rectangle (around 12 in x 18 in). Spread 1/2 cup of soft butter evenly across the surface. In a separate bowl, mix 1 cup of packed brown sugar with 2 tablespoons of cinnamon, and sprinkle this rich mixture over the butter. Roll the dough up tightly from the long edge into a cylinder. Slice this log into 12 rolls and place them cut-side up in a greased 9 in x 13 in baking dish. Cover and let them rise one last time for 30 minutes.\n",
      "\n",
      "3. BAKE AND FROST (Total Time: approx 30 min)\n",
      "\n",
      "Preheat your oven to 375Ã‚Â°F and bake the rolls for 20 to 25 minutes until they are lightly golden brown. As they cool slightly, prepare the frosting: simply beat together 4 oz of soft cream cheese, 2 Tbsp of soft butter, 1.5 cups of powdered sugar, and 1/2 tsp of vanilla. Add a tablespoon or two of milk until the desired fluffy consistency is reached. Slather the warm rolls generously with the cream cheese frosting.\n",
      "\n",
      "Enjoy your incredibly soft and cinnamon-laced final product!\n"
     ]
    }
   ],
   "source": [
    "with open('textsample.txt', 'r') as file:\n",
    "    for line in file:\n",
    "        print(line.strip()) # .strip() removes \\n at end of lines\n",
    "        "
   ]
  },
  {
   "cell_type": "markdown",
   "id": "3d5fdc46",
   "metadata": {},
   "source": [
    "### Reading (`r`) Versus Writing (`w`)"
   ]
  },
  {
   "cell_type": "code",
   "execution_count": 6,
   "id": "287c2780",
   "metadata": {},
   "outputs": [
    {
     "name": "stdout",
     "output_type": "stream",
     "text": [
      "CINNAMON ROLLS: A QUICK GUIDE\n",
      "\n",
      "MAKING GREAT CINNAMON ROLLS IS ABOUT RESPECTING THE YEAST AND THE BUTTER. THIS GUIDE FOCUSES ON EFFICIENCY FOR A PERFECTLY GOOEY RESULT.\n",
      "\n",
      "1. THE DOUGH (ACTIVE TIME: APPROX 15 MIN)\n",
      "\n",
      "START BY ACTIVATING YOUR YEAST (2.25 TSP) IN 1/4 CUP OF WARM WATER WITH A PINCH OF SUGAR. WHILE IT FOAMS, GENTLY MELT 1/4 CUP OF BUTTER INTO 1 CUP OF MILK, THEN COOL IT SLIGHTLY BEFORE STIRRING IN 1/4 TSP OF SALT. NOW, COMBINE THE YEAST MIXTURE, THE MILK MIXTURE, AND 1 LARGE EGG IN A LARGE BOWL. GRADUALLY ADD 3 TO 3.5 CUPS OF FLOUR UNTIL A SOFT DOUGH FORMS. KNEAD IT FOR ABOUT 5 MINUTES UNTIL SMOOTH, THEN LET IT RISE IN AN OILED BOWL FOR 1 HOUR.\n",
      "\n",
      "2. THE FILLING & ASSEMBLY (ACTIVE TIME: APPROX 10 MIN)\n",
      "\n",
      "ONCE THE DOUGH HAS DOUBLED, PUNCH IT DOWN AND ROLL IT INTO A LARGE RECTANGLE (AROUND 12 IN X 18 IN). SPREAD 1/2 CUP OF SOFT BUTTER EVENLY ACROSS THE SURFACE. IN A SEPARATE BOWL, MIX 1 CUP OF PACKED BROWN SUGAR WITH 2 TABLESPOONS OF CINNAMON, AND SPRINKLE THIS RICH MIXTURE OVER THE BUTTER. ROLL THE DOUGH UP TIGHTLY FROM THE LONG EDGE INTO A CYLINDER. SLICE THIS LOG INTO 12 ROLLS AND PLACE THEM CUT-SIDE UP IN A GREASED 9 IN X 13 IN BAKING DISH. COVER AND LET THEM RISE ONE LAST TIME FOR 30 MINUTES.\n",
      "\n",
      "3. BAKE AND FROST (TOTAL TIME: APPROX 30 MIN)\n",
      "\n",
      "PREHEAT YOUR OVEN TO 375Ã‚Â°F AND BAKE THE ROLLS FOR 20 TO 25 MINUTES UNTIL THEY ARE LIGHTLY GOLDEN BROWN. AS THEY COOL SLIGHTLY, PREPARE THE FROSTING: SIMPLY BEAT TOGETHER 4 OZ OF SOFT CREAM CHEESE, 2 TBSP OF SOFT BUTTER, 1.5 CUPS OF POWDERED SUGAR, AND 1/2 TSP OF VANILLA. ADD A TABLESPOON OR TWO OF MILK UNTIL THE DESIRED FLUFFY CONSISTENCY IS REACHED. SLATHER THE WARM ROLLS GENEROUSLY WITH THE CREAM CHEESE FROSTING.\n",
      "\n",
      "ENJOY YOUR INCREDIBLY SOFT AND CINNAMON-LACED FINAL PRODUCT!\n",
      "CINNAMON ROLLS: A QUICK GUIDE\n",
      "\n",
      "Making great cinnamon rolls is about respecting the yeast and the butter. This guide focuses on efficiency for a perfectly gooey result.\n",
      "\n",
      "1. THE DOUGH (Active Time: approx 15 min)\n",
      "\n",
      "Start by activating your yeast (2.25 tsp) in 1/4 cup of warm water with a pinch of sugar. While it foams, gently melt 1/4 cup of butter into 1 cup of milk, then cool it slightly before stirring in 1/4 tsp of salt. Now, combine the yeast mixture, the milk mixture, and 1 large egg in a large bowl. Gradually add 3 to 3.5 cups of flour until a soft dough forms. Knead it for about 5 minutes until smooth, then let it rise in an oiled bowl for 1 hour.\n",
      "\n",
      "2. THE FILLING & ASSEMBLY (Active Time: approx 10 min)\n",
      "\n",
      "Once the dough has doubled, punch it down and roll it into a large rectangle (around 12 in x 18 in). Spread 1/2 cup of soft butter evenly across the surface. In a separate bowl, mix 1 cup of packed brown sugar with 2 tablespoons of cinnamon, and sprinkle this rich mixture over the butter. Roll the dough up tightly from the long edge into a cylinder. Slice this log into 12 rolls and place them cut-side up in a greased 9 in x 13 in baking dish. Cover and let them rise one last time for 30 minutes.\n",
      "\n",
      "3. BAKE AND FROST (Total Time: approx 30 min)\n",
      "\n",
      "Preheat your oven to 375Ã‚Â°F and bake the rolls for 20 to 25 minutes until they are lightly golden brown. As they cool slightly, prepare the frosting: simply beat together 4 oz of soft cream cheese, 2 Tbsp of soft butter, 1.5 cups of powdered sugar, and 1/2 tsp of vanilla. Add a tablespoon or two of milk until the desired fluffy consistency is reached. Slather the warm rolls generously with the cream cheese frosting.\n",
      "\n",
      "Enjoy your incredibly soft and cinnamon-laced final product!\n"
     ]
    }
   ],
   "source": [
    "with open('textsample.txt', 'r') as file:\n",
    "    content = file.read()\n",
    "    content = content.upper()  ## you are able to modify content\n",
    "    print(content)\n",
    "    \n",
    "with open('textsample.txt', 'r') as file: \n",
    "    content = file.read() ## but when you close and re-open the file and read again\n",
    "    print(content) ## you get the original content back"
   ]
  },
  {
   "cell_type": "code",
   "execution_count": null,
   "id": "ee6b5b8f",
   "metadata": {},
   "outputs": [],
   "source": [
    "with open('textsample.txt', 'w') as file: \n",
    "    content = file.read()\n",
    "    content = content.upper() \n",
    "    file.write(content)\n",
    "    \n",
    "## will raise error because the writer mode empties the file and you cannot read from an empty file"
   ]
  },
  {
   "cell_type": "code",
   "execution_count": null,
   "id": "c31f8844",
   "metadata": {},
   "outputs": [],
   "source": [
    "## BUT! you can save all content in a variable\n",
    "with open('textsample_backup.txt', 'r') as file:\n",
    "    content = file.read()\n",
    "\n",
    "content = content.upper() ## modify it outside the reader\n",
    "\n",
    "with open('textsample_backup.txt', 'w') as file: \n",
    "    file.write(content) ## and write the modified content back to the emptied file\n",
    "    \n",
    "with open('textsample_backup.txt', 'r') as file:\n",
    "    content = file.read() ## now when we read again\n",
    "    print(content) ## we get the modified content"
   ]
  },
  {
   "cell_type": "markdown",
   "id": "a1e78768",
   "metadata": {},
   "source": [
    "## Reading CSV files"
   ]
  },
  {
   "cell_type": "markdown",
   "id": "558849c8",
   "metadata": {},
   "source": [
    "### Method no. 1: `.read()`\n",
    "\n",
    "Manual parsing, same as with TXT files."
   ]
  },
  {
   "cell_type": "code",
   "execution_count": 7,
   "id": "2dfbe28c",
   "metadata": {},
   "outputs": [
    {
     "name": "stdout",
     "output_type": "stream",
     "text": [
      "['Date', 'Type', 'Item', 'Quantity', 'Unit Price ($)', 'Notes']\n",
      "['2025-11-01', 'Purchase', 'Bread', '100', '2.50', 'Standard supplier delivery']\n",
      "['2025-11-01', 'Sale', 'Bread', '25', '4.99', 'Morning rush sales']\n",
      "['2025-11-01', 'Sale', 'Milk', '30', '3.99', '']\n",
      "['2025-11-02', 'Purchase', 'Milk', '120', '2.80', 'Dairy farm shipment']\n",
      "['2025-11-02', 'Sale', 'Bread', '30', '4.99', '']\n",
      "['2025-11-02', 'Sale', 'Egg', '40', '0.40', '\"Sold by unit', ' not dozen\"']\n",
      "['2025-11-03', 'Purchase', 'Apple', '300', '0.30', 'Seasonal stock refill']\n",
      "['2025-11-03', 'Sale', 'Milk', '35', '3.99', '']\n",
      "['2025-11-03', 'Sale', 'Bread', '20', '4.99', '']\n",
      "['2025-11-04', 'Purchase', 'Egg', '200', '0.25', 'Weekly crate order']\n",
      "['2025-11-04', 'Sale', 'Apple', '50', '0.60', '']\n",
      "['2025-11-04', 'Sale', 'Egg', '55', '0.40', '']\n",
      "['2025-11-05', 'Sale', 'Milk', '45', '3.99', 'Afternoon traffic']\n",
      "['2025-11-05', 'Sale', 'Apple', '60', '0.60', '']\n",
      "['2025-11-05', 'Purchase', 'Bread', '150', '2.50', 'Urgent mid-week resupply']\n",
      "['2025-11-06', 'Sale', 'Bread', '40', '4.99', '']\n",
      "['2025-11-06', 'Sale', 'Egg', '65', '0.40', '']\n",
      "['2025-11-06', 'Purchase', 'Apple', '100', '0.30', 'Small local grower batch']\n",
      "['2025-11-07', 'Sale', 'Milk', '50', '3.99', 'End-of-week demand']\n",
      "['2025-11-07', 'Sale', 'Apple', '75', '0.60', '']\n"
     ]
    }
   ],
   "source": [
    "with open('csvsample.csv', 'r') as file:\n",
    "    content = file.read()\n",
    "    lines = content.split('\\n')\n",
    "    \n",
    "    for line in lines:\n",
    "        values = line.split(',')\n",
    "        print(values)"
   ]
  },
  {
   "cell_type": "markdown",
   "id": "ff27c7ac",
   "metadata": {},
   "source": [
    "### Method no. 2: Using `csv` module"
   ]
  },
  {
   "cell_type": "code",
   "execution_count": 9,
   "id": "d985947b",
   "metadata": {},
   "outputs": [],
   "source": [
    "import csv"
   ]
  },
  {
   "cell_type": "code",
   "execution_count": 10,
   "id": "ee2e29ac",
   "metadata": {},
   "outputs": [
    {
     "name": "stdout",
     "output_type": "stream",
     "text": [
      "['Date', 'Type', 'Item', 'Quantity', 'Unit Price ($)', 'Notes']\n",
      "['2025-11-01', 'Purchase', 'Bread', '100', '2.50', 'Standard supplier delivery']\n",
      "['2025-11-01', 'Sale', 'Bread', '25', '4.99', 'Morning rush sales']\n",
      "['2025-11-01', 'Sale', 'Milk', '30', '3.99', '']\n",
      "['2025-11-02', 'Purchase', 'Milk', '120', '2.80', 'Dairy farm shipment']\n",
      "['2025-11-02', 'Sale', 'Bread', '30', '4.99', '']\n",
      "['2025-11-02', 'Sale', 'Egg', '40', '0.40', 'Sold by unit, not dozen']\n",
      "['2025-11-03', 'Purchase', 'Apple', '300', '0.30', 'Seasonal stock refill']\n",
      "['2025-11-03', 'Sale', 'Milk', '35', '3.99', '']\n",
      "['2025-11-03', 'Sale', 'Bread', '20', '4.99', '']\n",
      "['2025-11-04', 'Purchase', 'Egg', '200', '0.25', 'Weekly crate order']\n",
      "['2025-11-04', 'Sale', 'Apple', '50', '0.60', '']\n",
      "['2025-11-04', 'Sale', 'Egg', '55', '0.40', '']\n",
      "['2025-11-05', 'Sale', 'Milk', '45', '3.99', 'Afternoon traffic']\n",
      "['2025-11-05', 'Sale', 'Apple', '60', '0.60', '']\n",
      "['2025-11-05', 'Purchase', 'Bread', '150', '2.50', 'Urgent mid-week resupply']\n",
      "['2025-11-06', 'Sale', 'Bread', '40', '4.99', '']\n",
      "['2025-11-06', 'Sale', 'Egg', '65', '0.40', '']\n",
      "['2025-11-06', 'Purchase', 'Apple', '100', '0.30', 'Small local grower batch']\n",
      "['2025-11-07', 'Sale', 'Milk', '50', '3.99', 'End-of-week demand']\n",
      "['2025-11-07', 'Sale', 'Apple', '75', '0.60', '']\n"
     ]
    }
   ],
   "source": [
    "with open('csvsample.csv', 'r') as file:\n",
    "    reader = csv.reader(file)\n",
    "    \n",
    "    for row in reader:\n",
    "        print(row)"
   ]
  },
  {
   "cell_type": "code",
   "execution_count": 11,
   "id": "4cd32794",
   "metadata": {},
   "outputs": [
    {
     "name": "stdout",
     "output_type": "stream",
     "text": [
      "Bread 100\n",
      "Bread 25\n",
      "Milk 30\n",
      "Milk 120\n",
      "Bread 30\n",
      "Egg 40\n",
      "Apple 300\n",
      "Milk 35\n",
      "Bread 20\n",
      "Egg 200\n",
      "Apple 50\n",
      "Egg 55\n",
      "Milk 45\n",
      "Apple 60\n",
      "Bread 150\n",
      "Bread 40\n",
      "Egg 65\n",
      "Apple 100\n",
      "Milk 50\n",
      "Apple 75\n"
     ]
    }
   ],
   "source": [
    "## csv module also has DictReader for reading rows as dictionaries\n",
    "with open('csvsample.csv', 'r') as file:\n",
    "    reader = csv.DictReader(file)\n",
    "    \n",
    "    for row in reader:\n",
    "        print(row[\"Item\"], row[\"Quantity\"])"
   ]
  },
  {
   "cell_type": "markdown",
   "id": "a853d66a",
   "metadata": {},
   "source": [
    "#### Method no. 3: Analysing Tables with `pandas`\n",
    "\n",
    "`pandas` is a Python library that helps with organising tabular data."
   ]
  },
  {
   "cell_type": "markdown",
   "id": "5db1876c",
   "metadata": {},
   "source": [
    "##### Reading Files with `pandas`"
   ]
  },
  {
   "cell_type": "code",
   "execution_count": 12,
   "id": "247b4d7c",
   "metadata": {},
   "outputs": [],
   "source": [
    "import pandas as pd"
   ]
  },
  {
   "cell_type": "code",
   "execution_count": 13,
   "id": "5dcf8832",
   "metadata": {},
   "outputs": [
    {
     "data": {
      "text/html": [
       "<div>\n",
       "<style scoped>\n",
       "    .dataframe tbody tr th:only-of-type {\n",
       "        vertical-align: middle;\n",
       "    }\n",
       "\n",
       "    .dataframe tbody tr th {\n",
       "        vertical-align: top;\n",
       "    }\n",
       "\n",
       "    .dataframe thead th {\n",
       "        text-align: right;\n",
       "    }\n",
       "</style>\n",
       "<table border=\"1\" class=\"dataframe\">\n",
       "  <thead>\n",
       "    <tr style=\"text-align: right;\">\n",
       "      <th></th>\n",
       "      <th>Date</th>\n",
       "      <th>Type</th>\n",
       "      <th>Item</th>\n",
       "      <th>Quantity</th>\n",
       "      <th>Unit Price ($)</th>\n",
       "      <th>Notes</th>\n",
       "    </tr>\n",
       "  </thead>\n",
       "  <tbody>\n",
       "    <tr>\n",
       "      <th>0</th>\n",
       "      <td>2025-11-01</td>\n",
       "      <td>Purchase</td>\n",
       "      <td>Bread</td>\n",
       "      <td>100</td>\n",
       "      <td>2.50</td>\n",
       "      <td>Standard supplier delivery</td>\n",
       "    </tr>\n",
       "    <tr>\n",
       "      <th>1</th>\n",
       "      <td>2025-11-01</td>\n",
       "      <td>Sale</td>\n",
       "      <td>Bread</td>\n",
       "      <td>25</td>\n",
       "      <td>4.99</td>\n",
       "      <td>Morning rush sales</td>\n",
       "    </tr>\n",
       "    <tr>\n",
       "      <th>2</th>\n",
       "      <td>2025-11-01</td>\n",
       "      <td>Sale</td>\n",
       "      <td>Milk</td>\n",
       "      <td>30</td>\n",
       "      <td>3.99</td>\n",
       "      <td>NaN</td>\n",
       "    </tr>\n",
       "    <tr>\n",
       "      <th>3</th>\n",
       "      <td>2025-11-02</td>\n",
       "      <td>Purchase</td>\n",
       "      <td>Milk</td>\n",
       "      <td>120</td>\n",
       "      <td>2.80</td>\n",
       "      <td>Dairy farm shipment</td>\n",
       "    </tr>\n",
       "    <tr>\n",
       "      <th>4</th>\n",
       "      <td>2025-11-02</td>\n",
       "      <td>Sale</td>\n",
       "      <td>Bread</td>\n",
       "      <td>30</td>\n",
       "      <td>4.99</td>\n",
       "      <td>NaN</td>\n",
       "    </tr>\n",
       "    <tr>\n",
       "      <th>5</th>\n",
       "      <td>2025-11-02</td>\n",
       "      <td>Sale</td>\n",
       "      <td>Egg</td>\n",
       "      <td>40</td>\n",
       "      <td>0.40</td>\n",
       "      <td>Sold by unit, not dozen</td>\n",
       "    </tr>\n",
       "    <tr>\n",
       "      <th>6</th>\n",
       "      <td>2025-11-03</td>\n",
       "      <td>Purchase</td>\n",
       "      <td>Apple</td>\n",
       "      <td>300</td>\n",
       "      <td>0.30</td>\n",
       "      <td>Seasonal stock refill</td>\n",
       "    </tr>\n",
       "    <tr>\n",
       "      <th>7</th>\n",
       "      <td>2025-11-03</td>\n",
       "      <td>Sale</td>\n",
       "      <td>Milk</td>\n",
       "      <td>35</td>\n",
       "      <td>3.99</td>\n",
       "      <td>NaN</td>\n",
       "    </tr>\n",
       "    <tr>\n",
       "      <th>8</th>\n",
       "      <td>2025-11-03</td>\n",
       "      <td>Sale</td>\n",
       "      <td>Bread</td>\n",
       "      <td>20</td>\n",
       "      <td>4.99</td>\n",
       "      <td>NaN</td>\n",
       "    </tr>\n",
       "    <tr>\n",
       "      <th>9</th>\n",
       "      <td>2025-11-04</td>\n",
       "      <td>Purchase</td>\n",
       "      <td>Egg</td>\n",
       "      <td>200</td>\n",
       "      <td>0.25</td>\n",
       "      <td>Weekly crate order</td>\n",
       "    </tr>\n",
       "    <tr>\n",
       "      <th>10</th>\n",
       "      <td>2025-11-04</td>\n",
       "      <td>Sale</td>\n",
       "      <td>Apple</td>\n",
       "      <td>50</td>\n",
       "      <td>0.60</td>\n",
       "      <td>NaN</td>\n",
       "    </tr>\n",
       "    <tr>\n",
       "      <th>11</th>\n",
       "      <td>2025-11-04</td>\n",
       "      <td>Sale</td>\n",
       "      <td>Egg</td>\n",
       "      <td>55</td>\n",
       "      <td>0.40</td>\n",
       "      <td>NaN</td>\n",
       "    </tr>\n",
       "    <tr>\n",
       "      <th>12</th>\n",
       "      <td>2025-11-05</td>\n",
       "      <td>Sale</td>\n",
       "      <td>Milk</td>\n",
       "      <td>45</td>\n",
       "      <td>3.99</td>\n",
       "      <td>Afternoon traffic</td>\n",
       "    </tr>\n",
       "    <tr>\n",
       "      <th>13</th>\n",
       "      <td>2025-11-05</td>\n",
       "      <td>Sale</td>\n",
       "      <td>Apple</td>\n",
       "      <td>60</td>\n",
       "      <td>0.60</td>\n",
       "      <td>NaN</td>\n",
       "    </tr>\n",
       "    <tr>\n",
       "      <th>14</th>\n",
       "      <td>2025-11-05</td>\n",
       "      <td>Purchase</td>\n",
       "      <td>Bread</td>\n",
       "      <td>150</td>\n",
       "      <td>2.50</td>\n",
       "      <td>Urgent mid-week resupply</td>\n",
       "    </tr>\n",
       "    <tr>\n",
       "      <th>15</th>\n",
       "      <td>2025-11-06</td>\n",
       "      <td>Sale</td>\n",
       "      <td>Bread</td>\n",
       "      <td>40</td>\n",
       "      <td>4.99</td>\n",
       "      <td>NaN</td>\n",
       "    </tr>\n",
       "    <tr>\n",
       "      <th>16</th>\n",
       "      <td>2025-11-06</td>\n",
       "      <td>Sale</td>\n",
       "      <td>Egg</td>\n",
       "      <td>65</td>\n",
       "      <td>0.40</td>\n",
       "      <td>NaN</td>\n",
       "    </tr>\n",
       "    <tr>\n",
       "      <th>17</th>\n",
       "      <td>2025-11-06</td>\n",
       "      <td>Purchase</td>\n",
       "      <td>Apple</td>\n",
       "      <td>100</td>\n",
       "      <td>0.30</td>\n",
       "      <td>Small local grower batch</td>\n",
       "    </tr>\n",
       "    <tr>\n",
       "      <th>18</th>\n",
       "      <td>2025-11-07</td>\n",
       "      <td>Sale</td>\n",
       "      <td>Milk</td>\n",
       "      <td>50</td>\n",
       "      <td>3.99</td>\n",
       "      <td>End-of-week demand</td>\n",
       "    </tr>\n",
       "    <tr>\n",
       "      <th>19</th>\n",
       "      <td>2025-11-07</td>\n",
       "      <td>Sale</td>\n",
       "      <td>Apple</td>\n",
       "      <td>75</td>\n",
       "      <td>0.60</td>\n",
       "      <td>NaN</td>\n",
       "    </tr>\n",
       "  </tbody>\n",
       "</table>\n",
       "</div>"
      ],
      "text/plain": [
       "          Date      Type   Item  Quantity  Unit Price ($)  \\\n",
       "0   2025-11-01  Purchase  Bread       100            2.50   \n",
       "1   2025-11-01      Sale  Bread        25            4.99   \n",
       "2   2025-11-01      Sale   Milk        30            3.99   \n",
       "3   2025-11-02  Purchase   Milk       120            2.80   \n",
       "4   2025-11-02      Sale  Bread        30            4.99   \n",
       "5   2025-11-02      Sale    Egg        40            0.40   \n",
       "6   2025-11-03  Purchase  Apple       300            0.30   \n",
       "7   2025-11-03      Sale   Milk        35            3.99   \n",
       "8   2025-11-03      Sale  Bread        20            4.99   \n",
       "9   2025-11-04  Purchase    Egg       200            0.25   \n",
       "10  2025-11-04      Sale  Apple        50            0.60   \n",
       "11  2025-11-04      Sale    Egg        55            0.40   \n",
       "12  2025-11-05      Sale   Milk        45            3.99   \n",
       "13  2025-11-05      Sale  Apple        60            0.60   \n",
       "14  2025-11-05  Purchase  Bread       150            2.50   \n",
       "15  2025-11-06      Sale  Bread        40            4.99   \n",
       "16  2025-11-06      Sale    Egg        65            0.40   \n",
       "17  2025-11-06  Purchase  Apple       100            0.30   \n",
       "18  2025-11-07      Sale   Milk        50            3.99   \n",
       "19  2025-11-07      Sale  Apple        75            0.60   \n",
       "\n",
       "                         Notes  \n",
       "0   Standard supplier delivery  \n",
       "1           Morning rush sales  \n",
       "2                          NaN  \n",
       "3          Dairy farm shipment  \n",
       "4                          NaN  \n",
       "5      Sold by unit, not dozen  \n",
       "6        Seasonal stock refill  \n",
       "7                          NaN  \n",
       "8                          NaN  \n",
       "9           Weekly crate order  \n",
       "10                         NaN  \n",
       "11                         NaN  \n",
       "12           Afternoon traffic  \n",
       "13                         NaN  \n",
       "14    Urgent mid-week resupply  \n",
       "15                         NaN  \n",
       "16                         NaN  \n",
       "17    Small local grower batch  \n",
       "18          End-of-week demand  \n",
       "19                         NaN  "
      ]
     },
     "execution_count": 13,
     "metadata": {},
     "output_type": "execute_result"
    }
   ],
   "source": [
    "df = pd.read_csv('csvsample.csv')\n",
    "\n",
    "df ## command that works in Jupyter Notebooks and VS Code Notebooks instead of print()"
   ]
  },
  {
   "cell_type": "markdown",
   "id": "6edf2b4a",
   "metadata": {},
   "source": [
    "##### Other stuff `pandas` can do"
   ]
  },
  {
   "cell_type": "markdown",
   "id": "5950c786",
   "metadata": {},
   "source": [
    "###### Printing some basic table info"
   ]
  },
  {
   "cell_type": "code",
   "execution_count": 14,
   "id": "d6dc231c",
   "metadata": {},
   "outputs": [
    {
     "data": {
      "text/html": [
       "<div>\n",
       "<style scoped>\n",
       "    .dataframe tbody tr th:only-of-type {\n",
       "        vertical-align: middle;\n",
       "    }\n",
       "\n",
       "    .dataframe tbody tr th {\n",
       "        vertical-align: top;\n",
       "    }\n",
       "\n",
       "    .dataframe thead th {\n",
       "        text-align: right;\n",
       "    }\n",
       "</style>\n",
       "<table border=\"1\" class=\"dataframe\">\n",
       "  <thead>\n",
       "    <tr style=\"text-align: right;\">\n",
       "      <th></th>\n",
       "      <th>Date</th>\n",
       "      <th>Type</th>\n",
       "      <th>Item</th>\n",
       "      <th>Quantity</th>\n",
       "      <th>Unit Price ($)</th>\n",
       "      <th>Notes</th>\n",
       "    </tr>\n",
       "  </thead>\n",
       "  <tbody>\n",
       "    <tr>\n",
       "      <th>0</th>\n",
       "      <td>2025-11-01</td>\n",
       "      <td>Purchase</td>\n",
       "      <td>Bread</td>\n",
       "      <td>100</td>\n",
       "      <td>2.50</td>\n",
       "      <td>Standard supplier delivery</td>\n",
       "    </tr>\n",
       "    <tr>\n",
       "      <th>1</th>\n",
       "      <td>2025-11-01</td>\n",
       "      <td>Sale</td>\n",
       "      <td>Bread</td>\n",
       "      <td>25</td>\n",
       "      <td>4.99</td>\n",
       "      <td>Morning rush sales</td>\n",
       "    </tr>\n",
       "    <tr>\n",
       "      <th>2</th>\n",
       "      <td>2025-11-01</td>\n",
       "      <td>Sale</td>\n",
       "      <td>Milk</td>\n",
       "      <td>30</td>\n",
       "      <td>3.99</td>\n",
       "      <td>NaN</td>\n",
       "    </tr>\n",
       "  </tbody>\n",
       "</table>\n",
       "</div>"
      ],
      "text/plain": [
       "         Date      Type   Item  Quantity  Unit Price ($)  \\\n",
       "0  2025-11-01  Purchase  Bread       100            2.50   \n",
       "1  2025-11-01      Sale  Bread        25            4.99   \n",
       "2  2025-11-01      Sale   Milk        30            3.99   \n",
       "\n",
       "                        Notes  \n",
       "0  Standard supplier delivery  \n",
       "1          Morning rush sales  \n",
       "2                         NaN  "
      ]
     },
     "execution_count": 14,
     "metadata": {},
     "output_type": "execute_result"
    }
   ],
   "source": [
    "df.head(3) ## prints first 3 rows"
   ]
  },
  {
   "cell_type": "code",
   "execution_count": 15,
   "id": "31a57755",
   "metadata": {},
   "outputs": [
    {
     "data": {
      "text/html": [
       "<div>\n",
       "<style scoped>\n",
       "    .dataframe tbody tr th:only-of-type {\n",
       "        vertical-align: middle;\n",
       "    }\n",
       "\n",
       "    .dataframe tbody tr th {\n",
       "        vertical-align: top;\n",
       "    }\n",
       "\n",
       "    .dataframe thead th {\n",
       "        text-align: right;\n",
       "    }\n",
       "</style>\n",
       "<table border=\"1\" class=\"dataframe\">\n",
       "  <thead>\n",
       "    <tr style=\"text-align: right;\">\n",
       "      <th></th>\n",
       "      <th>Date</th>\n",
       "      <th>Type</th>\n",
       "      <th>Item</th>\n",
       "      <th>Quantity</th>\n",
       "      <th>Unit Price ($)</th>\n",
       "      <th>Notes</th>\n",
       "    </tr>\n",
       "  </thead>\n",
       "  <tbody>\n",
       "    <tr>\n",
       "      <th>15</th>\n",
       "      <td>2025-11-06</td>\n",
       "      <td>Sale</td>\n",
       "      <td>Bread</td>\n",
       "      <td>40</td>\n",
       "      <td>4.99</td>\n",
       "      <td>NaN</td>\n",
       "    </tr>\n",
       "    <tr>\n",
       "      <th>16</th>\n",
       "      <td>2025-11-06</td>\n",
       "      <td>Sale</td>\n",
       "      <td>Egg</td>\n",
       "      <td>65</td>\n",
       "      <td>0.40</td>\n",
       "      <td>NaN</td>\n",
       "    </tr>\n",
       "    <tr>\n",
       "      <th>17</th>\n",
       "      <td>2025-11-06</td>\n",
       "      <td>Purchase</td>\n",
       "      <td>Apple</td>\n",
       "      <td>100</td>\n",
       "      <td>0.30</td>\n",
       "      <td>Small local grower batch</td>\n",
       "    </tr>\n",
       "    <tr>\n",
       "      <th>18</th>\n",
       "      <td>2025-11-07</td>\n",
       "      <td>Sale</td>\n",
       "      <td>Milk</td>\n",
       "      <td>50</td>\n",
       "      <td>3.99</td>\n",
       "      <td>End-of-week demand</td>\n",
       "    </tr>\n",
       "    <tr>\n",
       "      <th>19</th>\n",
       "      <td>2025-11-07</td>\n",
       "      <td>Sale</td>\n",
       "      <td>Apple</td>\n",
       "      <td>75</td>\n",
       "      <td>0.60</td>\n",
       "      <td>NaN</td>\n",
       "    </tr>\n",
       "  </tbody>\n",
       "</table>\n",
       "</div>"
      ],
      "text/plain": [
       "          Date      Type   Item  Quantity  Unit Price ($)  \\\n",
       "15  2025-11-06      Sale  Bread        40            4.99   \n",
       "16  2025-11-06      Sale    Egg        65            0.40   \n",
       "17  2025-11-06  Purchase  Apple       100            0.30   \n",
       "18  2025-11-07      Sale   Milk        50            3.99   \n",
       "19  2025-11-07      Sale  Apple        75            0.60   \n",
       "\n",
       "                       Notes  \n",
       "15                       NaN  \n",
       "16                       NaN  \n",
       "17  Small local grower batch  \n",
       "18        End-of-week demand  \n",
       "19                       NaN  "
      ]
     },
     "execution_count": 15,
     "metadata": {},
     "output_type": "execute_result"
    }
   ],
   "source": [
    "df.tail() ## prints last 5 rows by default"
   ]
  },
  {
   "cell_type": "code",
   "execution_count": 16,
   "id": "4a02013a",
   "metadata": {},
   "outputs": [
    {
     "data": {
      "text/plain": [
       "Index(['Date', 'Type', 'Item', 'Quantity', 'Unit Price ($)', 'Notes'], dtype='object')"
      ]
     },
     "execution_count": 16,
     "metadata": {},
     "output_type": "execute_result"
    }
   ],
   "source": [
    "df.columns ## prints column names as an Index object"
   ]
  },
  {
   "cell_type": "code",
   "execution_count": 17,
   "id": "0119f62b",
   "metadata": {},
   "outputs": [
    {
     "name": "stdout",
     "output_type": "stream",
     "text": [
      "(20, 6)\n"
     ]
    }
   ],
   "source": [
    "print(df.shape) ## prints the table's \"shape\" (rows, columns)"
   ]
  },
  {
   "cell_type": "markdown",
   "id": "5c404fc4",
   "metadata": {},
   "source": [
    "###### Iterating over Columns"
   ]
  },
  {
   "cell_type": "code",
   "execution_count": 18,
   "id": "f66d98c6",
   "metadata": {},
   "outputs": [
    {
     "name": "stdout",
     "output_type": "stream",
     "text": [
      "0     Bread\n",
      "1     Bread\n",
      "2      Milk\n",
      "3      Milk\n",
      "4     Bread\n",
      "5       Egg\n",
      "6     Apple\n",
      "7      Milk\n",
      "8     Bread\n",
      "9       Egg\n",
      "10    Apple\n",
      "11      Egg\n",
      "12     Milk\n",
      "13    Apple\n",
      "14    Bread\n",
      "15    Bread\n",
      "16      Egg\n",
      "17    Apple\n",
      "18     Milk\n",
      "19    Apple\n",
      "Name: Item, dtype: object\n"
     ]
    }
   ],
   "source": [
    "print(df['Item']) ## prints the \"Item\" column"
   ]
  },
  {
   "cell_type": "code",
   "execution_count": 19,
   "id": "50091795",
   "metadata": {},
   "outputs": [
    {
     "data": {
      "text/plain": [
       "pandas.core.series.Series"
      ]
     },
     "execution_count": 19,
     "metadata": {},
     "output_type": "execute_result"
    }
   ],
   "source": [
    "type(df['Item']) ## the type is a Pandas Series"
   ]
  },
  {
   "cell_type": "code",
   "execution_count": 20,
   "id": "fdc8fa77",
   "metadata": {},
   "outputs": [
    {
     "name": "stdout",
     "output_type": "stream",
     "text": [
      "Bread\n",
      "Bread\n",
      "Milk\n",
      "Milk\n",
      "Bread\n",
      "Egg\n",
      "Apple\n",
      "Milk\n",
      "Bread\n",
      "Egg\n",
      "Apple\n",
      "Egg\n",
      "Milk\n",
      "Apple\n",
      "Bread\n",
      "Bread\n",
      "Egg\n",
      "Apple\n",
      "Milk\n",
      "Apple\n"
     ]
    }
   ],
   "source": [
    "## so we can iterate over it!\n",
    "for item in df['Item']:\n",
    "    print(item)"
   ]
  },
  {
   "cell_type": "markdown",
   "id": "774c7c94",
   "metadata": {},
   "source": [
    "###### Filtering"
   ]
  },
  {
   "cell_type": "code",
   "execution_count": 21,
   "id": "dc40029b",
   "metadata": {},
   "outputs": [
    {
     "data": {
      "text/html": [
       "<div>\n",
       "<style scoped>\n",
       "    .dataframe tbody tr th:only-of-type {\n",
       "        vertical-align: middle;\n",
       "    }\n",
       "\n",
       "    .dataframe tbody tr th {\n",
       "        vertical-align: top;\n",
       "    }\n",
       "\n",
       "    .dataframe thead th {\n",
       "        text-align: right;\n",
       "    }\n",
       "</style>\n",
       "<table border=\"1\" class=\"dataframe\">\n",
       "  <thead>\n",
       "    <tr style=\"text-align: right;\">\n",
       "      <th></th>\n",
       "      <th>Date</th>\n",
       "      <th>Type</th>\n",
       "      <th>Item</th>\n",
       "      <th>Quantity</th>\n",
       "      <th>Unit Price ($)</th>\n",
       "      <th>Notes</th>\n",
       "    </tr>\n",
       "  </thead>\n",
       "  <tbody>\n",
       "    <tr>\n",
       "      <th>0</th>\n",
       "      <td>2025-11-01</td>\n",
       "      <td>Purchase</td>\n",
       "      <td>Bread</td>\n",
       "      <td>100</td>\n",
       "      <td>2.50</td>\n",
       "      <td>Standard supplier delivery</td>\n",
       "    </tr>\n",
       "    <tr>\n",
       "      <th>3</th>\n",
       "      <td>2025-11-02</td>\n",
       "      <td>Purchase</td>\n",
       "      <td>Milk</td>\n",
       "      <td>120</td>\n",
       "      <td>2.80</td>\n",
       "      <td>Dairy farm shipment</td>\n",
       "    </tr>\n",
       "    <tr>\n",
       "      <th>6</th>\n",
       "      <td>2025-11-03</td>\n",
       "      <td>Purchase</td>\n",
       "      <td>Apple</td>\n",
       "      <td>300</td>\n",
       "      <td>0.30</td>\n",
       "      <td>Seasonal stock refill</td>\n",
       "    </tr>\n",
       "    <tr>\n",
       "      <th>9</th>\n",
       "      <td>2025-11-04</td>\n",
       "      <td>Purchase</td>\n",
       "      <td>Egg</td>\n",
       "      <td>200</td>\n",
       "      <td>0.25</td>\n",
       "      <td>Weekly crate order</td>\n",
       "    </tr>\n",
       "    <tr>\n",
       "      <th>14</th>\n",
       "      <td>2025-11-05</td>\n",
       "      <td>Purchase</td>\n",
       "      <td>Bread</td>\n",
       "      <td>150</td>\n",
       "      <td>2.50</td>\n",
       "      <td>Urgent mid-week resupply</td>\n",
       "    </tr>\n",
       "    <tr>\n",
       "      <th>17</th>\n",
       "      <td>2025-11-06</td>\n",
       "      <td>Purchase</td>\n",
       "      <td>Apple</td>\n",
       "      <td>100</td>\n",
       "      <td>0.30</td>\n",
       "      <td>Small local grower batch</td>\n",
       "    </tr>\n",
       "  </tbody>\n",
       "</table>\n",
       "</div>"
      ],
      "text/plain": [
       "          Date      Type   Item  Quantity  Unit Price ($)  \\\n",
       "0   2025-11-01  Purchase  Bread       100            2.50   \n",
       "3   2025-11-02  Purchase   Milk       120            2.80   \n",
       "6   2025-11-03  Purchase  Apple       300            0.30   \n",
       "9   2025-11-04  Purchase    Egg       200            0.25   \n",
       "14  2025-11-05  Purchase  Bread       150            2.50   \n",
       "17  2025-11-06  Purchase  Apple       100            0.30   \n",
       "\n",
       "                         Notes  \n",
       "0   Standard supplier delivery  \n",
       "3          Dairy farm shipment  \n",
       "6        Seasonal stock refill  \n",
       "9           Weekly crate order  \n",
       "14    Urgent mid-week resupply  \n",
       "17    Small local grower batch  "
      ]
     },
     "execution_count": 21,
     "metadata": {},
     "output_type": "execute_result"
    }
   ],
   "source": [
    "purchases = df[df['Type'] == 'Purchase'] ## makes a new df with only rows from previous df where Type is 'Purchase'; note that python filters everything that reurns True\n",
    "purchases"
   ]
  },
  {
   "cell_type": "code",
   "execution_count": 22,
   "id": "66ff156f",
   "metadata": {},
   "outputs": [
    {
     "data": {
      "text/html": [
       "<div>\n",
       "<style scoped>\n",
       "    .dataframe tbody tr th:only-of-type {\n",
       "        vertical-align: middle;\n",
       "    }\n",
       "\n",
       "    .dataframe tbody tr th {\n",
       "        vertical-align: top;\n",
       "    }\n",
       "\n",
       "    .dataframe thead th {\n",
       "        text-align: right;\n",
       "    }\n",
       "</style>\n",
       "<table border=\"1\" class=\"dataframe\">\n",
       "  <thead>\n",
       "    <tr style=\"text-align: right;\">\n",
       "      <th></th>\n",
       "      <th>Date</th>\n",
       "      <th>Type</th>\n",
       "      <th>Item</th>\n",
       "      <th>Quantity</th>\n",
       "      <th>Unit Price ($)</th>\n",
       "      <th>Notes</th>\n",
       "    </tr>\n",
       "  </thead>\n",
       "  <tbody>\n",
       "    <tr>\n",
       "      <th>2</th>\n",
       "      <td>2025-11-01</td>\n",
       "      <td>Sale</td>\n",
       "      <td>Milk</td>\n",
       "      <td>30</td>\n",
       "      <td>3.99</td>\n",
       "      <td>NaN</td>\n",
       "    </tr>\n",
       "    <tr>\n",
       "      <th>7</th>\n",
       "      <td>2025-11-03</td>\n",
       "      <td>Sale</td>\n",
       "      <td>Milk</td>\n",
       "      <td>35</td>\n",
       "      <td>3.99</td>\n",
       "      <td>NaN</td>\n",
       "    </tr>\n",
       "    <tr>\n",
       "      <th>12</th>\n",
       "      <td>2025-11-05</td>\n",
       "      <td>Sale</td>\n",
       "      <td>Milk</td>\n",
       "      <td>45</td>\n",
       "      <td>3.99</td>\n",
       "      <td>Afternoon traffic</td>\n",
       "    </tr>\n",
       "    <tr>\n",
       "      <th>18</th>\n",
       "      <td>2025-11-07</td>\n",
       "      <td>Sale</td>\n",
       "      <td>Milk</td>\n",
       "      <td>50</td>\n",
       "      <td>3.99</td>\n",
       "      <td>End-of-week demand</td>\n",
       "    </tr>\n",
       "  </tbody>\n",
       "</table>\n",
       "</div>"
      ],
      "text/plain": [
       "          Date  Type  Item  Quantity  Unit Price ($)               Notes\n",
       "2   2025-11-01  Sale  Milk        30            3.99                 NaN\n",
       "7   2025-11-03  Sale  Milk        35            3.99                 NaN\n",
       "12  2025-11-05  Sale  Milk        45            3.99   Afternoon traffic\n",
       "18  2025-11-07  Sale  Milk        50            3.99  End-of-week demand"
      ]
     },
     "execution_count": 22,
     "metadata": {},
     "output_type": "execute_result"
    }
   ],
   "source": [
    "## inside the brackets, we can use multiple logical operators with & (and) and | (or)\n",
    "milk_sales = df[(df['Item'] == 'Milk') & (df['Type'] == 'Sale')]\n",
    "milk_sales"
   ]
  },
  {
   "cell_type": "code",
   "execution_count": 23,
   "id": "fa0c288f",
   "metadata": {},
   "outputs": [
    {
     "data": {
      "text/html": [
       "<div>\n",
       "<style scoped>\n",
       "    .dataframe tbody tr th:only-of-type {\n",
       "        vertical-align: middle;\n",
       "    }\n",
       "\n",
       "    .dataframe tbody tr th {\n",
       "        vertical-align: top;\n",
       "    }\n",
       "\n",
       "    .dataframe thead th {\n",
       "        text-align: right;\n",
       "    }\n",
       "</style>\n",
       "<table border=\"1\" class=\"dataframe\">\n",
       "  <thead>\n",
       "    <tr style=\"text-align: right;\">\n",
       "      <th></th>\n",
       "      <th>Date</th>\n",
       "      <th>Type</th>\n",
       "      <th>Item</th>\n",
       "      <th>Quantity</th>\n",
       "      <th>Unit Price ($)</th>\n",
       "      <th>Notes</th>\n",
       "    </tr>\n",
       "  </thead>\n",
       "  <tbody>\n",
       "    <tr>\n",
       "      <th>0</th>\n",
       "      <td>2025-11-01</td>\n",
       "      <td>Purchase</td>\n",
       "      <td>Bread</td>\n",
       "      <td>100</td>\n",
       "      <td>2.50</td>\n",
       "      <td>Standard supplier delivery</td>\n",
       "    </tr>\n",
       "    <tr>\n",
       "      <th>3</th>\n",
       "      <td>2025-11-02</td>\n",
       "      <td>Purchase</td>\n",
       "      <td>Milk</td>\n",
       "      <td>120</td>\n",
       "      <td>2.80</td>\n",
       "      <td>Dairy farm shipment</td>\n",
       "    </tr>\n",
       "    <tr>\n",
       "      <th>6</th>\n",
       "      <td>2025-11-03</td>\n",
       "      <td>Purchase</td>\n",
       "      <td>Apple</td>\n",
       "      <td>300</td>\n",
       "      <td>0.30</td>\n",
       "      <td>Seasonal stock refill</td>\n",
       "    </tr>\n",
       "    <tr>\n",
       "      <th>9</th>\n",
       "      <td>2025-11-04</td>\n",
       "      <td>Purchase</td>\n",
       "      <td>Egg</td>\n",
       "      <td>200</td>\n",
       "      <td>0.25</td>\n",
       "      <td>Weekly crate order</td>\n",
       "    </tr>\n",
       "    <tr>\n",
       "      <th>11</th>\n",
       "      <td>2025-11-04</td>\n",
       "      <td>Sale</td>\n",
       "      <td>Egg</td>\n",
       "      <td>55</td>\n",
       "      <td>0.40</td>\n",
       "      <td>NaN</td>\n",
       "    </tr>\n",
       "    <tr>\n",
       "      <th>13</th>\n",
       "      <td>2025-11-05</td>\n",
       "      <td>Sale</td>\n",
       "      <td>Apple</td>\n",
       "      <td>60</td>\n",
       "      <td>0.60</td>\n",
       "      <td>NaN</td>\n",
       "    </tr>\n",
       "    <tr>\n",
       "      <th>14</th>\n",
       "      <td>2025-11-05</td>\n",
       "      <td>Purchase</td>\n",
       "      <td>Bread</td>\n",
       "      <td>150</td>\n",
       "      <td>2.50</td>\n",
       "      <td>Urgent mid-week resupply</td>\n",
       "    </tr>\n",
       "    <tr>\n",
       "      <th>16</th>\n",
       "      <td>2025-11-06</td>\n",
       "      <td>Sale</td>\n",
       "      <td>Egg</td>\n",
       "      <td>65</td>\n",
       "      <td>0.40</td>\n",
       "      <td>NaN</td>\n",
       "    </tr>\n",
       "    <tr>\n",
       "      <th>17</th>\n",
       "      <td>2025-11-06</td>\n",
       "      <td>Purchase</td>\n",
       "      <td>Apple</td>\n",
       "      <td>100</td>\n",
       "      <td>0.30</td>\n",
       "      <td>Small local grower batch</td>\n",
       "    </tr>\n",
       "    <tr>\n",
       "      <th>19</th>\n",
       "      <td>2025-11-07</td>\n",
       "      <td>Sale</td>\n",
       "      <td>Apple</td>\n",
       "      <td>75</td>\n",
       "      <td>0.60</td>\n",
       "      <td>NaN</td>\n",
       "    </tr>\n",
       "  </tbody>\n",
       "</table>\n",
       "</div>"
      ],
      "text/plain": [
       "          Date      Type   Item  Quantity  Unit Price ($)  \\\n",
       "0   2025-11-01  Purchase  Bread       100            2.50   \n",
       "3   2025-11-02  Purchase   Milk       120            2.80   \n",
       "6   2025-11-03  Purchase  Apple       300            0.30   \n",
       "9   2025-11-04  Purchase    Egg       200            0.25   \n",
       "11  2025-11-04      Sale    Egg        55            0.40   \n",
       "13  2025-11-05      Sale  Apple        60            0.60   \n",
       "14  2025-11-05  Purchase  Bread       150            2.50   \n",
       "16  2025-11-06      Sale    Egg        65            0.40   \n",
       "17  2025-11-06  Purchase  Apple       100            0.30   \n",
       "19  2025-11-07      Sale  Apple        75            0.60   \n",
       "\n",
       "                         Notes  \n",
       "0   Standard supplier delivery  \n",
       "3          Dairy farm shipment  \n",
       "6        Seasonal stock refill  \n",
       "9           Weekly crate order  \n",
       "11                         NaN  \n",
       "13                         NaN  \n",
       "14    Urgent mid-week resupply  \n",
       "16                         NaN  \n",
       "17    Small local grower batch  \n",
       "19                         NaN  "
      ]
     },
     "execution_count": 23,
     "metadata": {},
     "output_type": "execute_result"
    }
   ],
   "source": [
    "large_orders = df[df['Quantity'] > 50]\n",
    "large_orders"
   ]
  },
  {
   "cell_type": "markdown",
   "id": "af8a35e6",
   "metadata": {},
   "source": [
    "###### Adding New Cols"
   ]
  },
  {
   "cell_type": "code",
   "execution_count": 24,
   "id": "19536eb0",
   "metadata": {},
   "outputs": [
    {
     "data": {
      "text/html": [
       "<div>\n",
       "<style scoped>\n",
       "    .dataframe tbody tr th:only-of-type {\n",
       "        vertical-align: middle;\n",
       "    }\n",
       "\n",
       "    .dataframe tbody tr th {\n",
       "        vertical-align: top;\n",
       "    }\n",
       "\n",
       "    .dataframe thead th {\n",
       "        text-align: right;\n",
       "    }\n",
       "</style>\n",
       "<table border=\"1\" class=\"dataframe\">\n",
       "  <thead>\n",
       "    <tr style=\"text-align: right;\">\n",
       "      <th></th>\n",
       "      <th>Date</th>\n",
       "      <th>Type</th>\n",
       "      <th>Item</th>\n",
       "      <th>Quantity</th>\n",
       "      <th>Unit Price ($)</th>\n",
       "      <th>Notes</th>\n",
       "      <th>Total Value</th>\n",
       "    </tr>\n",
       "  </thead>\n",
       "  <tbody>\n",
       "    <tr>\n",
       "      <th>0</th>\n",
       "      <td>2025-11-01</td>\n",
       "      <td>Purchase</td>\n",
       "      <td>Bread</td>\n",
       "      <td>100</td>\n",
       "      <td>2.50</td>\n",
       "      <td>Standard supplier delivery</td>\n",
       "      <td>250.00</td>\n",
       "    </tr>\n",
       "    <tr>\n",
       "      <th>1</th>\n",
       "      <td>2025-11-01</td>\n",
       "      <td>Sale</td>\n",
       "      <td>Bread</td>\n",
       "      <td>25</td>\n",
       "      <td>4.99</td>\n",
       "      <td>Morning rush sales</td>\n",
       "      <td>124.75</td>\n",
       "    </tr>\n",
       "    <tr>\n",
       "      <th>2</th>\n",
       "      <td>2025-11-01</td>\n",
       "      <td>Sale</td>\n",
       "      <td>Milk</td>\n",
       "      <td>30</td>\n",
       "      <td>3.99</td>\n",
       "      <td>NaN</td>\n",
       "      <td>119.70</td>\n",
       "    </tr>\n",
       "    <tr>\n",
       "      <th>3</th>\n",
       "      <td>2025-11-02</td>\n",
       "      <td>Purchase</td>\n",
       "      <td>Milk</td>\n",
       "      <td>120</td>\n",
       "      <td>2.80</td>\n",
       "      <td>Dairy farm shipment</td>\n",
       "      <td>336.00</td>\n",
       "    </tr>\n",
       "    <tr>\n",
       "      <th>4</th>\n",
       "      <td>2025-11-02</td>\n",
       "      <td>Sale</td>\n",
       "      <td>Bread</td>\n",
       "      <td>30</td>\n",
       "      <td>4.99</td>\n",
       "      <td>NaN</td>\n",
       "      <td>149.70</td>\n",
       "    </tr>\n",
       "    <tr>\n",
       "      <th>5</th>\n",
       "      <td>2025-11-02</td>\n",
       "      <td>Sale</td>\n",
       "      <td>Egg</td>\n",
       "      <td>40</td>\n",
       "      <td>0.40</td>\n",
       "      <td>Sold by unit, not dozen</td>\n",
       "      <td>16.00</td>\n",
       "    </tr>\n",
       "    <tr>\n",
       "      <th>6</th>\n",
       "      <td>2025-11-03</td>\n",
       "      <td>Purchase</td>\n",
       "      <td>Apple</td>\n",
       "      <td>300</td>\n",
       "      <td>0.30</td>\n",
       "      <td>Seasonal stock refill</td>\n",
       "      <td>90.00</td>\n",
       "    </tr>\n",
       "    <tr>\n",
       "      <th>7</th>\n",
       "      <td>2025-11-03</td>\n",
       "      <td>Sale</td>\n",
       "      <td>Milk</td>\n",
       "      <td>35</td>\n",
       "      <td>3.99</td>\n",
       "      <td>NaN</td>\n",
       "      <td>139.65</td>\n",
       "    </tr>\n",
       "    <tr>\n",
       "      <th>8</th>\n",
       "      <td>2025-11-03</td>\n",
       "      <td>Sale</td>\n",
       "      <td>Bread</td>\n",
       "      <td>20</td>\n",
       "      <td>4.99</td>\n",
       "      <td>NaN</td>\n",
       "      <td>99.80</td>\n",
       "    </tr>\n",
       "    <tr>\n",
       "      <th>9</th>\n",
       "      <td>2025-11-04</td>\n",
       "      <td>Purchase</td>\n",
       "      <td>Egg</td>\n",
       "      <td>200</td>\n",
       "      <td>0.25</td>\n",
       "      <td>Weekly crate order</td>\n",
       "      <td>50.00</td>\n",
       "    </tr>\n",
       "    <tr>\n",
       "      <th>10</th>\n",
       "      <td>2025-11-04</td>\n",
       "      <td>Sale</td>\n",
       "      <td>Apple</td>\n",
       "      <td>50</td>\n",
       "      <td>0.60</td>\n",
       "      <td>NaN</td>\n",
       "      <td>30.00</td>\n",
       "    </tr>\n",
       "    <tr>\n",
       "      <th>11</th>\n",
       "      <td>2025-11-04</td>\n",
       "      <td>Sale</td>\n",
       "      <td>Egg</td>\n",
       "      <td>55</td>\n",
       "      <td>0.40</td>\n",
       "      <td>NaN</td>\n",
       "      <td>22.00</td>\n",
       "    </tr>\n",
       "    <tr>\n",
       "      <th>12</th>\n",
       "      <td>2025-11-05</td>\n",
       "      <td>Sale</td>\n",
       "      <td>Milk</td>\n",
       "      <td>45</td>\n",
       "      <td>3.99</td>\n",
       "      <td>Afternoon traffic</td>\n",
       "      <td>179.55</td>\n",
       "    </tr>\n",
       "    <tr>\n",
       "      <th>13</th>\n",
       "      <td>2025-11-05</td>\n",
       "      <td>Sale</td>\n",
       "      <td>Apple</td>\n",
       "      <td>60</td>\n",
       "      <td>0.60</td>\n",
       "      <td>NaN</td>\n",
       "      <td>36.00</td>\n",
       "    </tr>\n",
       "    <tr>\n",
       "      <th>14</th>\n",
       "      <td>2025-11-05</td>\n",
       "      <td>Purchase</td>\n",
       "      <td>Bread</td>\n",
       "      <td>150</td>\n",
       "      <td>2.50</td>\n",
       "      <td>Urgent mid-week resupply</td>\n",
       "      <td>375.00</td>\n",
       "    </tr>\n",
       "    <tr>\n",
       "      <th>15</th>\n",
       "      <td>2025-11-06</td>\n",
       "      <td>Sale</td>\n",
       "      <td>Bread</td>\n",
       "      <td>40</td>\n",
       "      <td>4.99</td>\n",
       "      <td>NaN</td>\n",
       "      <td>199.60</td>\n",
       "    </tr>\n",
       "    <tr>\n",
       "      <th>16</th>\n",
       "      <td>2025-11-06</td>\n",
       "      <td>Sale</td>\n",
       "      <td>Egg</td>\n",
       "      <td>65</td>\n",
       "      <td>0.40</td>\n",
       "      <td>NaN</td>\n",
       "      <td>26.00</td>\n",
       "    </tr>\n",
       "    <tr>\n",
       "      <th>17</th>\n",
       "      <td>2025-11-06</td>\n",
       "      <td>Purchase</td>\n",
       "      <td>Apple</td>\n",
       "      <td>100</td>\n",
       "      <td>0.30</td>\n",
       "      <td>Small local grower batch</td>\n",
       "      <td>30.00</td>\n",
       "    </tr>\n",
       "    <tr>\n",
       "      <th>18</th>\n",
       "      <td>2025-11-07</td>\n",
       "      <td>Sale</td>\n",
       "      <td>Milk</td>\n",
       "      <td>50</td>\n",
       "      <td>3.99</td>\n",
       "      <td>End-of-week demand</td>\n",
       "      <td>199.50</td>\n",
       "    </tr>\n",
       "    <tr>\n",
       "      <th>19</th>\n",
       "      <td>2025-11-07</td>\n",
       "      <td>Sale</td>\n",
       "      <td>Apple</td>\n",
       "      <td>75</td>\n",
       "      <td>0.60</td>\n",
       "      <td>NaN</td>\n",
       "      <td>45.00</td>\n",
       "    </tr>\n",
       "  </tbody>\n",
       "</table>\n",
       "</div>"
      ],
      "text/plain": [
       "          Date      Type   Item  Quantity  Unit Price ($)  \\\n",
       "0   2025-11-01  Purchase  Bread       100            2.50   \n",
       "1   2025-11-01      Sale  Bread        25            4.99   \n",
       "2   2025-11-01      Sale   Milk        30            3.99   \n",
       "3   2025-11-02  Purchase   Milk       120            2.80   \n",
       "4   2025-11-02      Sale  Bread        30            4.99   \n",
       "5   2025-11-02      Sale    Egg        40            0.40   \n",
       "6   2025-11-03  Purchase  Apple       300            0.30   \n",
       "7   2025-11-03      Sale   Milk        35            3.99   \n",
       "8   2025-11-03      Sale  Bread        20            4.99   \n",
       "9   2025-11-04  Purchase    Egg       200            0.25   \n",
       "10  2025-11-04      Sale  Apple        50            0.60   \n",
       "11  2025-11-04      Sale    Egg        55            0.40   \n",
       "12  2025-11-05      Sale   Milk        45            3.99   \n",
       "13  2025-11-05      Sale  Apple        60            0.60   \n",
       "14  2025-11-05  Purchase  Bread       150            2.50   \n",
       "15  2025-11-06      Sale  Bread        40            4.99   \n",
       "16  2025-11-06      Sale    Egg        65            0.40   \n",
       "17  2025-11-06  Purchase  Apple       100            0.30   \n",
       "18  2025-11-07      Sale   Milk        50            3.99   \n",
       "19  2025-11-07      Sale  Apple        75            0.60   \n",
       "\n",
       "                         Notes  Total Value  \n",
       "0   Standard supplier delivery       250.00  \n",
       "1           Morning rush sales       124.75  \n",
       "2                          NaN       119.70  \n",
       "3          Dairy farm shipment       336.00  \n",
       "4                          NaN       149.70  \n",
       "5      Sold by unit, not dozen        16.00  \n",
       "6        Seasonal stock refill        90.00  \n",
       "7                          NaN       139.65  \n",
       "8                          NaN        99.80  \n",
       "9           Weekly crate order        50.00  \n",
       "10                         NaN        30.00  \n",
       "11                         NaN        22.00  \n",
       "12           Afternoon traffic       179.55  \n",
       "13                         NaN        36.00  \n",
       "14    Urgent mid-week resupply       375.00  \n",
       "15                         NaN       199.60  \n",
       "16                         NaN        26.00  \n",
       "17    Small local grower batch        30.00  \n",
       "18          End-of-week demand       199.50  \n",
       "19                         NaN        45.00  "
      ]
     },
     "execution_count": 24,
     "metadata": {},
     "output_type": "execute_result"
    }
   ],
   "source": [
    "df['Total Value'] = df['Quantity'] * df['Unit Price ($)']\n",
    "df"
   ]
  },
  {
   "cell_type": "markdown",
   "id": "69dc55d8",
   "metadata": {},
   "source": [
    "###### Accessing Table Cell"
   ]
  },
  {
   "cell_type": "code",
   "execution_count": 44,
   "id": "0578ceaa",
   "metadata": {},
   "outputs": [
    {
     "name": "stdout",
     "output_type": "stream",
     "text": [
      "Egg\n"
     ]
    }
   ],
   "source": [
    "value = df.loc[5, 'Item']\n",
    "print(value)"
   ]
  },
  {
   "cell_type": "code",
   "execution_count": 45,
   "id": "85d245cf",
   "metadata": {},
   "outputs": [
    {
     "name": "stdout",
     "output_type": "stream",
     "text": [
      "30\n"
     ]
    }
   ],
   "source": [
    "value = df.iloc[2, 3]\n",
    "print(value)"
   ]
  },
  {
   "cell_type": "markdown",
   "id": "9b20d756",
   "metadata": {},
   "source": [
    "###### Grouping"
   ]
  },
  {
   "cell_type": "code",
   "execution_count": null,
   "id": "e701f5b8",
   "metadata": {},
   "outputs": [
    {
     "data": {
      "text/plain": [
       "Item\n",
       "Apple    5\n",
       "Bread    6\n",
       "Egg      4\n",
       "Milk     5\n",
       "dtype: int64"
      ]
     },
     "execution_count": 25,
     "metadata": {},
     "output_type": "execute_result"
    }
   ],
   "source": [
    "item_counts = df.groupby('Item').size() ## size is an aggregation function that counts number of rows per group\n",
    "item_counts"
   ]
  },
  {
   "cell_type": "code",
   "execution_count": 26,
   "id": "5340cb54",
   "metadata": {},
   "outputs": [
    {
     "data": {
      "text/plain": [
       "Item\n",
       "Apple    0.4800\n",
       "Bread    4.1600\n",
       "Egg      0.3625\n",
       "Milk     3.7520\n",
       "Name: Unit Price ($), dtype: float64"
      ]
     },
     "execution_count": 26,
     "metadata": {},
     "output_type": "execute_result"
    }
   ],
   "source": [
    "avg_prices = df.groupby('Item')['Unit Price ($)'].mean()\n",
    "avg_prices"
   ]
  },
  {
   "cell_type": "markdown",
   "id": "1bfff373",
   "metadata": {},
   "source": [
    "###### Sorting"
   ]
  },
  {
   "cell_type": "code",
   "execution_count": 40,
   "id": "d281757e",
   "metadata": {},
   "outputs": [
    {
     "data": {
      "text/html": [
       "<div>\n",
       "<style scoped>\n",
       "    .dataframe tbody tr th:only-of-type {\n",
       "        vertical-align: middle;\n",
       "    }\n",
       "\n",
       "    .dataframe tbody tr th {\n",
       "        vertical-align: top;\n",
       "    }\n",
       "\n",
       "    .dataframe thead th {\n",
       "        text-align: right;\n",
       "    }\n",
       "</style>\n",
       "<table border=\"1\" class=\"dataframe\">\n",
       "  <thead>\n",
       "    <tr style=\"text-align: right;\">\n",
       "      <th></th>\n",
       "      <th>Date</th>\n",
       "      <th>Type</th>\n",
       "      <th>Item</th>\n",
       "      <th>Quantity</th>\n",
       "      <th>Unit Price ($)</th>\n",
       "      <th>Notes</th>\n",
       "      <th>Total Value</th>\n",
       "    </tr>\n",
       "  </thead>\n",
       "  <tbody>\n",
       "    <tr>\n",
       "      <th>19</th>\n",
       "      <td>2025-11-07</td>\n",
       "      <td>Sale</td>\n",
       "      <td>Apple</td>\n",
       "      <td>75</td>\n",
       "      <td>0.60</td>\n",
       "      <td>NaN</td>\n",
       "      <td>45.00</td>\n",
       "    </tr>\n",
       "    <tr>\n",
       "      <th>17</th>\n",
       "      <td>2025-11-06</td>\n",
       "      <td>Purchase</td>\n",
       "      <td>Apple</td>\n",
       "      <td>100</td>\n",
       "      <td>0.30</td>\n",
       "      <td>Small local grower batch</td>\n",
       "      <td>30.00</td>\n",
       "    </tr>\n",
       "    <tr>\n",
       "      <th>13</th>\n",
       "      <td>2025-11-05</td>\n",
       "      <td>Sale</td>\n",
       "      <td>Apple</td>\n",
       "      <td>60</td>\n",
       "      <td>0.60</td>\n",
       "      <td>NaN</td>\n",
       "      <td>36.00</td>\n",
       "    </tr>\n",
       "    <tr>\n",
       "      <th>10</th>\n",
       "      <td>2025-11-04</td>\n",
       "      <td>Sale</td>\n",
       "      <td>Apple</td>\n",
       "      <td>50</td>\n",
       "      <td>0.60</td>\n",
       "      <td>NaN</td>\n",
       "      <td>30.00</td>\n",
       "    </tr>\n",
       "    <tr>\n",
       "      <th>6</th>\n",
       "      <td>2025-11-03</td>\n",
       "      <td>Purchase</td>\n",
       "      <td>Apple</td>\n",
       "      <td>300</td>\n",
       "      <td>0.30</td>\n",
       "      <td>Seasonal stock refill</td>\n",
       "      <td>90.00</td>\n",
       "    </tr>\n",
       "    <tr>\n",
       "      <th>15</th>\n",
       "      <td>2025-11-06</td>\n",
       "      <td>Sale</td>\n",
       "      <td>Bread</td>\n",
       "      <td>40</td>\n",
       "      <td>4.99</td>\n",
       "      <td>NaN</td>\n",
       "      <td>199.60</td>\n",
       "    </tr>\n",
       "    <tr>\n",
       "      <th>14</th>\n",
       "      <td>2025-11-05</td>\n",
       "      <td>Purchase</td>\n",
       "      <td>Bread</td>\n",
       "      <td>150</td>\n",
       "      <td>2.50</td>\n",
       "      <td>Urgent mid-week resupply</td>\n",
       "      <td>375.00</td>\n",
       "    </tr>\n",
       "    <tr>\n",
       "      <th>8</th>\n",
       "      <td>2025-11-03</td>\n",
       "      <td>Sale</td>\n",
       "      <td>Bread</td>\n",
       "      <td>20</td>\n",
       "      <td>4.99</td>\n",
       "      <td>NaN</td>\n",
       "      <td>99.80</td>\n",
       "    </tr>\n",
       "    <tr>\n",
       "      <th>0</th>\n",
       "      <td>2025-11-01</td>\n",
       "      <td>Purchase</td>\n",
       "      <td>Bread</td>\n",
       "      <td>100</td>\n",
       "      <td>2.50</td>\n",
       "      <td>Standard supplier delivery</td>\n",
       "      <td>250.00</td>\n",
       "    </tr>\n",
       "    <tr>\n",
       "      <th>4</th>\n",
       "      <td>2025-11-02</td>\n",
       "      <td>Sale</td>\n",
       "      <td>Bread</td>\n",
       "      <td>30</td>\n",
       "      <td>4.99</td>\n",
       "      <td>NaN</td>\n",
       "      <td>149.70</td>\n",
       "    </tr>\n",
       "    <tr>\n",
       "      <th>1</th>\n",
       "      <td>2025-11-01</td>\n",
       "      <td>Sale</td>\n",
       "      <td>Bread</td>\n",
       "      <td>25</td>\n",
       "      <td>4.99</td>\n",
       "      <td>Morning rush sales</td>\n",
       "      <td>124.75</td>\n",
       "    </tr>\n",
       "    <tr>\n",
       "      <th>5</th>\n",
       "      <td>2025-11-02</td>\n",
       "      <td>Sale</td>\n",
       "      <td>Egg</td>\n",
       "      <td>40</td>\n",
       "      <td>0.40</td>\n",
       "      <td>Sold by unit, not dozen</td>\n",
       "      <td>16.00</td>\n",
       "    </tr>\n",
       "    <tr>\n",
       "      <th>11</th>\n",
       "      <td>2025-11-04</td>\n",
       "      <td>Sale</td>\n",
       "      <td>Egg</td>\n",
       "      <td>55</td>\n",
       "      <td>0.40</td>\n",
       "      <td>NaN</td>\n",
       "      <td>22.00</td>\n",
       "    </tr>\n",
       "    <tr>\n",
       "      <th>16</th>\n",
       "      <td>2025-11-06</td>\n",
       "      <td>Sale</td>\n",
       "      <td>Egg</td>\n",
       "      <td>65</td>\n",
       "      <td>0.40</td>\n",
       "      <td>NaN</td>\n",
       "      <td>26.00</td>\n",
       "    </tr>\n",
       "    <tr>\n",
       "      <th>9</th>\n",
       "      <td>2025-11-04</td>\n",
       "      <td>Purchase</td>\n",
       "      <td>Egg</td>\n",
       "      <td>200</td>\n",
       "      <td>0.25</td>\n",
       "      <td>Weekly crate order</td>\n",
       "      <td>50.00</td>\n",
       "    </tr>\n",
       "    <tr>\n",
       "      <th>18</th>\n",
       "      <td>2025-11-07</td>\n",
       "      <td>Sale</td>\n",
       "      <td>Milk</td>\n",
       "      <td>50</td>\n",
       "      <td>3.99</td>\n",
       "      <td>End-of-week demand</td>\n",
       "      <td>199.50</td>\n",
       "    </tr>\n",
       "    <tr>\n",
       "      <th>12</th>\n",
       "      <td>2025-11-05</td>\n",
       "      <td>Sale</td>\n",
       "      <td>Milk</td>\n",
       "      <td>45</td>\n",
       "      <td>3.99</td>\n",
       "      <td>Afternoon traffic</td>\n",
       "      <td>179.55</td>\n",
       "    </tr>\n",
       "    <tr>\n",
       "      <th>3</th>\n",
       "      <td>2025-11-02</td>\n",
       "      <td>Purchase</td>\n",
       "      <td>Milk</td>\n",
       "      <td>120</td>\n",
       "      <td>2.80</td>\n",
       "      <td>Dairy farm shipment</td>\n",
       "      <td>336.00</td>\n",
       "    </tr>\n",
       "    <tr>\n",
       "      <th>2</th>\n",
       "      <td>2025-11-01</td>\n",
       "      <td>Sale</td>\n",
       "      <td>Milk</td>\n",
       "      <td>30</td>\n",
       "      <td>3.99</td>\n",
       "      <td>NaN</td>\n",
       "      <td>119.70</td>\n",
       "    </tr>\n",
       "    <tr>\n",
       "      <th>7</th>\n",
       "      <td>2025-11-03</td>\n",
       "      <td>Sale</td>\n",
       "      <td>Milk</td>\n",
       "      <td>35</td>\n",
       "      <td>3.99</td>\n",
       "      <td>NaN</td>\n",
       "      <td>139.65</td>\n",
       "    </tr>\n",
       "  </tbody>\n",
       "</table>\n",
       "</div>"
      ],
      "text/plain": [
       "          Date      Type   Item  Quantity  Unit Price ($)  \\\n",
       "19  2025-11-07      Sale  Apple        75            0.60   \n",
       "17  2025-11-06  Purchase  Apple       100            0.30   \n",
       "13  2025-11-05      Sale  Apple        60            0.60   \n",
       "10  2025-11-04      Sale  Apple        50            0.60   \n",
       "6   2025-11-03  Purchase  Apple       300            0.30   \n",
       "15  2025-11-06      Sale  Bread        40            4.99   \n",
       "14  2025-11-05  Purchase  Bread       150            2.50   \n",
       "8   2025-11-03      Sale  Bread        20            4.99   \n",
       "0   2025-11-01  Purchase  Bread       100            2.50   \n",
       "4   2025-11-02      Sale  Bread        30            4.99   \n",
       "1   2025-11-01      Sale  Bread        25            4.99   \n",
       "5   2025-11-02      Sale    Egg        40            0.40   \n",
       "11  2025-11-04      Sale    Egg        55            0.40   \n",
       "16  2025-11-06      Sale    Egg        65            0.40   \n",
       "9   2025-11-04  Purchase    Egg       200            0.25   \n",
       "18  2025-11-07      Sale   Milk        50            3.99   \n",
       "12  2025-11-05      Sale   Milk        45            3.99   \n",
       "3   2025-11-02  Purchase   Milk       120            2.80   \n",
       "2   2025-11-01      Sale   Milk        30            3.99   \n",
       "7   2025-11-03      Sale   Milk        35            3.99   \n",
       "\n",
       "                         Notes  Total Value  \n",
       "19                         NaN        45.00  \n",
       "17    Small local grower batch        30.00  \n",
       "13                         NaN        36.00  \n",
       "10                         NaN        30.00  \n",
       "6        Seasonal stock refill        90.00  \n",
       "15                         NaN       199.60  \n",
       "14    Urgent mid-week resupply       375.00  \n",
       "8                          NaN        99.80  \n",
       "0   Standard supplier delivery       250.00  \n",
       "4                          NaN       149.70  \n",
       "1           Morning rush sales       124.75  \n",
       "5      Sold by unit, not dozen        16.00  \n",
       "11                         NaN        22.00  \n",
       "16                         NaN        26.00  \n",
       "9           Weekly crate order        50.00  \n",
       "18          End-of-week demand       199.50  \n",
       "12           Afternoon traffic       179.55  \n",
       "3          Dairy farm shipment       336.00  \n",
       "2                          NaN       119.70  \n",
       "7                          NaN       139.65  "
      ]
     },
     "execution_count": 40,
     "metadata": {},
     "output_type": "execute_result"
    }
   ],
   "source": [
    "sorted_asc = df.sort_values('Item')\n",
    "sorted_asc"
   ]
  },
  {
   "cell_type": "markdown",
   "id": "51760869",
   "metadata": {},
   "source": [
    "###### Other Basic Stats"
   ]
  },
  {
   "cell_type": "code",
   "execution_count": 28,
   "id": "fd5f815e",
   "metadata": {},
   "outputs": [
    {
     "name": "stdout",
     "output_type": "stream",
     "text": [
      "         Quantity  Unit Price ($)  Total Value\n",
      "count   20.000000       20.000000    20.000000\n",
      "mean    79.500000        2.378500   125.912500\n",
      "std     69.299123        1.950412   105.061477\n",
      "min     20.000000        0.250000    16.000000\n",
      "25%     38.750000        0.400000    34.500000\n",
      "50%     52.500000        2.500000   109.750000\n",
      "75%    100.000000        3.990000   184.537500\n",
      "max    300.000000        4.990000   375.000000\n"
     ]
    }
   ],
   "source": [
    "## stats overview\n",
    "print(df.describe())"
   ]
  },
  {
   "cell_type": "code",
   "execution_count": 29,
   "id": "a7e0f359",
   "metadata": {},
   "outputs": [
    {
     "name": "stdout",
     "output_type": "stream",
     "text": [
      "52.5\n"
     ]
    }
   ],
   "source": [
    "print(df['Quantity'].median())"
   ]
  },
  {
   "cell_type": "code",
   "execution_count": 30,
   "id": "c61cf1a8",
   "metadata": {},
   "outputs": [
    {
     "name": "stdout",
     "output_type": "stream",
     "text": [
      "79.5\n"
     ]
    }
   ],
   "source": [
    "print(df['Quantity'].mean())"
   ]
  },
  {
   "cell_type": "code",
   "execution_count": 31,
   "id": "a888de66",
   "metadata": {},
   "outputs": [
    {
     "name": "stdout",
     "output_type": "stream",
     "text": [
      "69.29912280146576\n"
     ]
    }
   ],
   "source": [
    "print(df['Quantity'].std())"
   ]
  },
  {
   "cell_type": "code",
   "execution_count": 32,
   "id": "227f01d7",
   "metadata": {},
   "outputs": [
    {
     "name": "stdout",
     "output_type": "stream",
     "text": [
      "1590\n"
     ]
    }
   ],
   "source": [
    "print(df['Quantity'].sum())"
   ]
  },
  {
   "cell_type": "code",
   "execution_count": 33,
   "id": "b5495dbd",
   "metadata": {},
   "outputs": [
    {
     "name": "stdout",
     "output_type": "stream",
     "text": [
      "20\n"
     ]
    }
   ],
   "source": [
    "print(df['Quantity'].min())"
   ]
  },
  {
   "cell_type": "code",
   "execution_count": 34,
   "id": "28c219e5",
   "metadata": {},
   "outputs": [
    {
     "name": "stdout",
     "output_type": "stream",
     "text": [
      "300\n"
     ]
    }
   ],
   "source": [
    "print(df['Quantity'].max())"
   ]
  },
  {
   "cell_type": "code",
   "execution_count": 35,
   "id": "3b9402b3",
   "metadata": {},
   "outputs": [
    {
     "name": "stdout",
     "output_type": "stream",
     "text": [
      "0    Sale\n",
      "Name: Type, dtype: object\n"
     ]
    }
   ],
   "source": [
    "print(df['Type'].mode())"
   ]
  },
  {
   "cell_type": "code",
   "execution_count": 36,
   "id": "a364f376",
   "metadata": {},
   "outputs": [
    {
     "name": "stdout",
     "output_type": "stream",
     "text": [
      "38.75\n"
     ]
    }
   ],
   "source": [
    "print(df['Quantity'].quantile(0.25)) ## percentile"
   ]
  },
  {
   "cell_type": "code",
   "execution_count": 37,
   "id": "22223112",
   "metadata": {},
   "outputs": [
    {
     "name": "stdout",
     "output_type": "stream",
     "text": [
      "4\n"
     ]
    }
   ],
   "source": [
    "print(df['Item'].nunique())"
   ]
  }
 ],
 "metadata": {
  "kernelspec": {
   "display_name": "Python 3",
   "language": "python",
   "name": "python3"
  },
  "language_info": {
   "codemirror_mode": {
    "name": "ipython",
    "version": 3
   },
   "file_extension": ".py",
   "mimetype": "text/x-python",
   "name": "python",
   "nbconvert_exporter": "python",
   "pygments_lexer": "ipython3",
   "version": "3.14.0"
  }
 },
 "nbformat": 4,
 "nbformat_minor": 5
}
