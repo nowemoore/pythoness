{
 "cells": [
  {
   "cell_type": "markdown",
   "id": "fdedb7a4",
   "metadata": {},
   "source": [
    "# In-Class Problems"
   ]
  },
  {
   "cell_type": "markdown",
   "id": "ff53b801",
   "metadata": {},
   "source": [
    "## ⭐ Task 01\n",
    "Read a text file, replace all occurrences of a specific word with another word, and write the modified content to a new file.\n",
    "\n",
    "<details>\n",
    "<summary>Hint</summary>\n",
    "Remember that lines in a plain text file are just strings. Consider which string methods could be useful here.\n",
    "</details>"
   ]
  },
  {
   "cell_type": "code",
   "execution_count": null,
   "id": "29f1d836",
   "metadata": {},
   "outputs": [],
   "source": []
  },
  {
   "cell_type": "markdown",
   "id": "274fb223",
   "metadata": {},
   "source": [
    "## ⭐ Task 02\n",
    "Read a text file and print all lines in reverse order (last line first, first line last)."
   ]
  },
  {
   "cell_type": "code",
   "execution_count": null,
   "id": "12a8ca16",
   "metadata": {},
   "outputs": [],
   "source": []
  }
 ],
 "metadata": {
  "language_info": {
   "name": "python"
  }
 },
 "nbformat": 4,
 "nbformat_minor": 5
}
