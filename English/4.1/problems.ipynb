{
 "cells": [
  {
   "cell_type": "markdown",
   "id": "fdedb7a4",
   "metadata": {},
   "source": [
    "# In-Class Problems"
   ]
  },
  {
   "cell_type": "markdown",
   "id": "ff53b801",
   "metadata": {},
   "source": [
    "## ⭐ Task 01\n",
    "Read the provided text file and only print the third line."
   ]
  },
  {
   "cell_type": "code",
   "execution_count": null,
   "id": "12a8ca16",
   "metadata": {},
   "outputs": [],
   "source": []
  },
  {
   "cell_type": "markdown",
   "id": "40347070",
   "metadata": {},
   "source": [
    "## ⭐ Task 02\n",
    "Read the provided CSV file and print the first value in every row."
   ]
  },
  {
   "cell_type": "code",
   "execution_count": null,
   "id": "31408497",
   "metadata": {},
   "outputs": [],
   "source": []
  },
  {
   "cell_type": "markdown",
   "id": "de813226",
   "metadata": {},
   "source": [
    "## ⭐ Task 03\n",
    "Read the provided CSV file using `pandas`. Then add a column `discounted` that takes prices from column `price` and discounts everything by 20%."
   ]
  },
  {
   "cell_type": "code",
   "execution_count": null,
   "id": "800d3293",
   "metadata": {},
   "outputs": [],
   "source": []
  },
  {
   "cell_type": "markdown",
   "id": "ae9982e7",
   "metadata": {},
   "source": [
    "## ⭐ Task 04\n",
    "Read the provided CSV file using `pandas`. Then calculate the total revenue (Quantity × Unit Price) for all \"Sale\" transactions. Print the result."
   ]
  },
  {
   "cell_type": "code",
   "execution_count": null,
   "id": "51bb1046",
   "metadata": {},
   "outputs": [],
   "source": []
  },
  {
   "cell_type": "markdown",
   "id": "dda8bf0e",
   "metadata": {},
   "source": [
    "## ⭐ Task 05\n",
    "Read a CSV file and find all items where the sale price is more than double the purchase price. Print the item names and the markup percentage."
   ]
  },
  {
   "cell_type": "code",
   "execution_count": null,
   "id": "f13cf33a",
   "metadata": {},
   "outputs": [],
   "source": []
  },
  {
   "cell_type": "markdown",
   "id": "c2a0baff",
   "metadata": {},
   "source": [
    "## ⭐ Task 06\n",
    "Read a CSV file and find which date had the highest total quantity of items sold. Print the date and the total quantity."
   ]
  },
  {
   "cell_type": "code",
   "execution_count": null,
   "id": "bfc14187",
   "metadata": {},
   "outputs": [],
   "source": []
  },
  {
   "cell_type": "markdown",
   "id": "c9b38318",
   "metadata": {},
   "source": [
    "## ⭐ Task 07\n",
    "Read the provided CSV file using pandas. Filter to show only transactions where Quantity is greater than 100. Print the resulting dataframe."
   ]
  },
  {
   "cell_type": "code",
   "execution_count": null,
   "id": "f52243f7",
   "metadata": {},
   "outputs": [],
   "source": []
  },
  {
   "cell_type": "markdown",
   "id": "cd457a0d",
   "metadata": {},
   "source": [
    "## ⭐ Task 08\n",
    "Read the provided CSV file and calculate the average unit price for each unique Item. Print the results showing Item name and its average price."
   ]
  },
  {
   "cell_type": "code",
   "execution_count": null,
   "id": "aae5ba1b",
   "metadata": {},
   "outputs": [],
   "source": []
  },
  {
   "cell_type": "markdown",
   "id": "8014bada",
   "metadata": {},
   "source": [
    "## ⭐ Task 09\n",
    "Read the provided CSV file and propose which items the shop should buy more/less of. Justify your reasoning."
   ]
  },
  {
   "cell_type": "code",
   "execution_count": null,
   "id": "8d7c7674",
   "metadata": {},
   "outputs": [],
   "source": []
  },
  {
   "cell_type": "markdown",
   "id": "27a7cbcd",
   "metadata": {},
   "source": [
    "## ⭐ Task 10\n",
    "Read a text file and print only the lines that are longer than 30 characters."
   ]
  },
  {
   "cell_type": "code",
   "execution_count": null,
   "id": "b56d21a8",
   "metadata": {},
   "outputs": [],
   "source": []
  },
  {
   "cell_type": "markdown",
   "id": "31f58b56",
   "metadata": {},
   "source": [
    "## ⭐ Task 11\n",
    "Read a text file and find the longest line. Print the line number, the line content, and its length (number of characters)."
   ]
  },
  {
   "cell_type": "code",
   "execution_count": null,
   "id": "1c76a4f9",
   "metadata": {},
   "outputs": [],
   "source": []
  }
 ],
 "metadata": {
  "language_info": {
   "name": "python"
  }
 },
 "nbformat": 4,
 "nbformat_minor": 5
}
