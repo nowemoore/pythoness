{
 "cells": [
  {
   "cell_type": "markdown",
   "id": "ce6f8604",
   "metadata": {},
   "source": [
    "# Example Solutions"
   ]
  },
  {
   "cell_type": "markdown",
   "id": "433d6bd6",
   "metadata": {},
   "source": [
    "Note that most problems in this course have multiple perfectly correct solutions. Please ask LLMs and/or reach out to the author for potential explanation. "
   ]
  },
  {
   "cell_type": "markdown",
   "id": "696d2a44",
   "metadata": {},
   "source": [
    "## ⭐ **Task 03**\n",
    "Define variables `x`, `y`, and `z` so that they are of different types each. Print their types."
   ]
  },
  {
   "cell_type": "code",
   "execution_count": null,
   "id": "0d08042e",
   "metadata": {},
   "outputs": [],
   "source": [
    "x = 10\n",
    "y = 2.5\n",
    "z = \"hello\"\n",
    "\n",
    "print(type(x), type(y), type(z))    ##\tthis shows python's flexibility with types; recognize this when mixing strings, integers, and floats in code\n"
   ]
  },
  {
   "cell_type": "markdown",
   "id": "79a46b89",
   "metadata": {},
   "source": [
    "## ⭐ **Task 04**\n",
    "Write a program that prints the product of two sums."
   ]
  },
  {
   "cell_type": "code",
   "execution_count": null,
   "id": "3729f074",
   "metadata": {},
   "outputs": [],
   "source": [
    "a = 3 + 2           ## sum no. 1\n",
    "b = 5 + 4           ## sum no. 2\n",
    "product = a * b     ## product of the two sums\n",
    "print(product)   "
   ]
  },
  {
   "cell_type": "markdown",
   "id": "5247f39a",
   "metadata": {},
   "source": [
    "## ⭐ **Task 05**\n",
    "Assign value 3 to `x` and value 10 to `y`. Print `28` using only these two variables and arithmetic operators."
   ]
  },
  {
   "cell_type": "code",
   "execution_count": 5,
   "id": "b3cf849a",
   "metadata": {},
   "outputs": [
    {
     "name": "stdout",
     "output_type": "stream",
     "text": [
      "28\n"
     ]
    }
   ],
   "source": [
    "x = 3\n",
    "y = 10\n",
    "print(x**x + y%3)   ## revise fancier operators like %, **, etc."
   ]
  },
  {
   "cell_type": "markdown",
   "id": "9dbe390b",
   "metadata": {},
   "source": [
    "## ⭐ **Task 06**\n",
    "Create separate variables for various types of personal data (name, DOB, email etc.). Then print this data."
   ]
  },
  {
   "cell_type": "code",
   "execution_count": 6,
   "id": "fbbd1df9",
   "metadata": {},
   "outputs": [
    {
     "name": "stdout",
     "output_type": "stream",
     "text": [
      "Alex, 2000-05-15, alex@example.com\n"
     ]
    }
   ],
   "source": [
    "name = \"Alex\"\n",
    "dob = \"2000-05-15\"\n",
    "email = \"alex@example.com\"\n",
    "print(name + \", \" + dob + \", \" + email)   ## note that strings can be concatenated inside the print statement; variables that are already strings don't need to be in quotation marks\n"
   ]
  },
  {
   "cell_type": "markdown",
   "id": "24d8d4ce",
   "metadata": {},
   "source": [
    "## ⭐ **Task 07**\n",
    "Create variables with hourly wage and hours worked. Print gross pay and pay after 23% tax."
   ]
  },
  {
   "cell_type": "code",
   "execution_count": null,
   "id": "c8c3e17c",
   "metadata": {},
   "outputs": [],
   "source": [
    "hourly_wage = 20\n",
    "hours_worked = 40\n",
    "gross_pay = hourly_wage * hours_worked\n",
    "net_pay = gross_pay * (1 - 0.23)\n",
    "print(gross_pay, net_pay)    ##\tthis models simple arithmetic logic; recognize this when simulating real-world calculations like salary or costs\n"
   ]
  },
  {
   "cell_type": "markdown",
   "id": "e72c32ae",
   "metadata": {},
   "source": [
    "## ⭐ **Task 08**\n",
    "Assume a savings account with an initial $1000. The owner adds $100 every month at 2.1% interest rate (calculated monthly). Print the amount saved after 2 years."
   ]
  },
  {
   "cell_type": "code",
   "execution_count": null,
   "id": "e8b83edc",
   "metadata": {},
   "outputs": [],
   "source": [
    "initial = 1000          ## initial amount\n",
    "monthly_add = 100       ## monthly addition\n",
    "rate = 0.021 / 12       ## monthly interest rate\n",
    "months = 24             ## define number of months\n",
    "\n",
    "final_balance = initial * (1 + rate)**months + monthly_add * (((1 + rate)**months - 1) / rate)\n",
    "## this applies the compound interest formula with regular contributions\n",
    "\n",
    "print(final_balance)    \n"
   ]
  },
  {
   "cell_type": "markdown",
   "id": "8acc0989",
   "metadata": {},
   "source": [
    "## ⭐ **Task 09**\n",
    "Assign `3749` to a variable named `seconds`, then print the number of hours and minutes **without** the multiplication or division operator."
   ]
  },
  {
   "cell_type": "code",
   "execution_count": 8,
   "id": "0680ce28",
   "metadata": {},
   "outputs": [
    {
     "name": "stdout",
     "output_type": "stream",
     "text": [
      "1 hours 2 minutes 29 seconds\n"
     ]
    }
   ],
   "source": [
    "seconds = 3749\n",
    "\n",
    "hours = seconds // 60 // 60                         ## 60 mins in an hour and 60 seconds in a minute    \n",
    "minutes = (seconds - hours * 60 * 60) // 60         ## remaining seconds converted to minutes\n",
    "seconds = seconds - hours * 60 * 60 - minutes * 60  ## remaining seconds after hours and minutes are accounted for\n",
    "\n",
    "print(hours, \"hours\", minutes, \"minutes\", seconds, \"seconds\")  \n"
   ]
  },
  {
   "cell_type": "markdown",
   "id": "ccc8ab20",
   "metadata": {},
   "source": [
    "## ⭐ **Task 10**\n",
    "01/01/2025 fell on Wednesday. Use operators to compute what day of the week the 175th day of 2025 fell on."
   ]
  },
  {
   "cell_type": "code",
   "execution_count": 9,
   "id": "5c1bbd0b",
   "metadata": {},
   "outputs": [
    {
     "name": "stdout",
     "output_type": "stream",
     "text": [
      "2\n"
     ]
    }
   ],
   "source": [
    "days_in_week = 7\n",
    "day_of_year = 175\n",
    "start_day = 3    ## assuming year starts on a Wednesday (0=Sun, 1=Mon, ..., 6=Sat)\n",
    "\n",
    "weekday = (start_day + day_of_year - 1) % days_in_week  ## -1 because day_of_year starts from 1 (not 0) \n",
    "print(weekday)   ## gives the numeric representation of the weekday (0=Sun, 1=Mon, ..., 6=Sat)\n"
   ]
  },
  {
   "cell_type": "markdown",
   "id": "d98af9f4",
   "metadata": {},
   "source": [
    "## ⭐ **Task 11**\n",
    "The boolean variable `quartered` stores whether or not the number 4792 is divisible by 4. Print the value of `quartered`."
   ]
  },
  {
   "cell_type": "code",
   "execution_count": 10,
   "id": "1af6cae9",
   "metadata": {},
   "outputs": [
    {
     "name": "stdout",
     "output_type": "stream",
     "text": [
      "True\n"
     ]
    }
   ],
   "source": [
    "quartered = (4792 % 4 == 0) ## note that variable named quartered stores a boolean value (True/False) because of the comparison operator ==\n",
    "print(quartered) "
   ]
  },
  {
   "cell_type": "markdown",
   "id": "a7fc5d94",
   "metadata": {},
   "source": [
    "## ⭐ **Task 12**\n",
    "Recipe calls for 4 cups of flour and serves 5 people. Scale it to serve 7 people. Compare the results of when you store the number of cups as an integer versus float in your calculation."
   ]
  },
  {
   "cell_type": "code",
   "execution_count": 11,
   "id": "f1b8fa0d",
   "metadata": {},
   "outputs": [
    {
     "name": "stdout",
     "output_type": "stream",
     "text": [
      "5.6000000000000005 5.6000000000000005\n"
     ]
    }
   ],
   "source": [
    "recipe_people = 5\n",
    "actual_people = 7\n",
    "\n",
    "## compute as integer\n",
    "cups_int = 4\n",
    "scaled_int = cups_int / recipe_people * actual_people ## computes the amount per person, then multiplies by new number of people\n",
    "\n",
    "## compute as float\n",
    "cups_float = 4.0\n",
    "scaled_float = cups_float / recipe_people * actual_people\n",
    "\n",
    "print(scaled_int, scaled_float) \n"
   ]
  },
  {
   "cell_type": "markdown",
   "id": "2b7a8546",
   "metadata": {},
   "source": [
    "## ⭐ **Task 13**\n",
    "Create a variable storing a (realistic) age. Create a variable that stores True if the age is above 18, False otherwise. Print the variable."
   ]
  },
  {
   "cell_type": "code",
   "execution_count": 12,
   "id": "9244a965",
   "metadata": {},
   "outputs": [
    {
     "name": "stdout",
     "output_type": "stream",
     "text": [
      "True\n"
     ]
    }
   ],
   "source": [
    "age = 20\n",
    "is_adult = age > 18     ## operator inside the assignment sets is_adult to True or False based on the condition\n",
    "print(is_adult)  \n"
   ]
  },
  {
   "cell_type": "markdown",
   "id": "f3614b01",
   "metadata": {},
   "source": [
    "## ⭐ **Task 14**\n",
    "Create two variables, one for the number of cookies and one for the number of people attending. Create a boolean checking whether each person gets at least one cookie, then print the result."
   ]
  },
  {
   "cell_type": "code",
   "execution_count": null,
   "id": "0bba6b3a",
   "metadata": {},
   "outputs": [],
   "source": [
    "cookies = 12\n",
    "people = 10\n",
    "enough = cookies >= people ## assignment operator ensures that variable named enough stores a boolean value\n",
    "print(enough) \n"
   ]
  },
  {
   "cell_type": "markdown",
   "id": "e88b9a32",
   "metadata": {},
   "source": [
    "## ⭐ **Task 15**\n",
    "Weather is considered 'unpleasant' if the temperature falls below 17 or rises above 27. Store the temperature as `x` and create a boolean variable called `unpleasant` that evaluates whether the weather is unpleasant. Test with temperatures 15, 22, and 30."
   ]
  },
  {
   "cell_type": "code",
   "execution_count": null,
   "id": "3be07bf8",
   "metadata": {},
   "outputs": [],
   "source": [
    "x = 15 ## replace with 22 and 30 to test other cases\n",
    "unpleasant = (x < 17) or (x > 27)\n",
    "print(unpleasant)"
   ]
  }
 ],
 "metadata": {
  "language_info": {
   "name": "python"
  }
 },
 "nbformat": 4,
 "nbformat_minor": 5
}
