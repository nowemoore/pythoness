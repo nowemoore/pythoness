{
 "cells": [
  {
   "cell_type": "markdown",
   "id": "093673db",
   "metadata": {},
   "source": [
    "# Module 1.1: Data Types & Operators"
   ]
  },
  {
   "cell_type": "markdown",
   "id": "2e8a0a5e",
   "metadata": {},
   "source": [
    "## Primitive Data Types"
   ]
  },
  {
   "cell_type": "markdown",
   "id": "ab51ebe3",
   "metadata": {},
   "source": [
    "### `Int`"
   ]
  },
  {
   "cell_type": "code",
   "execution_count": 2,
   "id": "1a61bee9",
   "metadata": {},
   "outputs": [
    {
     "name": "stdout",
     "output_type": "stream",
     "text": [
      "<class 'int'>\n",
      "9\n"
     ]
    }
   ],
   "source": [
    "my_int = 9\n",
    "print(type(my_int))\n",
    "print(my_int)"
   ]
  },
  {
   "cell_type": "markdown",
   "id": "984cf032",
   "metadata": {},
   "source": [
    "### `Float`"
   ]
  },
  {
   "cell_type": "code",
   "execution_count": 3,
   "id": "bcaee4c8",
   "metadata": {},
   "outputs": [
    {
     "name": "stdout",
     "output_type": "stream",
     "text": [
      "<class 'float'>\n"
     ]
    }
   ],
   "source": [
    "my_float = 10.0\n",
    "print(type(my_float))"
   ]
  },
  {
   "cell_type": "code",
   "execution_count": 6,
   "id": "51475732",
   "metadata": {},
   "outputs": [
    {
     "name": "stdout",
     "output_type": "stream",
     "text": [
      "0.30000000000000004\n",
      "True\n"
     ]
    }
   ],
   "source": [
    "## the precision issue\n",
    "sum_float = 0.1 + 0.2\n",
    "martina_float = 0.2 + 0.1\n",
    "print(sum_float)\n",
    "print(sum_float == martina_float)"
   ]
  },
  {
   "cell_type": "markdown",
   "id": "14c473b9",
   "metadata": {},
   "source": [
    "### `Str`"
   ]
  },
  {
   "cell_type": "code",
   "execution_count": 7,
   "id": "2ec5efc9",
   "metadata": {},
   "outputs": [
    {
     "name": "stdout",
     "output_type": "stream",
     "text": [
      "<class 'str'>\n"
     ]
    }
   ],
   "source": [
    "my_str = \"Hello World\"\n",
    "print(type(my_str))"
   ]
  },
  {
   "cell_type": "code",
   "execution_count": 8,
   "id": "c8451602",
   "metadata": {},
   "outputs": [
    {
     "name": "stdout",
     "output_type": "stream",
     "text": [
      "True\n"
     ]
    }
   ],
   "source": [
    "my_other_str = 'Hello World'\n",
    "print(my_other_str == my_str)"
   ]
  },
  {
   "cell_type": "markdown",
   "id": "4bcb0c6d",
   "metadata": {},
   "source": [
    "### `Bool`"
   ]
  },
  {
   "cell_type": "code",
   "execution_count": 9,
   "id": "63240474",
   "metadata": {},
   "outputs": [
    {
     "name": "stdout",
     "output_type": "stream",
     "text": [
      "False\n",
      "<class 'bool'>\n"
     ]
    }
   ],
   "source": [
    "my_bool = 1 > 2\n",
    "print(my_bool)\n",
    "print(type(my_bool))"
   ]
  },
  {
   "cell_type": "markdown",
   "id": "0faa2761",
   "metadata": {},
   "source": [
    "### Conversion Between Types"
   ]
  },
  {
   "cell_type": "code",
   "execution_count": 10,
   "id": "549c6d6a",
   "metadata": {},
   "outputs": [
    {
     "name": "stdout",
     "output_type": "stream",
     "text": [
      "3\n"
     ]
    }
   ],
   "source": [
    "convert_to_int = int(3.7)\n",
    "print(convert_to_int)"
   ]
  },
  {
   "cell_type": "code",
   "execution_count": 11,
   "id": "63d82378",
   "metadata": {},
   "outputs": [
    {
     "name": "stdout",
     "output_type": "stream",
     "text": [
      "5.0\n"
     ]
    }
   ],
   "source": [
    "convert_to_float = float(5)\n",
    "print(convert_to_float)"
   ]
  },
  {
   "cell_type": "code",
   "execution_count": 12,
   "id": "61ad47a8",
   "metadata": {},
   "outputs": [
    {
     "name": "stdout",
     "output_type": "stream",
     "text": [
      "0.5\n"
     ]
    }
   ],
   "source": [
    "convert_to_str = str(0.5)\n",
    "print(convert_to_str)\n",
    "## now you won't be able to do math with it"
   ]
  },
  {
   "cell_type": "code",
   "execution_count": 13,
   "id": "751b3e2f",
   "metadata": {},
   "outputs": [
    {
     "name": "stdout",
     "output_type": "stream",
     "text": [
      "<class 'str'>\n"
     ]
    }
   ],
   "source": [
    "print(type(convert_to_str))"
   ]
  },
  {
   "cell_type": "code",
   "execution_count": 14,
   "id": "62f9614f",
   "metadata": {},
   "outputs": [
    {
     "ename": "ValueError",
     "evalue": "invalid literal for int() with base 10: 'Hello World'",
     "output_type": "error",
     "traceback": [
      "\u001b[31m---------------------------------------------------------------------------\u001b[39m",
      "\u001b[31mValueError\u001b[39m                                Traceback (most recent call last)",
      "\u001b[36mCell\u001b[39m\u001b[36m \u001b[39m\u001b[32mIn[14]\u001b[39m\u001b[32m, line 1\u001b[39m\n\u001b[32m----> \u001b[39m\u001b[32m1\u001b[39m convert_str = \u001b[38;5;28;43mint\u001b[39;49m\u001b[43m(\u001b[49m\u001b[33;43m\"\u001b[39;49m\u001b[33;43mHello World\u001b[39;49m\u001b[33;43m\"\u001b[39;49m\u001b[43m)\u001b[49m\n\u001b[32m      2\u001b[39m \u001b[38;5;28mprint\u001b[39m(convert_str)\n\u001b[32m      3\u001b[39m \u001b[38;5;66;03m## this will throw an error because \"Hello World\" cannot be interpreted as an integer\u001b[39;00m\n",
      "\u001b[31mValueError\u001b[39m: invalid literal for int() with base 10: 'Hello World'"
     ]
    }
   ],
   "source": [
    "convert_str = int(\"Hello World\")\n",
    "print(convert_str)\n",
    "## this will throw an error because \"Hello World\" cannot be interpreted as an integer"
   ]
  },
  {
   "cell_type": "markdown",
   "id": "bcb5923f",
   "metadata": {},
   "source": [
    "## Operators"
   ]
  },
  {
   "cell_type": "markdown",
   "id": "ad9cd373",
   "metadata": {},
   "source": [
    "### Assignment Operators"
   ]
  },
  {
   "cell_type": "code",
   "execution_count": 15,
   "id": "8999f792",
   "metadata": {},
   "outputs": [
    {
     "name": "stdout",
     "output_type": "stream",
     "text": [
      "2\n"
     ]
    }
   ],
   "source": [
    "x = 2\n",
    "print(x)"
   ]
  },
  {
   "cell_type": "code",
   "execution_count": 16,
   "id": "d583a8e7",
   "metadata": {},
   "outputs": [
    {
     "name": "stdout",
     "output_type": "stream",
     "text": [
      "5\n"
     ]
    }
   ],
   "source": [
    "x += 3\n",
    "print(x)"
   ]
  },
  {
   "cell_type": "code",
   "execution_count": 17,
   "id": "1748aaa5",
   "metadata": {},
   "outputs": [
    {
     "name": "stdout",
     "output_type": "stream",
     "text": [
      "1\n"
     ]
    }
   ],
   "source": [
    "x -= 4\n",
    "print(x)"
   ]
  },
  {
   "cell_type": "code",
   "execution_count": 18,
   "id": "38c37cd6",
   "metadata": {},
   "outputs": [
    {
     "name": "stdout",
     "output_type": "stream",
     "text": [
      "1\n"
     ]
    }
   ],
   "source": [
    "x **= 2\n",
    "print(x)"
   ]
  },
  {
   "cell_type": "markdown",
   "id": "138cddf7",
   "metadata": {},
   "source": [
    "### Arithmetic Operators"
   ]
  },
  {
   "cell_type": "code",
   "execution_count": 19,
   "id": "49a52ca7",
   "metadata": {},
   "outputs": [
    {
     "name": "stdout",
     "output_type": "stream",
     "text": [
      "5 + 3 = 8\n"
     ]
    }
   ],
   "source": [
    "result = 5 + 3\n",
    "print(f\"5 + 3 = {result}\")"
   ]
  },
  {
   "cell_type": "code",
   "execution_count": 20,
   "id": "193ffdd0",
   "metadata": {},
   "outputs": [
    {
     "name": "stdout",
     "output_type": "stream",
     "text": [
      "10 - 4 - 2 = 4\n"
     ]
    }
   ],
   "source": [
    "\n",
    "result = 10 - 4 - 2\n",
    "print(f\"10 - 4 - 2 = {result}\")"
   ]
  },
  {
   "cell_type": "code",
   "execution_count": 21,
   "id": "baa6d053",
   "metadata": {},
   "outputs": [
    {
     "name": "stdout",
     "output_type": "stream",
     "text": [
      "4 * 7 = 28\n"
     ]
    }
   ],
   "source": [
    "\n",
    "result = 4 * 7\n",
    "print(f\"4 * 7 = {result}\")"
   ]
  },
  {
   "cell_type": "code",
   "execution_count": 22,
   "id": "49df7c55",
   "metadata": {},
   "outputs": [
    {
     "name": "stdout",
     "output_type": "stream",
     "text": [
      "15 / 3 = 5.0\n"
     ]
    }
   ],
   "source": [
    "result = 15 / 3\n",
    "print(f\"15 / 3 = {result}\")"
   ]
  },
  {
   "cell_type": "code",
   "execution_count": 23,
   "id": "0a2bc3cc",
   "metadata": {},
   "outputs": [
    {
     "name": "stdout",
     "output_type": "stream",
     "text": [
      "17 // 3 = 5 (quotient without the remainder)\n"
     ]
    }
   ],
   "source": [
    "\n",
    "result = 17 // 3\n",
    "print(f\"17 // 3 = {result} (quotient without the remainder)\")"
   ]
  },
  {
   "cell_type": "code",
   "execution_count": 24,
   "id": "db2f07a9",
   "metadata": {},
   "outputs": [
    {
     "name": "stdout",
     "output_type": "stream",
     "text": [
      "2 ** 3 = 8\n"
     ]
    }
   ],
   "source": [
    "\n",
    "result = 2 ** 3\n",
    "print(f\"2 ** 3 = {result}\")"
   ]
  },
  {
   "cell_type": "code",
   "execution_count": 25,
   "id": "9d14ca61",
   "metadata": {},
   "outputs": [
    {
     "name": "stdout",
     "output_type": "stream",
     "text": [
      "17 % 5 = 2 (remainder when 17 is divided by 5)\n"
     ]
    }
   ],
   "source": [
    "\n",
    "result = 17 % 5\n",
    "print(f\"17 % 5 = {result} (remainder when 17 is divided by 5)\")"
   ]
  },
  {
   "cell_type": "markdown",
   "id": "a6231d95",
   "metadata": {},
   "source": [
    "### Logical Operators"
   ]
  },
  {
   "cell_type": "code",
   "execution_count": 26,
   "id": "0b365393",
   "metadata": {},
   "outputs": [
    {
     "name": "stdout",
     "output_type": "stream",
     "text": [
      "x = 7, y = 12\n"
     ]
    }
   ],
   "source": [
    "x = 7\n",
    "y = 12\n",
    "print(f\"x = {x}, y = {y}\")"
   ]
  },
  {
   "cell_type": "code",
   "execution_count": 27,
   "id": "a7c1b699",
   "metadata": {},
   "outputs": [
    {
     "name": "stdout",
     "output_type": "stream",
     "text": [
      "x > 5 and y < 10 → False\n"
     ]
    }
   ],
   "source": [
    "result = x > 5 and y < 10\n",
    "print(f\"x > 5 and y < 10 → {result}\")"
   ]
  },
  {
   "cell_type": "code",
   "execution_count": 28,
   "id": "7127fb1c",
   "metadata": {},
   "outputs": [
    {
     "name": "stdout",
     "output_type": "stream",
     "text": [
      "x > 5 or y < 10 → True\n"
     ]
    }
   ],
   "source": [
    "result = x > 5 or y < 10\n",
    "print(f\"x > 5 or y < 10 → {result}\")"
   ]
  },
  {
   "cell_type": "code",
   "execution_count": 29,
   "id": "a29c77e4",
   "metadata": {},
   "outputs": [
    {
     "name": "stdout",
     "output_type": "stream",
     "text": [
      "x < 5 or y < 10 → False\n"
     ]
    }
   ],
   "source": [
    "result = x < 5 or y < 10\n",
    "print(f\"x < 5 or y < 10 → {result}\")"
   ]
  },
  {
   "cell_type": "code",
   "execution_count": 30,
   "id": "9a6cbcf0",
   "metadata": {},
   "outputs": [
    {
     "name": "stdout",
     "output_type": "stream",
     "text": [
      "not x > 5 → False\n"
     ]
    }
   ],
   "source": [
    "result = not x > 5\n",
    "print(f\"not x > 5 → {result}\")"
   ]
  },
  {
   "cell_type": "code",
   "execution_count": 31,
   "id": "21c841d5",
   "metadata": {},
   "outputs": [
    {
     "name": "stdout",
     "output_type": "stream",
     "text": [
      "not x < 5 → True\n"
     ]
    }
   ],
   "source": [
    "\n",
    "result = not (x < 5)\n",
    "print(f\"not x < 5 → {result}\")"
   ]
  },
  {
   "cell_type": "markdown",
   "id": "6fb594de",
   "metadata": {},
   "source": [
    "### Comparison Operators"
   ]
  },
  {
   "cell_type": "code",
   "execution_count": 32,
   "id": "1e66f4d5",
   "metadata": {},
   "outputs": [
    {
     "name": "stdout",
     "output_type": "stream",
     "text": [
      "x = 5, y = 10\n"
     ]
    }
   ],
   "source": [
    "x = 5\n",
    "y = 10\n",
    "print(f\"x = {x}, y = {y}\")"
   ]
  },
  {
   "cell_type": "code",
   "execution_count": 33,
   "id": "3d8be12d",
   "metadata": {},
   "outputs": [
    {
     "name": "stdout",
     "output_type": "stream",
     "text": [
      "False\n"
     ]
    }
   ],
   "source": [
    "print(x == y)"
   ]
  },
  {
   "cell_type": "code",
   "execution_count": 34,
   "id": "fb638d88",
   "metadata": {},
   "outputs": [
    {
     "name": "stdout",
     "output_type": "stream",
     "text": [
      "True\n"
     ]
    }
   ],
   "source": [
    "print(x != y)"
   ]
  },
  {
   "cell_type": "code",
   "execution_count": 35,
   "id": "2a8778a7",
   "metadata": {},
   "outputs": [
    {
     "name": "stdout",
     "output_type": "stream",
     "text": [
      "False\n"
     ]
    }
   ],
   "source": [
    "print(x > y)"
   ]
  },
  {
   "cell_type": "code",
   "execution_count": 36,
   "id": "db69ede6",
   "metadata": {},
   "outputs": [
    {
     "name": "stdout",
     "output_type": "stream",
     "text": [
      "True\n"
     ]
    }
   ],
   "source": [
    "print(y > x)"
   ]
  },
  {
   "cell_type": "code",
   "execution_count": 37,
   "id": "552d7705",
   "metadata": {},
   "outputs": [
    {
     "name": "stdout",
     "output_type": "stream",
     "text": [
      "True\n"
     ]
    }
   ],
   "source": [
    "print(y//2 >= x)"
   ]
  }
 ],
 "metadata": {
  "kernelspec": {
   "display_name": "Python 3",
   "language": "python",
   "name": "python3"
  },
  "language_info": {
   "codemirror_mode": {
    "name": "ipython",
    "version": 3
   },
   "file_extension": ".py",
   "mimetype": "text/x-python",
   "name": "python",
   "nbconvert_exporter": "python",
   "pygments_lexer": "ipython3",
   "version": "3.13.7"
  }
 },
 "nbformat": 4,
 "nbformat_minor": 5
}
