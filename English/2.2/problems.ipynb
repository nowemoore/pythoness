{
 "cells": [
  {
   "cell_type": "markdown",
   "metadata": {},
   "source": [
    "# In-Class Problems"
   ]
  },
  {
   "cell_type": "markdown",
   "metadata": {},
   "source": [
    "## ⭐ **Task 01**\n",
    "Write a function `safe_divide` that takes in two numbers `a` and `b` and divides these two numbers. Make sure to throw appropriate exceptions when `a` and `b` have inadequate values."
   ]
  },
  {
   "cell_type": "code",
   "execution_count": null,
   "metadata": {},
   "outputs": [],
   "source": []
  },
  {
   "cell_type": "markdown",
   "metadata": {},
   "source": [
    "## ⭐ **Task 02**\n",
    "Write a function `check_date` that takes in three strings `day`, `month`, and `year` and checks that the values provided correspond to a legitimate birth date."
   ]
  },
  {
   "cell_type": "code",
   "execution_count": null,
   "metadata": {},
   "outputs": [],
   "source": []
  },
  {
   "cell_type": "markdown",
   "metadata": {},
   "source": [
    "## ⭐ **Task 03**\n",
    "You're working for a store that's offering a \"buy 3 get 1 free\" promotion on apples. There are currently 400 apples in store. Write a function `buy_apples` that takes in the number of apples a customer wants to buy and returns the final price of the cart."
   ]
  },
  {
   "cell_type": "code",
   "execution_count": null,
   "metadata": {},
   "outputs": [],
   "source": []
  },
  {
   "cell_type": "markdown",
   "metadata": {},
   "source": [
    "## ⭐ **Task 04**\n",
    "Write a function `calculate_parking_fee` that takes parking duration in minutes and returns the cost, with different rates for different time periods (i.e. 0-15 minutes is charged a different rate than 1-2 hours)."
   ]
  },
  {
   "cell_type": "code",
   "execution_count": null,
   "metadata": {},
   "outputs": [],
   "source": []
  },
  {
   "cell_type": "markdown",
   "metadata": {},
   "source": [
    "## ⭐ **Task 05**\n",
    "Write a function `withdraw_money` that takes an account balance and withdrawal amount, and returns the new balance after validating the transaction."
   ]
  },
  {
   "cell_type": "code",
   "execution_count": null,
   "metadata": {},
   "outputs": [],
   "source": []
  },
  {
   "cell_type": "markdown",
   "metadata": {},
   "source": [
    "## ⭐ **Task 06**\n",
    "Write a function `validate_credit_card` that takes a credit card number string and determines if it's valid using the Luhn algorithm. Test on \"4532015112830366\" and \"1234567890123456\"."
   ]
  },
  {
   "cell_type": "code",
   "execution_count": null,
   "metadata": {},
   "outputs": [],
   "source": []
  },
  {
   "cell_type": "markdown",
   "metadata": {},
   "source": [
    "## ⭐ **Task 07**\n",
    "You're creating a movie theater booking system. Write a function `book_seats` that takes a list of seat numbers (in the format of a three-character string consisting of one letter and two numbers) and ensures they're available and valid."
   ]
  },
  {
   "cell_type": "code",
   "execution_count": null,
   "metadata": {},
   "outputs": [],
   "source": []
  },
  {
   "cell_type": "markdown",
   "metadata": {},
   "source": [
    "## ⭐ **Task 08**\n",
    "Write a function `generate_username` that takes first name, last name, and birth year, database and returns three random possible usernames while preventing duplicates in the database."
   ]
  },
  {
   "cell_type": "code",
   "execution_count": null,
   "metadata": {},
   "outputs": [],
   "source": []
  },
  {
   "cell_type": "markdown",
   "metadata": {},
   "source": [
    "## ⭐ **Task 09**\n",
    "Write a function `find_mutual_friends` that takes a user ID and returns all users who are friends with at least 3 of that user's friends. Prove your algorithm works and breaks when expected on test cases."
   ]
  },
  {
   "cell_type": "code",
   "execution_count": null,
   "metadata": {},
   "outputs": [],
   "source": []
  },
  {
   "cell_type": "markdown",
   "metadata": {},
   "source": [
    "## ⭐ **Task 10**\n",
    "Write a function `calculate_shipping_cost` that takes in package weight, dimensions, and destination zip code and returns the shipping cost. Account for different parameters shipping at different rates."
   ]
  },
  {
   "cell_type": "code",
   "execution_count": null,
   "metadata": {},
   "outputs": [],
   "source": []
  }
 ],
 "metadata": {
  "kernelspec": {
   "display_name": "Python 3",
   "language": "python",
   "name": "python3"
  },
  "language_info": {
   "codemirror_mode": {
    "name": "ipython",
    "version": 3
   },
   "file_extension": ".py",
   "mimetype": "text/x-python",
   "name": "python",
   "nbconvert_exporter": "python",
   "pygments_lexer": "ipython3",
   "version": "3.11.4"
  }
 },
 "nbformat": 4,
 "nbformat_minor": 5
}