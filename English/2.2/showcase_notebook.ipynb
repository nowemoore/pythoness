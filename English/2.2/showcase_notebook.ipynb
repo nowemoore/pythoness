{
 "cells": [
  {
   "cell_type": "markdown",
   "id": "7e42c991",
   "metadata": {},
   "source": [
    "# Example Functions"
   ]
  },
  {
   "cell_type": "code",
   "execution_count": 1,
   "id": "e457aea7",
   "metadata": {},
   "outputs": [],
   "source": [
    "def add_one(x):\n",
    "    return x + 1"
   ]
  },
  {
   "cell_type": "markdown",
   "id": "bbf81105",
   "metadata": {},
   "source": [
    "# Example Test"
   ]
  },
  {
   "cell_type": "code",
   "execution_count": 2,
   "id": "7c4d91d5",
   "metadata": {},
   "outputs": [],
   "source": [
    "import unittest\n",
    "\n",
    "class TestAddFunction(unittest.TestCase):\n",
    "    def test_add_one(self):\n",
    "        self.assertEqual(add_one(1), 2)\n"
   ]
  },
  {
   "cell_type": "code",
   "execution_count": 3,
   "id": "e33344f4",
   "metadata": {},
   "outputs": [
    {
     "name": "stderr",
     "output_type": "stream",
     "text": [
      "test_add_one (__main__.TestAddFunction.test_add_one) ... ok\n",
      "\n",
      "----------------------------------------------------------------------\n",
      "Ran 1 test in 0.003s\n",
      "\n",
      "OK\n"
     ]
    }
   ],
   "source": [
    "if __name__ == '__main__':\n",
    "    unittest.main(argv=[''], exit=False, verbosity=2)"
   ]
  }
 ],
 "metadata": {
  "kernelspec": {
   "display_name": "Python 3",
   "language": "python",
   "name": "python3"
  },
  "language_info": {
   "codemirror_mode": {
    "name": "ipython",
    "version": 3
   },
   "file_extension": ".py",
   "mimetype": "text/x-python",
   "name": "python",
   "nbconvert_exporter": "python",
   "pygments_lexer": "ipython3",
   "version": "3.13.7"
  }
 },
 "nbformat": 4,
 "nbformat_minor": 5
}
