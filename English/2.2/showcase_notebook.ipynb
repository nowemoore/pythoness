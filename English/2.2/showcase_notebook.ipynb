{
 "cells": [
  {
   "cell_type": "code",
   "execution_count": null,
   "id": "e457aea7",
   "metadata": {},
   "outputs": [],
   "source": [
    "## example functions\n",
    "\n",
    "def add_one(x):\n",
    "    return x + 1"
   ]
  }
 ],
 "metadata": {
  "language_info": {
   "name": "python"
  }
 },
 "nbformat": 4,
 "nbformat_minor": 5
}
