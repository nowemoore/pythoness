{
 "cells": [
  {
   "cell_type": "markdown",
   "metadata": {},
   "source": [
    "# Advanced Problems"
   ]
  },
  {
   "cell_type": "markdown",
   "metadata": {},
   "source": [
    "## ⭐ Task 01\n",
    "A zoo has different animals with different feeding schedules. Carnivores eat every 8 hours and consume 5kg of meat per feeding. Herbivores eat every 6 hours and consume 8kg of plants per feeding. Omnivores eat every 7 hours and consume 3kg of meat + 4kg of plants per feeding. The zoo has 3 lions (carnivores), 4 elephants (herbivores), and 2 bears (omnivores). The first time each week carnivores are fed in Monday 7am, herbivores Monday 5am, and omnivores Monday 6.30am. One employee can only feed one group of animals at a time. Find out how many employees the zoo needs to hire for feeding the groups so all animals can eat on time without delay."
   ]
  },
  {
   "cell_type": "code",
   "execution_count": null,
   "metadata": {},
   "outputs": [],
   "source": []
  },
  {
   "cell_type": "markdown",
   "metadata": {},
   "source": [
    "## ⭐ Task 02\n",
    "Create a `Person` class where each person has two eye color alleles (BB, bb, or Bb, where B stands for brown (dominant colour), b for blue (recessive colour)). Brown eyes appear if at least one B is present (BB or Bb), while blue eyes only appear with bb. When two people have a child, the child randomly inherits one allele from each parent using `random.choice()`. Create a function that takes in the number of generations and produces the ratio of blue-eyed people after that number of generations. Starting with a population of 10 people (6 with BB, 3 with Bb, 1 with bb), show that your function works."
   ]
  },
  {
   "cell_type": "code",
   "execution_count": null,
   "metadata": {},
   "outputs": [],
   "source": []
  },
  {
   "cell_type": "markdown",
   "metadata": {},
   "source": [
    "## ⭐ Task 03\n",
    "Create a base class Message with subclasses `TextMessage` (which is a list of string characters), `ImageMessage` (list of RGB tuples), and `VoiceMessage` (list of float frequencies). Each type must know how to compress. Make a function `decompress()` which takes in a message of any type and recovers the original message in its original size."
   ]
  },
  {
   "cell_type": "code",
   "execution_count": null,
   "metadata": {},
   "outputs": [],
   "source": []
  },
  {
   "cell_type": "markdown",
   "metadata": {},
   "source": [
    "## ⭐ Task 04\n",
    "Create a base class `BankAccount` with attributes owner and balance. Subclasses `CheckingAccount`, `SavingsAccount`, and `InvestmentAccount` must implement methods `deposit()`, `withdraw()`, and `end_of_day_update()` differently, applying rules like overdraft fees, interest, or trading fees. Implement a `Bank` class that holds multiple accounts and supports `transfer(from_account, to_account, amount)`. Daily, the bank automatically applies interest, covers overdrafts from linked savings, and redistributes investment gains to other accounts based on balances. Simulate a week of random deposits, withdrawals, and transfers, printing each account’s balance at the end of each day."
   ]
  },
  {
   "cell_type": "code",
   "execution_count": null,
   "metadata": {},
   "outputs": [],
   "source": []
  }
 ],
 "metadata": {
  "kernelspec": {
   "display_name": "Python 3",
   "language": "python",
   "name": "python3"
  },
  "language_info": {
   "codemirror_mode": {
    "name": "ipython",
    "version": 3
   },
   "file_extension": ".py",
   "mimetype": "text/x-python",
   "name": "python",
   "nbconvert_exporter": "python",
   "pygments_lexer": "ipython3",
   "version": "3.10.12"
  }
 },
 "nbformat": 4,
 "nbformat_minor": 5
}