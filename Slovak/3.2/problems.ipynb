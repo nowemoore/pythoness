{
 "cells": [
  {
   "cell_type": "markdown",
   "id": "153491d4",
   "metadata": {},
   "source": [
    "# Na hodinu"
   ]
  },
  {
   "cell_type": "markdown",
   "id": "d297093c",
   "metadata": {},
   "source": [
    "### ⭐ Úloha 01\n",
    "Vytvor základnú triedu `Vehicle` s atribútmi `speed`, `fuel_capacity` a `fuel_consumption`. Vytvor podradené triedy `Car`, `Motorcycle` a `Truck`, ktoré dedia z `Vehicle`. Každá podradená trieda by mala mať metódu `travel_distance(hours)`, ktorá vypočíta, ako ďaleko dokáže cestovať."
   ]
  },
  {
   "cell_type": "code",
   "execution_count": null,
   "id": "dc32208e",
   "metadata": {},
   "outputs": [],
   "source": [
    "# Prázdna kódová bunka pre riešenie Úlohy 01"
   ]
  },
  {
   "cell_type": "markdown",
   "id": "39c46e1a",
   "metadata": {},
   "source": [
    "### ⭐ Úloha 02\n",
    "Útulok pre zvieratá eviduje zvieratá s ich vekom, váhou a adopčným poplatkom. Psy majú základný poplatok $50 plus $10 za každý rok veku. Mačky majú základný poplatok $40 plus $8 za každý rok. Vtáky majú fixný poplatok $25. Útulok práve dostal dar, ktorý pokrýva adopčné poplatky pre všetky zvieratá mladšie ako 2 roky. Vytvor systém, ktorý vypočíta, koľko peňazí z daru bude použitých, ak je momentálne v útulku 5 psov (vek: 1, 3, 5, 1, 7), 8 mačiek (vek: 2, 1, 4, 1, 6, 1, 3, 8) a 3 vtáky (vek: 1, 2, 4)."
   ]
  },
  {
   "cell_type": "code",
   "execution_count": null,
   "id": "4bf8d363",
   "metadata": {},
   "outputs": [],
   "source": [
    "# Prázdna kódová bunka pre riešenie Úlohy 02"
   ]
  },
  {
   "cell_type": "markdown",
   "id": "cd087367",
   "metadata": {},
   "source": [
    "### ⭐ Úloha 03\n",
    "Vytvor triedu `LaundryItem`, kde každá položka má farbu (biela, svetlá, alebo tmavá) a typ materiálu (bavlna, syntetické, alebo jemné). Biele veci sa musia prať oddelene, svetlé a tmavé sa môžu miešať, ak obe nie sú jemné. Jemné veci sa vždy perú samostatne. Vytvor funkciu, ktorá berie zoznam prádla a vráti minimálny počet potrebných pracích cyklov. Vygeneruj 30 náhodných kusov prádla pomocou `random.choice()` pre farby a materiály, potom ukáž, koľko pracích cyklov je potrebných a ktoré veci idú do ktorého cyklu."
   ]
  },
  {
   "cell_type": "code",
   "execution_count": null,
   "id": "c905cb19",
   "metadata": {},
   "outputs": [],
   "source": [
    "# Prázdna kódová bunka pre riešenie Úlohy 03"
   ]
  },
  {
   "cell_type": "markdown",
   "id": "bc7771d0",
   "metadata": {},
   "source": [
    "### ⭐ Úloha 04\n",
    "Vytvor základnú triedu `Shape` s abstraktnou metódou `area()`. Podtriedky `Circle`, `Rectangle` a `Triangle` musia každá implementovať svoj vlastný vzorec pre výpočet plochy. Potom napíš funkciu `total_area(shapes)`, ktorá vezme zoznam rôznych objektov tvarov a vráti celkovú plochu. Ukáž, že tvoja metóda funguje pomocou unit testov."
   ]
  },
  {
   "cell_type": "code",
   "execution_count": null,
   "id": "5d6015c4",
   "metadata": {},
   "outputs": [],
   "source": [
    "# Prázdna kódová bunka pre riešenie Úlohy 04"
   ]
  },
  {
   "cell_type": "markdown",
   "id": "9ae7b114",
   "metadata": {},
   "source": [
    "### ⭐ Úloha 05\n",
    "Zoo má rôzne zvieratá s rôznymi harmonogramami krmenia. Mäsožravce jedia každých 8 hodín a konzumujú 5kg mäsa na krmenie. Bylinožravce jedia každých 6 hodín a konzumujú 8kg rastlín na krmenie. Všežravce jedia každých 7 hodín a konzumujú 3kg mäsa + 4kg rastlín na krmenie. Zoo má 3 levy (carnivores), 4 slony (herbivores) a 2 medvede (omnivores). Prvýkrát každý týždeň sú mäsožravce kŕmené v pondelok o 7:00, bylinožravce v pondelok o 5:00 a všežravce v pondelok o 6:30. Nakoniec, každá skupina spí osem hodín denne, v náhodných intervaloch po dve hodiny, a nemôžu byť kŕmené, keď spia. Printni presne, kedy bola každá skupina zvierat nakŕmená.\n",
    "\n",
    "<details>\n",
    "<summary>Tip</summary>\n",
    "Nezabudni vypísať, kedy zviera *nebolo* nakŕmené z nejakého dôvodu (napr. kvôli spánku), aby si sa uistila, že tvoja funkcia funguje správne.\n",
    "</details>"
   ]
  },
  {
   "cell_type": "code",
   "execution_count": null,
   "id": "2da97845",
   "metadata": {},
   "outputs": [],
   "source": [
    "# Prázdna kódová bunka pre riešenie Úlohy 05"
   ]
  },
  {
   "cell_type": "markdown",
   "id": "364461ca",
   "metadata": {},
   "source": [
    "### ⭐ Úloha 06\n",
    "Vytvor základnú triedu `Shape` s atribútmi pre názov a počet strán, a metódou `roll_distance()`, ktorá vezme silu použitú na odtlačenie daného tvaru a vráti, ako ďaleko sa tvar odkotúľa, keď je odtlačený. Potom vytvor podtriedky `Circle`, `Square` a `Hexagon`, kde každá definuje, ako počet strán ovplyvňuje kotúľanie, pričom vzdialenosť, ktorú každý tvar dokáže prejsť, je rovná $(force \\times 10) / \\text{počet strán}$. Napíš funkciu `roll_tournament()`, ktorá vezme zoznam tvarov a jednu silu použitú na všetky tvary, zavolá metódu `roll_distance()` každého tvaru a vypíše, ktorý tvar sa odkotúľal najďalej. Ukáž, že tvoj program funguje s aspoň tromi rôznymi tvarmi."
   ]
  },
  {
   "cell_type": "code",
   "execution_count": null,
   "id": "2dc71b5f",
   "metadata": {},
   "outputs": [],
   "source": [
    "# Prázdna kódová bunka pre riešenie Úlohy 06"
   ]
  },
  {
   "cell_type": "markdown",
   "id": "d2530d03",
   "metadata": {},
   "source": [
    "### ⭐ Úloha 07\n",
    "Každá podtrieda `Shape` (`Circle`, `Rectangle`, `Triangle`) implementuje metódu `cast_shadow`, ktorá vezme uhol svetla relatívne k povrchu, na ktorom je tvar umiestnený, a vráti dĺžku tieňa v závislosti od geometrie tvaru. Napíš funkciu, ktorá pre daný zoznam tvarov a jeden uhol svetla vráti najdlhší tieň."
   ]
  },
  {
   "cell_type": "code",
   "execution_count": null,
   "id": "98f959ff",
   "metadata": {},
   "outputs": [],
   "source": [
    "# Prázdna kódová bunka pre riešenie Úlohy 07"
   ]
  },
  {
   "cell_type": "markdown",
   "id": "1df85a03",
   "metadata": {},
   "source": [
    "### ⭐ Úloha 08\n",
    "Vytvor základnú triedu `Message` s podtriedkami `TextMessage` (ktorá pozostáva zo zoznamu charakterov), `ImageMessage` (zoznam RGB trojíc) a `VoiceMessage` (zoznam float frekvencií). Každý typ musí vedieť, ako sa komprimovať. Komprimácia znamená, že ak sú dve ekvivalentné hodnoty hneď vedľa seba, správa si ponechá len jednu z nich (napr. ak textová správa pozostáva zo znakov `h`, `e`, `l`, `l` a `o`, komprimovaná textová správa bude pozostávať z `h`, `e`, `l`, `o`). Napíš funkciu, ktorá vezme zoznam zmiešaných správ a vypočíta celkové ušetrené úložisko po komprimácii."
   ]
  },
  {
   "cell_type": "code",
   "execution_count": null,
   "id": "5c47b4e3",
   "metadata": {},
   "outputs": [],
   "source": [
    "# Prázdna kódová bunka pre riešenie Úlohy 08"
   ]
  },
  {
   "cell_type": "markdown",
   "id": "1cb14cda",
   "metadata": {},
   "source": [
    "### ⭐ Úloha 09\n",
    "Vytvor základnú triedu `ElectricDevice` s metódou `consume_energy(hours, usage)`, ktorá vypočíta spotrebovanú energiu na základe toho, ako dlho zariadenie beží a koľko energie spotrebuje za hodinu. Podtriedky prvej generácie `Lights`, `HeatingDevice` alebo `ScreenDevice` definujú maximálny povolený čas prevádzky za deň pre daný typ. Podtriedky druhej generácie ako `LEDLight`, `HalogenLight`, `Heater`, `AirConditioner` a `TV` majú svoju vlastnú špecifickú spotrebu energie za hodinu a dedia limity času prevádzky od svojho rodičovského typu. Implementuj triedu `smarthome`, ktorá vezme zoznam viacerých zariadení a vypočíta, koľko bude domácnosť platiť pri rôznych denných a nočných tarifách elektriny."
   ]
  },
  {
   "cell_type": "code",
   "execution_count": null,
   "id": "6e94abcf",
   "metadata": {},
   "outputs": [],
   "source": [
    "# Prázdna kódová bunka pre riešenie Úlohy 09"
   ]
  },
  {
   "cell_type": "markdown",
   "id": "bcceea77",
   "metadata": {},
   "source": [
    "### ⭐ Úloha 10\n",
    "Navrhni základnú triedu `TrafficLight` s metódami na prechádzanie stavmi: 'Red', 'Yellow', 'Green'. Implementuj podtriedu `PedestrianCrossingLight`, ktorá prepíše logiku stavov; musí prepnúť z 'Green' na 'Red' len po zavolaní metódy `pedestrian_request()`. Zvaž interakciu týchto dvoch objektov: ak svieti zelená na chodcovom semafore, potom musí byť červená na dopravnom semafore a žiadne autá nemôžu prejsť. Keď svieti zelená, auto prejde cez semafor každých 5 sekúnd. Implementuj funkciu, ktorá vypočíta, koľko áut prejde počas hodinovej periódy, kde žiadosti chodcov sa vyskytujú v náhodných časoch."
   ]
  },
  {
   "cell_type": "code",
   "execution_count": null,
   "id": "ec4b250f",
   "metadata": {},
   "outputs": [],
   "source": [
    "# Prázdna kódová bunka pre riešenie Úlohy 10"
   ]
  }
 ],
 "metadata": {
  "kernelspec": {
   "display_name": "Python 3",
   "language": "python",
   "name": "python3"
  },
  "language_info": {
   "codemirror_mode": {
    "name": "ipython",
    "version": 3
   },
   "file_extension": ".py",
   "mimetype": "text/x-python",
   "name": "python",
   "nbconvert_exporter": "python",
   "pygments_lexer": "ipython3",
   "version": "3.11.5"
  }
 },
 "nbformat": 4,
 "nbformat_minor": 5
}
