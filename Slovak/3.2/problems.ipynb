{
 "cells": [
  {
   "cell_type": "markdown",
   "id": "153491d4",
   "metadata": {},
   "source": [
    "# Na hodinu"
   ]
  },
  {
   "cell_type": "markdown",
   "id": "d297093c",
   "metadata": {},
   "source": [
    "### ⭐ Úloha 01\n",
    "Vytvor základnú triedu `Vehicle` s atribútmi `speed`, `fuel_capacity` a `fuel_consumption`. Vytvor podradené triedy `Car`, `Motorcycle` a `Truck`, ktoré dedia z `Vehicle`. Každá podradená trieda by mala mať metódu `travel_distance(hours)`, ktorá vypočíta, ako ďaleko dokáže cestovať."
   ]
  },
  {
   "cell_type": "code",
   "execution_count": null,
   "id": "dc32208e",
   "metadata": {},
   "outputs": [],
   "source": [
    "# Prázdna kódová bunka pre riešenie Úlohy 01"
   ]
  },
  {
   "cell_type": "markdown",
   "id": "39c46e1a",
   "metadata": {},
   "source": [
    "### ⭐ Úloha 02\n",
    "Útulok pre zvieratá eviduje zvieratá s ich vekom, váhou a adopčným poplatkom. Psy majú základný poplatok $50 plus $10 za každý rok veku. Mačky majú základný poplatok $40 plus $8 za každý rok. Vtáky majú fixný poplatok $25. Útulok práve dostal dar, ktorý pokrýva adopčné poplatky pre všetky zvieratá mladšie ako 2 roky. Vytvor systém, ktorý vypočíta, koľko peňazí z daru bude použitých, ak je momentálne v útulku 5 psov (vek: 1, 3, 5, 1, 7), 8 mačiek (vek: 2, 1, 4, 1, 6, 1, 3, 8) a 3 vtáky (vek: 1, 2, 4)."
   ]
  },
  {
   "cell_type": "code",
   "execution_count": 11,
   "id": "4bf8d363",
   "metadata": {},
   "outputs": [],
   "source": [
    "class Animal:\n",
    "    def __init__(self, age, weight):\n",
    "        self.age = age\n",
    "        self.weight = weight\n",
    "        \n",
    "class Dog(Animal):\n",
    "    def __init__(self, age, weight):\n",
    "        super().__init__(age, weight)\n",
    "        self.fee = 50 + age*10\n",
    "        \n",
    "class Cat(Animal):\n",
    "    def __init__(self, age, weight):\n",
    "        super().__init__(age, weight)\n",
    "        self.fee = 40 + age*8\n",
    "        \n",
    "class Bird(Animal):\n",
    "    def __init__(self, age, weight):\n",
    "        super().__init__(age, weight)\n",
    "        self.fee = 25   \n",
    "        "
   ]
  },
  {
   "cell_type": "code",
   "execution_count": null,
   "id": "57de7bae",
   "metadata": {},
   "outputs": [
    {
     "name": "stdout",
     "output_type": "stream",
     "text": [
      "[<__main__.Dog object at 0x000001B3A0D6C2F0>, <__main__.Dog object at 0x000001B3A0A82490>, <__main__.Dog object at 0x000001B3A0A825D0>, <__main__.Dog object at 0x000001B3A0C39350>, <__main__.Dog object at 0x000001B3A0C390F0>, <__main__.Cat object at 0x000001B3A0D6C440>, <__main__.Cat object at 0x000001B3A0A81950>, <__main__.Cat object at 0x000001B3A0A81D10>, <__main__.Cat object at 0x000001B3A0C39BA0>, <__main__.Cat object at 0x000001B3A0C39CD0>, <__main__.Cat object at 0x000001B3A0BF2E70>, <__main__.Cat object at 0x000001B3A0A8F680>, <__main__.Cat object at 0x000001B3A0A8F240>, <__main__.Bird object at 0x000001B3A0D6C050>, <__main__.Bird object at 0x000001B3A0A820D0>, <__main__.Bird object at 0x000001B3A0A82210>]\n"
     ]
    }
   ],
   "source": [
    "shelter_animals = []\n",
    "\n",
    "dog1 = Dog(1, 73)  \n",
    "dog2 = Dog(3, 43)\n",
    "dog3 = Dog(5, 43)\n",
    "dog4 = Dog(1, 43)\n",
    "dog5 = Dog(7, 43)\n",
    "## 120 for dogs younger than 2\n",
    "\n",
    "cat1 = Cat(2, 5)\n",
    "cat2 = Cat(1, 5)\n",
    "cat3 = Cat(4, 5)\n",
    "cat4 = Cat(1, 5)\n",
    "cat5 = Cat(6, 5)\n",
    "cat6 = Cat(1, 5)\n",
    "cat7 = Cat(3, 5)\n",
    "cat8 = Cat(8, 5)\n",
    "## 200\n",
    "\n",
    "bird1 = Bird(1, 0.5)\n",
    "bird2 = Bird(2, 0.5)\n",
    "bird3 = Bird(4, 0.5)\n",
    "## 50\n",
    "\n",
    "shelter_animals.append(dog1)\n",
    "shelter_animals.append(dog2)\n",
    "shelter_animals.append(dog3)\n",
    "shelter_animals.append(dog4)\n",
    "shelter_animals.append(dog5)\n",
    "\n",
    "shelter_animals.append(cat1)\n",
    "shelter_animals.append(cat2)\n",
    "shelter_animals.append(cat3)\n",
    "shelter_animals.append(cat4)\n",
    "shelter_animals.append(cat5)\n",
    "shelter_animals.append(cat6)\n",
    "shelter_animals.append(cat7)\n",
    "shelter_animals.append(cat8)\n",
    "\n",
    "shelter_animals.append(bird1)\n",
    "shelter_animals.append(bird2)\n",
    "shelter_animals.append(bird3)\n",
    "\n",
    "len(shelter_animals)\n",
    "print(shelter_animals)"
   ]
  },
  {
   "cell_type": "code",
   "execution_count": 14,
   "id": "167138c4",
   "metadata": {},
   "outputs": [
    {
     "name": "stdout",
     "output_type": "stream",
     "text": [
      "370\n"
     ]
    }
   ],
   "source": [
    "total_fees = 0\n",
    "\n",
    "for animal in shelter_animals:\n",
    "    if animal.age <= 2:\n",
    "        total_fees += animal.fee\n",
    "        \n",
    "print(total_fees)"
   ]
  },
  {
   "cell_type": "markdown",
   "id": "cd087367",
   "metadata": {},
   "source": [
    "### ⭐ Úloha 03\n",
    "Vytvor triedu `LaundryItem`, kde každá položka má farbu (biela, svetlá, alebo tmavá) a typ materiálu (bavlna, syntetické, alebo jemné). Biele veci sa musia prať oddelene, svetlé a tmavé sa môžu miešať, ak obe nie sú jemné. Jemné veci sa vždy perú samostatne. Vytvor funkciu, ktorá berie zoznam prádla a vráti minimálny počet potrebných pracích cyklov. Vygeneruj 30 náhodných kusov prádla pomocou `random.choice()` pre farby a materiály, potom ukáž, koľko pracích cyklov je potrebných a ktoré veci idú do ktorého cyklu."
   ]
  },
  {
   "cell_type": "code",
   "execution_count": null,
   "id": "c905cb19",
   "metadata": {},
   "outputs": [],
   "source": [
    "# Prázdna kódová bunka pre riešenie Úlohy 03"
   ]
  },
  {
   "cell_type": "markdown",
   "id": "bc7771d0",
   "metadata": {},
   "source": [
    "### ⭐ Úloha 04\n",
    "Vytvor základnú triedu `Shape` s abstraktnou metódou `area()`. Podtriedky `Circle`, `Rectangle` a `Triangle` musia každá implementovať svoj vlastný vzorec pre výpočet plochy. Potom napíš funkciu `total_area(shapes)`, ktorá vezme zoznam rôznych objektov tvarov a vráti celkovú plochu. Ukáž, že tvoja metóda funguje pomocou unit testov."
   ]
  },
  {
   "cell_type": "code",
   "execution_count": null,
   "id": "5d6015c4",
   "metadata": {},
   "outputs": [],
   "source": [
    "# Prázdna kódová bunka pre riešenie Úlohy 04"
   ]
  },
  {
   "cell_type": "markdown",
   "id": "9ae7b114",
   "metadata": {},
   "source": [
    "### ⭐ Úloha 05\n",
    "Zoo má rôzne zvieratá s rôznymi harmonogramami krmenia. Mäsožravce jedia každých 8 hodín a konzumujú 5kg mäsa na krmenie. Bylinožravce jedia každých 6 hodín a konzumujú 8kg rastlín na krmenie. Všežravce jedia každých 7 hodín a konzumujú 3kg mäsa + 4kg rastlín na krmenie. Zoo má 3 levy (carnivores), 4 slony (herbivores) a 2 medvede (omnivores). Prvýkrát každý týždeň sú mäsožravce kŕmené v pondelok o 7:00, bylinožravce v pondelok o 5:00 a všežravce v pondelok o 6:30. Nakoniec, každá skupina spí osem hodín denne, v náhodných intervaloch po dve hodiny, a nemôžu byť kŕmené, keď spia. Printni presne, kedy bola každá skupina zvierat nakŕmená.\n",
    "\n",
    "<details>\n",
    "<summary>Tip</summary>\n",
    "Nezabudni vypísať, kedy zviera *nebolo* nakŕmené z nejakého dôvodu (napr. kvôli spánku), aby si sa uistila, že tvoja funkcia funguje správne.\n",
    "</details>"
   ]
  },
  {
   "cell_type": "code",
   "execution_count": null,
   "id": "2da97845",
   "metadata": {},
   "outputs": [],
   "source": [
    "# Prázdna kódová bunka pre riešenie Úlohy 05"
   ]
  },
  {
   "cell_type": "markdown",
   "id": "364461ca",
   "metadata": {},
   "source": [
    "### ⭐ Úloha 06\n",
    "Vytvor základnú triedu `Shape` s atribútmi pre názov a počet strán, a metódou `roll_distance()`, ktorá vezme silu použitú na odtlačenie daného tvaru a vráti, ako ďaleko sa tvar odkotúľa, keď je odtlačený. Potom vytvor podtriedky `Circle`, `Square` a `Hexagon`, kde každá definuje, ako počet strán ovplyvňuje kotúľanie, pričom vzdialenosť, ktorú každý tvar dokáže prejsť, je rovná $(force \\times 10) / \\text{počet strán}$. Napíš funkciu `roll_tournament()`, ktorá vezme zoznam tvarov a jednu silu použitú na všetky tvary, zavolá metódu `roll_distance()` každého tvaru a vypíše, ktorý tvar sa odkotúľal najďalej. Ukáž, že tvoj program funguje s aspoň tromi rôznymi tvarmi."
   ]
  },
  {
   "cell_type": "code",
   "execution_count": null,
   "id": "2dc71b5f",
   "metadata": {},
   "outputs": [],
   "source": [
    "# Prázdna kódová bunka pre riešenie Úlohy 06"
   ]
  },
  {
   "cell_type": "markdown",
   "id": "d2530d03",
   "metadata": {},
   "source": [
    "### ⭐ Úloha 07\n",
    "Každá podtrieda `Shape` (`Circle`, `Rectangle`, `Triangle`) implementuje metódu `cast_shadow`, ktorá vezme uhol svetla relatívne k povrchu, na ktorom je tvar umiestnený, a vráti dĺžku tieňa v závislosti od geometrie tvaru. Napíš funkciu, ktorá pre daný zoznam tvarov a jeden uhol svetla vráti najdlhší tieň."
   ]
  },
  {
   "cell_type": "code",
   "execution_count": null,
   "id": "98f959ff",
   "metadata": {},
   "outputs": [],
   "source": [
    "# Prázdna kódová bunka pre riešenie Úlohy 07"
   ]
  },
  {
   "cell_type": "markdown",
   "id": "1df85a03",
   "metadata": {},
   "source": [
    "### ⭐ Úloha 08\n",
    "Vytvor základnú triedu `Message` s podtriedkami `TextMessage` (ktorá pozostáva zo zoznamu charakterov), `ImageMessage` (zoznam RGB trojíc) a `VoiceMessage` (zoznam float frekvencií). Každý typ musí vedieť, ako sa komprimovať. Komprimácia znamená, že ak sú dve ekvivalentné hodnoty hneď vedľa seba, správa si ponechá len jednu z nich (napr. ak textová správa pozostáva zo znakov `h`, `e`, `l`, `l` a `o`, komprimovaná textová správa bude pozostávať z `h`, `e`, `l`, `o`). Napíš funkciu, ktorá vezme zoznam zmiešaných správ a vypočíta celkové ušetrené úložisko po komprimácii."
   ]
  },
  {
   "cell_type": "code",
   "execution_count": null,
   "id": "5c47b4e3",
   "metadata": {},
   "outputs": [],
   "source": [
    "# Prázdna kódová bunka pre riešenie Úlohy 08"
   ]
  },
  {
   "cell_type": "markdown",
   "id": "1cb14cda",
   "metadata": {},
   "source": [
    "### ⭐ Úloha 09\n",
    "Vytvor základnú triedu `ElectricDevice` s metódou `consume_energy(hours, usage)`, ktorá vypočíta spotrebovanú energiu na základe toho, ako dlho zariadenie beží a koľko energie spotrebuje za hodinu. Podtriedky prvej generácie `Lights`, `HeatingDevice` alebo `ScreenDevice` definujú maximálny povolený čas prevádzky za deň pre daný typ. Podtriedky druhej generácie ako `LEDLight`, `HalogenLight`, `Heater`, `AirConditioner` a `TV` majú svoju vlastnú špecifickú spotrebu energie za hodinu a dedia limity času prevádzky od svojho rodičovského typu. Implementuj triedu `smarthome`, ktorá vezme zoznam viacerých zariadení a vypočíta, koľko bude domácnosť platiť pri rôznych denných a nočných tarifách elektriny."
   ]
  },
  {
   "cell_type": "code",
   "execution_count": null,
   "id": "6e94abcf",
   "metadata": {},
   "outputs": [],
   "source": [
    "# Prázdna kódová bunka pre riešenie Úlohy 09"
   ]
  },
  {
   "cell_type": "markdown",
   "id": "bcceea77",
   "metadata": {},
   "source": [
    "### ⭐ Úloha 10\n",
    "Navrhni základnú triedu `TrafficLight` s metódami na prechádzanie stavmi: 'Red', 'Yellow', 'Green'. Implementuj podtriedu `PedestrianCrossingLight`, ktorá prepíše logiku stavov; musí prepnúť z 'Green' na 'Red' len po zavolaní metódy `pedestrian_request()`. Zvaž interakciu týchto dvoch objektov: ak svieti zelená na chodcovom semafore, potom musí byť červená na dopravnom semafore a žiadne autá nemôžu prejsť. Keď svieti zelená, auto prejde cez semafor každých 5 sekúnd. Implementuj funkciu, ktorá vypočíta, koľko áut prejde počas hodinovej periódy, kde žiadosti chodcov sa vyskytujú v náhodných časoch."
   ]
  },
  {
   "cell_type": "code",
   "execution_count": null,
   "id": "ec4b250f",
   "metadata": {},
   "outputs": [],
   "source": [
    "# Prázdna kódová bunka pre riešenie Úlohy 10"
   ]
  }
 ],
 "metadata": {
  "kernelspec": {
   "display_name": "Python 3",
   "language": "python",
   "name": "python3"
  },
  "language_info": {
   "codemirror_mode": {
    "name": "ipython",
    "version": 3
   },
   "file_extension": ".py",
   "mimetype": "text/x-python",
   "name": "python",
   "nbconvert_exporter": "python",
   "pygments_lexer": "ipython3",
   "version": "3.14.0"
  }
 },
 "nbformat": 4,
 "nbformat_minor": 5
}
