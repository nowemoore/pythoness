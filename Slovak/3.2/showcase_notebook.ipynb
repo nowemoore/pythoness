{
 "cells": [
  {
   "cell_type": "markdown",
   "id": "88dfa923",
   "metadata": {},
   "source": [
    "# Module 3.2\n"
   ]
  },
  {
   "cell_type": "markdown",
   "id": "364df436",
   "metadata": {},
   "source": [
    "## Parent & Child Classes"
   ]
  },
  {
   "cell_type": "code",
   "execution_count": 1,
   "id": "d3f1f9bd",
   "metadata": {},
   "outputs": [],
   "source": [
    "class Animal:\n",
    "    def __init__(self, name, age):\n",
    "        self.name = name\n",
    "        self.age = age\n",
    "    \n",
    "    def eat(self):\n",
    "        return f\"{self.name} is eating fish.\"\n",
    "    \n",
    "    def make_sound(self):\n",
    "        return \"Some generic animal sound\"\n",
    "    \n",
    "    def __str__(self):\n",
    "        return f\"{self.name} (age {self.age})\""
   ]
  },
  {
   "cell_type": "code",
   "execution_count": 2,
   "id": "6e3a9bf1",
   "metadata": {},
   "outputs": [
    {
     "name": "stdout",
     "output_type": "stream",
     "text": [
      "Dusty (age 3)\n",
      "Some generic animal sound\n",
      "Dusty is eating fish.\n"
     ]
    }
   ],
   "source": [
    "dog = Animal(\"Dusty\", 3)\n",
    "print(dog)\n",
    "print(dog.make_sound())\n",
    "print(dog.eat())"
   ]
  },
  {
   "cell_type": "code",
   "execution_count": 3,
   "id": "30457fad",
   "metadata": {},
   "outputs": [],
   "source": [
    "class Dog(Animal):\n",
    "    def __init__(self, name, age, breed):\n",
    "        self.name = name\n",
    "        self.age = age\n",
    "        self.breed = breed\n",
    "    \n",
    "    ## leave method as is\n",
    "    def eat(self):\n",
    "        return f\"{self.name} is eating fish.\"\n",
    "    \n",
    "    ## override method\n",
    "    def make_sound(self):\n",
    "        return \"Woof! Woof!\"\n",
    "    \n",
    "    ## add new method\n",
    "    def fetch(self):\n",
    "        return f\"{self.name} is fetching the ball!\"\n",
    "    \n",
    "    def __str__(self):\n",
    "        return f\"{self.name} the {self.breed} (age {self.age})\""
   ]
  },
  {
   "cell_type": "code",
   "execution_count": 4,
   "id": "3a0096b5",
   "metadata": {},
   "outputs": [],
   "source": [
    "dog1 = Animal(\"Dusty\", 3)\n",
    "dog2 = Dog(\"Dusty\", 13, \"Golden Retriever\")"
   ]
  },
  {
   "cell_type": "code",
   "execution_count": 5,
   "id": "76e252bc",
   "metadata": {},
   "outputs": [
    {
     "name": "stdout",
     "output_type": "stream",
     "text": [
      "Dusty (age 3)\n",
      "Dusty the Golden Retriever (age 13)\n"
     ]
    }
   ],
   "source": [
    "print(dog1)\n",
    "print(dog2)"
   ]
  },
  {
   "cell_type": "code",
   "execution_count": 6,
   "id": "b05399be",
   "metadata": {},
   "outputs": [
    {
     "name": "stdout",
     "output_type": "stream",
     "text": [
      "Dusty is eating fish.\n",
      "Dusty is eating fish.\n"
     ]
    }
   ],
   "source": [
    "print(dog1.eat())\n",
    "print(dog2.eat())"
   ]
  },
  {
   "cell_type": "code",
   "execution_count": 7,
   "id": "714a70b4",
   "metadata": {},
   "outputs": [
    {
     "name": "stdout",
     "output_type": "stream",
     "text": [
      "Some generic animal sound\n",
      "Woof! Woof!\n"
     ]
    }
   ],
   "source": [
    "print(dog1.make_sound())\n",
    "print(dog2.make_sound())"
   ]
  },
  {
   "cell_type": "code",
   "execution_count": 8,
   "id": "98c37851",
   "metadata": {},
   "outputs": [
    {
     "name": "stdout",
     "output_type": "stream",
     "text": [
      "Dusty is fetching the ball!\n"
     ]
    },
    {
     "ename": "AttributeError",
     "evalue": "'Animal' object has no attribute 'fetch'",
     "output_type": "error",
     "traceback": [
      "\u001b[31m---------------------------------------------------------------------------\u001b[39m",
      "\u001b[31mAttributeError\u001b[39m                            Traceback (most recent call last)",
      "\u001b[36mCell\u001b[39m\u001b[36m \u001b[39m\u001b[32mIn[8]\u001b[39m\u001b[32m, line 2\u001b[39m\n\u001b[32m      1\u001b[39m \u001b[38;5;28mprint\u001b[39m(dog2.fetch())\n\u001b[32m----> \u001b[39m\u001b[32m2\u001b[39m \u001b[38;5;28mprint\u001b[39m(\u001b[43mdog1\u001b[49m\u001b[43m.\u001b[49m\u001b[43mfetch\u001b[49m())\n",
      "\u001b[31mAttributeError\u001b[39m: 'Animal' object has no attribute 'fetch'"
     ]
    }
   ],
   "source": [
    "print(dog2.fetch())\n",
    "print(dog1.fetch())"
   ]
  },
  {
   "cell_type": "markdown",
   "id": "046bb71c",
   "metadata": {},
   "source": [
    "## `super()` & Polymorphism"
   ]
  },
  {
   "cell_type": "markdown",
   "id": "87b73965",
   "metadata": {},
   "source": [
    "### `super()` inside `__init__`"
   ]
  },
  {
   "cell_type": "code",
   "execution_count": 9,
   "id": "ec298082",
   "metadata": {},
   "outputs": [],
   "source": [
    "## parent class\n",
    "class Animal:\n",
    "    def __init__(self, name, age):\n",
    "        self.name = name\n",
    "        self.age = age\n",
    "\n",
    "## child class\n",
    "class Dog(Animal):\n",
    "    def __init__(self, name, age, breed):\n",
    "        super().__init__(name, age) \n",
    "        self.breed = breed"
   ]
  },
  {
   "cell_type": "code",
   "execution_count": 10,
   "id": "2b25b47c",
   "metadata": {},
   "outputs": [
    {
     "ename": "TypeError",
     "evalue": "Animal.__init__() takes 3 positional arguments but 4 were given",
     "output_type": "error",
     "traceback": [
      "\u001b[31m---------------------------------------------------------------------------\u001b[39m",
      "\u001b[31mTypeError\u001b[39m                                 Traceback (most recent call last)",
      "\u001b[36mCell\u001b[39m\u001b[36m \u001b[39m\u001b[32mIn[10]\u001b[39m\u001b[32m, line 3\u001b[39m\n\u001b[32m      1\u001b[39m animal1 = Animal(\u001b[33m\"\u001b[39m\u001b[33mDon\u001b[39m\u001b[33m\"\u001b[39m, \u001b[32m7\u001b[39m)\n\u001b[32m      2\u001b[39m dog1 = Dog(\u001b[33m\"\u001b[39m\u001b[33mPhilip\u001b[39m\u001b[33m\"\u001b[39m, \u001b[32m3\u001b[39m, \u001b[33m\"\u001b[39m\u001b[33mGolden Retriever\u001b[39m\u001b[33m\"\u001b[39m)\n\u001b[32m----> \u001b[39m\u001b[32m3\u001b[39m dog2 = \u001b[43mAnimal\u001b[49m\u001b[43m(\u001b[49m\u001b[33;43m\"\u001b[39;49m\u001b[33;43mAlice\u001b[39;49m\u001b[33;43m\"\u001b[39;49m\u001b[43m,\u001b[49m\u001b[43m \u001b[49m\u001b[32;43m5\u001b[39;49m\u001b[43m,\u001b[49m\u001b[43m \u001b[49m\u001b[33;43m\"\u001b[39;49m\u001b[33;43mBorder Collie\u001b[39;49m\u001b[33;43m\"\u001b[39;49m\u001b[43m)\u001b[49m\n",
      "\u001b[31mTypeError\u001b[39m: Animal.__init__() takes 3 positional arguments but 4 were given"
     ]
    }
   ],
   "source": [
    "animal1 = Animal(\"Don\", 7)\n",
    "dog1 = Dog(\"Philip\", 3, \"Golden Retriever\")\n",
    "dog2 = Animal(\"Alice\", 5, \"Border Collie\")"
   ]
  },
  {
   "cell_type": "code",
   "execution_count": 28,
   "id": "42ca5c50",
   "metadata": {},
   "outputs": [],
   "source": [
    "## parent class\n",
    "class Animal:\n",
    "    def __init__(self, name, age, weight):\n",
    "        self.name = name\n",
    "        self.age = age\n",
    "\n",
    "## child class\n",
    "class Dog(Animal):\n",
    "    def __init__(self, name, age, breed):\n",
    "        super().__init__(name, age) \n",
    "        self.breed = breed"
   ]
  },
  {
   "cell_type": "code",
   "execution_count": 29,
   "id": "c1282e3b",
   "metadata": {},
   "outputs": [
    {
     "ename": "TypeError",
     "evalue": "Animal.__init__() missing 1 required positional argument: 'weight'",
     "output_type": "error",
     "traceback": [
      "\u001b[31m---------------------------------------------------------------------------\u001b[39m",
      "\u001b[31mTypeError\u001b[39m                                 Traceback (most recent call last)",
      "\u001b[36mCell\u001b[39m\u001b[36m \u001b[39m\u001b[32mIn[29]\u001b[39m\u001b[32m, line 1\u001b[39m\n\u001b[32m----> \u001b[39m\u001b[32m1\u001b[39m animal1 = \u001b[43mAnimal\u001b[49m\u001b[43m(\u001b[49m\u001b[33;43m\"\u001b[39;49m\u001b[33;43mDon\u001b[39;49m\u001b[33;43m\"\u001b[39;49m\u001b[43m,\u001b[49m\u001b[43m \u001b[49m\u001b[32;43m7\u001b[39;49m\u001b[43m)\u001b[49m\n\u001b[32m      2\u001b[39m dog1 = Dog(\u001b[33m\"\u001b[39m\u001b[33mPhilip\u001b[39m\u001b[33m\"\u001b[39m, \u001b[32m3\u001b[39m, \u001b[33m\"\u001b[39m\u001b[33mGolden Retriever\u001b[39m\u001b[33m\"\u001b[39m)\n\u001b[32m      3\u001b[39m dog2 = Animal(\u001b[33m\"\u001b[39m\u001b[33mAlice\u001b[39m\u001b[33m\"\u001b[39m, \u001b[32m5\u001b[39m, \u001b[33m\"\u001b[39m\u001b[33mBorder Collie\u001b[39m\u001b[33m\"\u001b[39m)\n",
      "\u001b[31mTypeError\u001b[39m: Animal.__init__() missing 1 required positional argument: 'weight'"
     ]
    }
   ],
   "source": [
    "animal1 = Animal(\"Don\", 7)\n",
    "dog1 = Dog(\"Philip\", 3, \"Golden Retriever\")\n",
    "dog2 = Animal(\"Alice\", 5, \"Border Collie\")"
   ]
  },
  {
   "cell_type": "code",
   "execution_count": 27,
   "id": "9c889ef2",
   "metadata": {},
   "outputs": [
    {
     "name": "stdout",
     "output_type": "stream",
     "text": [
      "Don\n",
      "Philip\n"
     ]
    }
   ],
   "source": [
    "print(animal1.name)\n",
    "print(dog1.name)"
   ]
  },
  {
   "cell_type": "markdown",
   "id": "a432c6d1",
   "metadata": {},
   "source": [
    "### `super()` outside `__init__`"
   ]
  },
  {
   "cell_type": "code",
   "execution_count": 30,
   "id": "334df00e",
   "metadata": {},
   "outputs": [],
   "source": [
    "## parent class\n",
    "class Animal:\n",
    "    def __init__(self, name):\n",
    "        self.name = name\n",
    "    \n",
    "    def make_sound(self):\n",
    "        return f\"{self.name} makes a sound\"\n",
    "\n",
    "## child class no. 1\n",
    "class Dog(Animal):\n",
    "    def make_sound(self):\n",
    "        parent_sound = super().make_sound()\n",
    "        x = parent_sound.upper()\n",
    "        return x + \": Woof!\"\n",
    "\n",
    "## child class no. 2\n",
    "class Cat(Animal):\n",
    "    def make_sound(self):\n",
    "        parent_sound = super().make_sound()\n",
    "        return parent_sound + \": Meow!\"\n",
    "\n",
    "## child class no. 3\n",
    "class Cow(Animal):\n",
    "    def make_sound(self):\n",
    "        parent_sound = super().make_sound()\n",
    "        return parent_sound + \": Moo!\""
   ]
  },
  {
   "cell_type": "code",
   "execution_count": 31,
   "id": "d9ead412",
   "metadata": {},
   "outputs": [],
   "source": [
    "platypus = Animal(\"Perry\")\n",
    "dog = Dog(\"Buddy\")\n",
    "cat = Cat(\"Whiskers\")\n",
    "cow = Cow(\"Bessie\")"
   ]
  },
  {
   "cell_type": "code",
   "execution_count": 32,
   "id": "8e352e64",
   "metadata": {},
   "outputs": [
    {
     "name": "stdout",
     "output_type": "stream",
     "text": [
      "Perry\n",
      "Buddy\n",
      "Whiskers\n",
      "Bessie\n"
     ]
    }
   ],
   "source": [
    "print(platypus.name)\n",
    "print(dog.name)\n",
    "print(cat.name)\n",
    "print(cow.name)"
   ]
  },
  {
   "cell_type": "code",
   "execution_count": 33,
   "id": "fe36dc3a",
   "metadata": {},
   "outputs": [
    {
     "name": "stdout",
     "output_type": "stream",
     "text": [
      "Perry makes a sound\n",
      "BUDDY MAKES A SOUND: Woof!\n",
      "Whiskers makes a sound: Meow!\n",
      "Bessie makes a sound: Moo!\n"
     ]
    }
   ],
   "source": [
    "print(platypus.make_sound())\n",
    "print(dog.make_sound())\n",
    "print(cat.make_sound())\n",
    "print(cow.make_sound())"
   ]
  },
  {
   "cell_type": "markdown",
   "id": "a484082e",
   "metadata": {},
   "source": [
    "## Inheriting From Multiple Parents"
   ]
  },
  {
   "cell_type": "markdown",
   "id": "84f127b6",
   "metadata": {},
   "source": [
    "### Directly"
   ]
  },
  {
   "cell_type": "code",
   "execution_count": 16,
   "id": "cb136259",
   "metadata": {},
   "outputs": [],
   "source": [
    "## parent class no. 1\n",
    "class Animal:\n",
    "    def __init__(self, name):\n",
    "        self.name = name\n",
    "    \n",
    "    def eat(self):\n",
    "        return f\"{self.name} is eating\"\n",
    "\n",
    "## parent class no. 2\n",
    "class Swimmer:\n",
    "    def __init__(self, swim_speed):\n",
    "        self.swim_speed = swim_speed\n",
    "    \n",
    "    def swim(self):\n",
    "        return f\"Swimming at {self.swim_speed} mph\"\n",
    "\n",
    "## parent class no. 3\n",
    "class Flyer:\n",
    "    def __init__(self, fly_speed):\n",
    "        self.fly_speed = fly_speed\n",
    "    \n",
    "    def fly(self):\n",
    "        return f\"Flying at {self.fly_speed} mph\"\n",
    "\n",
    "\n",
    "## child class\n",
    "class Duck(Animal, Swimmer, Flyer):\n",
    "    def __init__(self, name, swim_speed, fly_speed):\n",
    "        Animal.__init__(self, name)\n",
    "        Swimmer.__init__(self, swim_speed)\n",
    "        Flyer.__init__(self, fly_speed)\n",
    "    \n",
    "    def quack(self):\n",
    "        return f\"{self.name} says Quack!\""
   ]
  },
  {
   "cell_type": "code",
   "execution_count": 17,
   "id": "040912c8",
   "metadata": {},
   "outputs": [
    {
     "name": "stdout",
     "output_type": "stream",
     "text": [
      "Donald is eating\n",
      "Swimming at 5 mph\n",
      "Flying at 40 mph\n",
      "Donald says Quack!\n"
     ]
    }
   ],
   "source": [
    "duck = Duck(\"Donald\", 5, 40)\n",
    "\n",
    "print(duck.eat())    ## from animal\n",
    "print(duck.swim())   ## from swimmer\n",
    "print(duck.fly())    ## from flyer\n",
    "print(duck.quack())  ## duck original method"
   ]
  },
  {
   "cell_type": "markdown",
   "id": "33cf8974",
   "metadata": {},
   "source": [
    "### Across Generations "
   ]
  },
  {
   "cell_type": "code",
   "execution_count": 18,
   "id": "220c88b5",
   "metadata": {},
   "outputs": [],
   "source": [
    "## parent class no. 1 (grandparent)\n",
    "class LivingThing:\n",
    "    def __init__(self, name):\n",
    "        self.name = name\n",
    "    \n",
    "    def breathe(self):\n",
    "        return f\"{self.name} is breathing\"\n",
    "\n",
    "## parent class no. 2\n",
    "class Animal(LivingThing):\n",
    "    def __init__(self, name, age):\n",
    "        super().__init__(name)\n",
    "        self.age = age\n",
    "    \n",
    "    def move(self):\n",
    "        return f\"{self.name} is moving\"\n",
    "\n",
    "## child class\n",
    "class Dog(Animal):\n",
    "    def __init__(self, name, age, breed):\n",
    "        super().__init__(name, age)\n",
    "        self.breed = breed\n",
    "    \n",
    "    def bark(self):\n",
    "        return f\"{self.name} says Woof!\""
   ]
  },
  {
   "cell_type": "code",
   "execution_count": 19,
   "id": "cb4991da",
   "metadata": {},
   "outputs": [
    {
     "name": "stdout",
     "output_type": "stream",
     "text": [
      "Buddy is breathing\n",
      "Buddy is moving\n",
      "Buddy says Woof!\n"
     ]
    }
   ],
   "source": [
    "dog = Dog(\"Buddy\", 5, \"Golden Retriever\")\n",
    "\n",
    "print(dog.breathe())  ## from living thing\n",
    "print(dog.move())     ## from animal\n",
    "print(dog.bark())     ## from dog"
   ]
  },
  {
   "cell_type": "markdown",
   "id": "cafa4ac4",
   "metadata": {},
   "source": [
    "## Duck Typing"
   ]
  },
  {
   "cell_type": "code",
   "execution_count": 20,
   "id": "dfa23abf",
   "metadata": {},
   "outputs": [],
   "source": [
    "class Dog:\n",
    "    def speak(self):\n",
    "        return \"Woof!\"\n",
    "    \n",
    "    def move(self):\n",
    "        return \"Running on four legs\"\n",
    "\n",
    "class Car:\n",
    "    def speak(self):\n",
    "        return \"Beep beep!\"\n",
    "    \n",
    "    def move(self):\n",
    "        return \"Driving on wheels\"\n",
    "\n",
    "class Person:\n",
    "    def speak(self):\n",
    "        return \"Hello!\"\n",
    "    \n",
    "    def move(self):\n",
    "        return \"Walking on two legs\"\n",
    "    \n",
    "## note that these classes are not at all related by inheritance"
   ]
  },
  {
   "cell_type": "code",
   "execution_count": 21,
   "id": "bf2c83af",
   "metadata": {},
   "outputs": [],
   "source": [
    "def make_it_speak_and_move(thing):\n",
    "    print(thing.speak())\n",
    "    print(thing.move())\n",
    "    print() ## doesn't check for type before running the method; if it fits, it sits"
   ]
  },
  {
   "cell_type": "code",
   "execution_count": 24,
   "id": "b0513eb7",
   "metadata": {},
   "outputs": [
    {
     "name": "stdout",
     "output_type": "stream",
     "text": [
      "Woof!\n",
      "Running on four legs\n",
      "\n",
      "Beep beep!\n",
      "Driving on wheels\n",
      "\n",
      "Hello!\n",
      "Walking on two legs\n",
      "\n"
     ]
    }
   ],
   "source": [
    "dog = Dog()\n",
    "car = Car()\n",
    "person = Person()\n",
    "\n",
    "make_it_speak_and_move(dog)\n",
    "make_it_speak_and_move(car)\n",
    "make_it_speak_and_move(person)"
   ]
  },
  {
   "cell_type": "code",
   "execution_count": 25,
   "id": "032f9f45",
   "metadata": {},
   "outputs": [
    {
     "ename": "AttributeError",
     "evalue": "'str' object has no attribute 'speak'",
     "output_type": "error",
     "traceback": [
      "\u001b[31m---------------------------------------------------------------------------\u001b[39m",
      "\u001b[31mAttributeError\u001b[39m                            Traceback (most recent call last)",
      "\u001b[36mCell\u001b[39m\u001b[36m \u001b[39m\u001b[32mIn[25]\u001b[39m\u001b[32m, line 1\u001b[39m\n\u001b[32m----> \u001b[39m\u001b[32m1\u001b[39m \u001b[43mmake_it_speak_and_move\u001b[49m\u001b[43m(\u001b[49m\u001b[33;43m\"\u001b[39;49m\u001b[33;43mThis is a string\u001b[39;49m\u001b[33;43m\"\u001b[39;49m\u001b[43m)\u001b[49m  \u001b[38;5;66;03m## will raise an error\u001b[39;00m\n",
      "\u001b[36mCell\u001b[39m\u001b[36m \u001b[39m\u001b[32mIn[21]\u001b[39m\u001b[32m, line 2\u001b[39m, in \u001b[36mmake_it_speak_and_move\u001b[39m\u001b[34m(thing)\u001b[39m\n\u001b[32m      1\u001b[39m \u001b[38;5;28;01mdef\u001b[39;00m\u001b[38;5;250m \u001b[39m\u001b[34mmake_it_speak_and_move\u001b[39m(thing):\n\u001b[32m----> \u001b[39m\u001b[32m2\u001b[39m     \u001b[38;5;28mprint\u001b[39m(\u001b[43mthing\u001b[49m\u001b[43m.\u001b[49m\u001b[43mspeak\u001b[49m())\n\u001b[32m      3\u001b[39m     \u001b[38;5;28mprint\u001b[39m(thing.move())\n\u001b[32m      4\u001b[39m     \u001b[38;5;28mprint\u001b[39m()\n",
      "\u001b[31mAttributeError\u001b[39m: 'str' object has no attribute 'speak'"
     ]
    }
   ],
   "source": [
    "make_it_speak_and_move(\"This is a string\")  ## will raise an error"
   ]
  }
 ],
 "metadata": {
  "kernelspec": {
   "display_name": "Python 3",
   "language": "python",
   "name": "python3"
  },
  "language_info": {
   "codemirror_mode": {
    "name": "ipython",
    "version": 3
   },
   "file_extension": ".py",
   "mimetype": "text/x-python",
   "name": "python",
   "nbconvert_exporter": "python",
   "pygments_lexer": "ipython3",
   "version": "3.14.0"
  }
 },
 "nbformat": 4,
 "nbformat_minor": 5
}
