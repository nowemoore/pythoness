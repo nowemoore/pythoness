{
 "cells": [
  {
   "cell_type": "markdown",
   "id": "134bf85a",
   "metadata": {},
   "source": [
    "# Module 1.2"
   ]
  },
  {
   "cell_type": "markdown",
   "id": "9a232c06",
   "metadata": {},
   "source": [
    "## Lists"
   ]
  },
  {
   "cell_type": "code",
   "execution_count": null,
   "id": "b2f3228b",
   "metadata": {},
   "outputs": [],
   "source": [
    "my_list = [3, 7, 42]\n",
    "print(my_list)\n",
    "print(type(my_list))"
   ]
  },
  {
   "cell_type": "code",
   "execution_count": null,
   "id": "7100b55e",
   "metadata": {},
   "outputs": [],
   "source": [
    "my_list.append(100)\n",
    "print(my_list)"
   ]
  },
  {
   "cell_type": "code",
   "execution_count": null,
   "id": "b0498a84",
   "metadata": {},
   "outputs": [],
   "source": [
    "my_list.remove(7)\n",
    "print(my_list)"
   ]
  },
  {
   "cell_type": "code",
   "execution_count": null,
   "id": "002764cc",
   "metadata": {},
   "outputs": [],
   "source": [
    "print(my_list[1])"
   ]
  },
  {
   "cell_type": "code",
   "execution_count": null,
   "id": "1e7d5582",
   "metadata": {},
   "outputs": [],
   "source": [
    "print(my_list[3])"
   ]
  },
  {
   "cell_type": "code",
   "execution_count": null,
   "id": "07849258",
   "metadata": {},
   "outputs": [],
   "source": [
    "print(my_list[-1])"
   ]
  },
  {
   "cell_type": "markdown",
   "id": "e1500a36",
   "metadata": {},
   "source": [
    "## Tuples"
   ]
  },
  {
   "cell_type": "code",
   "execution_count": null,
   "id": "d9dcc375",
   "metadata": {},
   "outputs": [],
   "source": [
    "my_tuple = (159, 222, 200)\n",
    "print(my_tuple)\n",
    "print(type(my_tuple))"
   ]
  },
  {
   "cell_type": "code",
   "execution_count": null,
   "id": "c4cc2cbc",
   "metadata": {},
   "outputs": [],
   "source": [
    "print(my_tuple[1] > my_tuple[0])"
   ]
  },
  {
   "cell_type": "code",
   "execution_count": null,
   "id": "43ea045a",
   "metadata": {},
   "outputs": [],
   "source": [
    "x, y, z = my_tuple\n",
    "print(x > y)"
   ]
  },
  {
   "cell_type": "code",
   "execution_count": null,
   "id": "c69f1e37",
   "metadata": {},
   "outputs": [],
   "source": [
    "my_tuple[0] = 300 "
   ]
  },
  {
   "cell_type": "markdown",
   "id": "8e5dceee",
   "metadata": {},
   "source": [
    "## Range"
   ]
  },
  {
   "cell_type": "code",
   "execution_count": null,
   "id": "a65c0bf5",
   "metadata": {},
   "outputs": [],
   "source": [
    "my_range = range(2, 10, 2)\n",
    "print(my_range)\n",
    "print(type(my_range))"
   ]
  },
  {
   "cell_type": "code",
   "execution_count": null,
   "id": "058c0b6b",
   "metadata": {},
   "outputs": [],
   "source": [
    "my_range = range(5)\n",
    "for x in my_range:\n",
    "    print(x)"
   ]
  },
  {
   "cell_type": "code",
   "execution_count": null,
   "id": "2037edc8",
   "metadata": {},
   "outputs": [],
   "source": [
    "my_range = range(-1, 5)\n",
    "for x in my_range:\n",
    "    print(x)"
   ]
  },
  {
   "cell_type": "code",
   "execution_count": null,
   "id": "97b7ca6e",
   "metadata": {},
   "outputs": [],
   "source": [
    "my_range = range(5, 20, 3)\n",
    "for x in my_range:\n",
    "    print(x)"
   ]
  },
  {
   "cell_type": "code",
   "execution_count": null,
   "id": "7ee63252",
   "metadata": {},
   "outputs": [],
   "source": [
    "my_range = range(2, 10, 2)\n",
    "print(list(my_range))"
   ]
  },
  {
   "cell_type": "markdown",
   "id": "df046551",
   "metadata": {},
   "source": [
    "## Dictionaries"
   ]
  },
  {
   "cell_type": "code",
   "execution_count": null,
   "id": "a77c8b03",
   "metadata": {},
   "outputs": [],
   "source": [
    "my_dict = {\"name\": \"John\", \"age\": 13, \"nickname\": \"Johnny\"}\n",
    "print(my_dict)\n",
    "print(type(my_dict))"
   ]
  },
  {
   "cell_type": "code",
   "execution_count": null,
   "id": "7c4c6659",
   "metadata": {},
   "outputs": [],
   "source": [
    "print(my_dict[\"name\"])"
   ]
  },
  {
   "cell_type": "code",
   "execution_count": null,
   "id": "4fc63f07",
   "metadata": {},
   "outputs": [],
   "source": [
    "print(my_dict[\"address\"])"
   ]
  },
  {
   "cell_type": "code",
   "execution_count": null,
   "id": "a3d86c1d",
   "metadata": {},
   "outputs": [],
   "source": [
    "## notice the . operator\n",
    "print(my_dict.keys)\n",
    "print(my_dict.values)"
   ]
  },
  {
   "cell_type": "code",
   "execution_count": null,
   "id": "4e77e1d4",
   "metadata": {},
   "outputs": [],
   "source": [
    "my_dict[\"nickname\"] = \"Joe\"\n",
    "print(my_dict)"
   ]
  },
  {
   "cell_type": "markdown",
   "id": "f8e5b2d9",
   "metadata": {},
   "source": [
    "## Sets"
   ]
  },
  {
   "cell_type": "code",
   "execution_count": null,
   "id": "bc56f438",
   "metadata": {},
   "outputs": [],
   "source": [
    "my_set = {\"apple\", \"pear\", \"banana\", \"apple\", \"pear\"}\n",
    "print(type(my_set))"
   ]
  },
  {
   "cell_type": "code",
   "execution_count": null,
   "id": "500a29e5",
   "metadata": {},
   "outputs": [],
   "source": [
    "print(len(my_set))"
   ]
  },
  {
   "cell_type": "code",
   "execution_count": null,
   "id": "4c06e47e",
   "metadata": {},
   "outputs": [],
   "source": [
    "my_set.add(\"orange\")\n",
    "print(my_set)"
   ]
  }
 ],
 "metadata": {
  "kernelspec": {
   "display_name": "Python 3",
   "language": "python",
   "name": "python3"
  },
  "language_info": {
   "codemirror_mode": {
    "name": "ipython",
    "version": 3
   },
   "file_extension": ".py",
   "mimetype": "text/x-python",
   "name": "python",
   "nbconvert_exporter": "python",
   "pygments_lexer": "ipython3",
   "version": "3.13.7"
  }
 },
 "nbformat": 4,
 "nbformat_minor": 5
}
