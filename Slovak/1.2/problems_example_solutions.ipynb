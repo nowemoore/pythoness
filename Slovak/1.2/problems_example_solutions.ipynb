{
 "cells": [
  {
   "cell_type": "markdown",
   "id": "e8d7c491",
   "metadata": {},
   "source": [
    "# Príklady riešení 1.2 "
   ]
  },
  {
   "cell_type": "markdown",
   "id": "a9d2f2b3",
   "metadata": {},
   "source": [
    "## ⭐ **Úloha 01**\n",
    "Použi control flows na printnutie svojho mena presne 11 krát."
   ]
  },
  {
   "cell_type": "code",
   "execution_count": null,
   "id": "b1c73a80",
   "metadata": {},
   "outputs": [
    {
     "name": "stdout",
     "output_type": "stream",
     "text": [
      "Erika\n",
      "Erika\n",
      "Erika\n",
      "Erika\n",
      "Erika\n",
      "Erika\n",
      "Erika\n",
      "Erika\n",
      "Erika\n",
      "Erika\n",
      "Erika\n"
     ]
    }
   ],
   "source": [
    "name = \"Erika\"\n",
    "count = 0\n",
    "\n",
    "while count < 11: ## používame < 11, pretože začíname počítať od 0 (viď riadok 2) \n",
    "    print(name)\n",
    "    count = count + 1\n"
   ]
  },
  {
   "cell_type": "markdown",
   "id": "1d7f3c4d",
   "metadata": {},
   "source": [
    "## ⭐ **Úloha 02**\n",
    "Použi control flows na printnutie každého násobku 3 medzi 2 a 22."
   ]
  },
  {
   "cell_type": "code",
   "execution_count": null,
   "id": "c76c1f0e",
   "metadata": {},
   "outputs": [
    {
     "name": "stdout",
     "output_type": "stream",
     "text": [
      "3\n",
      "6\n",
      "9\n",
      "12\n",
      "15\n",
      "18\n",
      "21\n"
     ]
    }
   ],
   "source": [
    "for number in range(2, 23): ## kontroluje každé číslo medzi 2 a 22 (číslo 23 sa neráta)\n",
    "    if number % 3 == 0: ## kontroluje, či je number deliteľné 3 (čiže zvyšok po delení 3 je 0)\n",
    "        print(number) ## printne číslo len ak spĺňa podmienku v if statemente"
   ]
  },
  {
   "cell_type": "markdown",
   "id": "f5f5f5f5",
   "metadata": {},
   "source": [
    "## ⭐ **Úloha 03**\n",
    "Vytvor variable `score` s hodnotou medzi 0 a 100. Použi control flows na priradenie známky (A: 90-100, B: 80-89, C: 70-79, D: 60-69, F: pod 60)."
   ]
  },
  {
   "cell_type": "code",
   "execution_count": 4,
   "id": "a2b3c4d5",
   "metadata": {},
   "outputs": [
    {
     "name": "stdout",
     "output_type": "stream",
     "text": [
      "F\n"
     ]
    }
   ],
   "source": [
    "score = 30\n",
    "\n",
    "match score: ## porovnáva (matchuje) hodnotu variablu score s jednotlivými case podmienkami (prípadmi) vypísanými nižšie\n",
    "    case s if 100 >= s >= 90: ## case statement môže obsahovať podmienky (if statements) namiesto obyčajných hodnôt (ako napr. 99, 34, atď.)\n",
    "        grade = 'A'\n",
    "    case s if 90 >= s >= 80:\n",
    "        grade = 'B'\n",
    "    case s if 80 >= s >= 70:\n",
    "        grade = 'C'\n",
    "    case s if 70 >= s >= 60:\n",
    "        grade = 'D'\n",
    "    case s if 60 >= s >= 0: \n",
    "        grade = 'F'\n",
    "    case _: ## vykoná sa, ak sa hodntoa score nezhoduje so žiadnym z predchádzajúcich prípadov\n",
    "        grade = 'invalid score'\n",
    "\n",
    "print(grade)\n"
   ]
  },
  {
   "cell_type": "markdown",
   "id": "4e9a8b7c",
   "metadata": {},
   "source": [
    "## ⭐ **Úloha 04**\n",
    "Vytvor list s 5 rôznymi farbami. Vytvor boolean variable `has_red`, ktorý je True, ak list obsahuje červenú, inak False. Printni výsledok."
   ]
  },
  {
   "cell_type": "code",
   "execution_count": 5,
   "id": "5f4g3h2i",
   "metadata": {},
   "outputs": [
    {
     "name": "stdout",
     "output_type": "stream",
     "text": [
      "False\n"
     ]
    }
   ],
   "source": [
    "colors = [\"blue\", \"green\", \"yellow\", \"purple\", \"orange\"]\n",
    "has_red = \"red\" in colors ## operator \"in\" kontroluje členstvo (membership) (v tomto prípade, či je \"red\" v liste \"colors\").\n",
    "\n",
    "print(has_red)"
   ]
  },
  {
   "cell_type": "markdown",
   "id": "6j1k0l9m",
   "metadata": {},
   "source": [
    "## ⭐ **Úloha 05**\n",
    "Vytvor list boolean náhodných True alebo False hodnôt. Vypočítaj a printni percento True prvkov."
   ]
  },
  {
   "cell_type": "code",
   "execution_count": null,
   "id": "7n8o9p0q",
   "metadata": {},
   "outputs": [
    {
     "name": "stdout",
     "output_type": "stream",
     "text": [
      "60.0\n"
     ]
    }
   ],
   "source": [
    "quiz_answers = [True, False, True, True, False, True, False, True, True, False]\n",
    "total_answers = len(quiz_answers)\n",
    "correct_count = 0\n",
    "\n",
    "for answer in quiz_answers:\n",
    "    if answer: ## všimni si, že answer je už sama o sebe boolean hodnota, takže nemusíš písať porovnanie (t.j. answer == True)\n",
    "        correct_count += 1 ## spomeň si, že += je skratka na pripočítanie hodnoty (tu pripočíta 1 k correct_count)\n",
    "\n",
    "## vypočíta percento správnych odpovedí\n",
    "percentage = (correct_count / total_answers) * 100\n",
    "\n",
    "print(percentage)\n"
   ]
  },
  {
   "cell_type": "markdown",
   "id": "8r7s6t5u",
   "metadata": {},
   "source": [
    "## ⭐ **Úloha 06**\n",
    "Vytvor list floating-point čísel. Uprav list tak, aby každé číslo bolo zaokrúhlené na 2 desatinné miesta."
   ]
  },
  {
   "cell_type": "code",
   "execution_count": null,
   "id": "9v8w7x6y",
   "metadata": {},
   "outputs": [
    {
     "name": "stdout",
     "output_type": "stream",
     "text": [
      "[3.14, 2.71, 1.61, 0.57]\n",
      "[3.14, 2.71, 1.61, 0.57]\n",
      "[3.14, 2.72, 1.62, 0.58]\n"
     ]
    }
   ],
   "source": [
    "float_list = [3.14159, 2.71828, 1.61803, 0.57721]\n",
    "rounded_list = []\n",
    "\n",
    "for number in float_list: ## prechádzame každý prvok (číslo) v pôvodnom liste\n",
    "    number = number * 100 ## násobíme číslo 100, aby sme posunuli desatinnú čiarku o dve miesta doprava\n",
    "    number = int(number) ## prevedieme (castujeme) na integer, aby sme 'odrezali' desatinnú časť \n",
    "    number = number / 100 ## delíme 100, aby sme posunuli desatinnú čiarku späť na pôvodnú pozíciu, čím zíslame naspäť desatinné číslo\n",
    "    rounded_list.append(number) ## pridáme zaokrúhlené číslo do nového listu\n",
    "\n",
    "print(rounded_list)\n",
    "\n",
    "\n",
    "## ALEBO použi \"list comprehension\" (to je taký krajší a rýchlejší spôsob, ako vytvoriť nový list cez for loop v jednom riadku, ak máš rada elegantné riešenia!)\n",
    "float_list = [3.14159, 2.71828, 1.61803, 0.57721]\n",
    "rounded_list = [int(number * 100) / 100 for number in float_list]\n",
    "print(rounded_list)\n",
    "\n",
    "## ALEBO použi funkciu round(), ktorá prijíma číslo, ktoré zaokrúhľuješ, a počet desatinných miest.\n",
    "float_list = [3.14159, 2.71828, 1.61803, 0.57721]\n",
    "rounded_list = []\n",
    "\n",
    "for number in float_list:\n",
    "    rounded_number = round(number, 2) ## funkcie (budúca hodina) majú argumenty vnútro zátvoriek; tu round() prijíma číslo na zaokrúhlenie a počet desatinných miest\n",
    "    rounded_list.append(rounded_number)\n",
    "\n",
    "print(rounded_list)\n"
   ]
  },
  {
   "cell_type": "markdown",
   "id": "0z1a2b3c",
   "metadata": {},
   "source": [
    "## ⭐ **Úloha 07**\n",
    "Vytvor set s číslami 1 až 20. Odstráň všetky čísla deliteľné 4 a printni zostávajúci set."
   ]
  },
  {
   "cell_type": "code",
   "execution_count": null,
   "id": "d4e5f6g7",
   "metadata": {},
   "outputs": [
    {
     "name": "stdout",
     "output_type": "stream",
     "text": [
      "{1, 2, 3, 5, 6, 7, 9, 10, 11, 13, 14, 15, 17, 18, 19}\n"
     ]
    }
   ],
   "source": [
    "number_set = set(range(1, 21)) ## rýchlejší spôsob, ako vytvoriť set {1, 2, ..., 20}\n",
    "to_remove = set() ## vytvára prázdny set, kam si uložíme čísla, ktoré chceme odstrániť\n",
    "\n",
    "for number in number_set: ## prechádza každé číslo v pôvodnom sete\n",
    "    if number % 4 == 0: ## kontroluje, či je číslo násobkom 4 (čiže zvyšok po delení 4 je 0)\n",
    "        to_remove.add(number)  ## ak je to násobok 4, pridáme ho do to_remove setu\n",
    "\n",
    "## odstránime nájdené násobky 4 z pôvodného setu (využíva set difference)\n",
    "remaining_set = number_set - to_remove\n",
    "\n",
    "print(remaining_set)"
   ]
  },
  {
   "cell_type": "markdown",
   "id": "h8i9j0k1",
   "metadata": {},
   "source": [
    "## ⭐ **Úloha 08**\n",
    "Vytvor dva sets, `a` a `b`, každý so 7 číslami medzi 0 a 9. Teraz vytvor set `c`, ktorý obsahuje hodnoty z `a` bez hodnôt, ktoré sa tiež vyskytujú v `b`."
   ]
  },
  {
   "cell_type": "code",
   "execution_count": null,
   "id": "l2m3n4o5",
   "metadata": {},
   "outputs": [
    {
     "name": "stdout",
     "output_type": "stream",
     "text": [
      "{1, 3, 6}\n"
     ]
    }
   ],
   "source": [
    "set_a = {1, 2, 3, 5, 6, 8, 9}\n",
    "set_b = {0, 2, 4, 5, 7, 8, 9}\n",
    "\n",
    "## set difference (rozdiel setov); vracia prvky, ktoré sú v set_a, ale nie sú v set_b\n",
    "set_c = set_a - set_b\n",
    "\n",
    "print(set_c) \n"
   ]
  },
  {
   "cell_type": "markdown",
   "id": "p6q7r8s9",
   "metadata": {},
   "source": [
    "## ⭐ **Úloha 09**\n",
    "Vytvor variable `day_idx` s hodnotou medzi 1 a 365. Použi control flows na určenie toho, ktorý deň v týždni to je. (Hint: Zváž ako vieš využiť modulo operátor pri hľadaní vzoru.)"
   ]
  },
  {
   "cell_type": "code",
   "execution_count": null,
   "id": "t0u1v2w3",
   "metadata": {},
   "outputs": [
    {
     "name": "stdout",
     "output_type": "stream",
     "text": [
      "Sunday\n"
     ]
    }
   ],
   "source": [
    "day_idx = 175  ## príklad day_idx (index dňa v roku)\n",
    "days_in_week = 7\n",
    "\n",
    "day_of_week_num = day_idx % days_in_week ## vypočítame číslo dňa v týždni (0=Sunday, 1=Monday, ..., 6=Saturday)\n",
    "\n",
    "match day_of_week_num: ## porovnáva (matchuje) hodnotu variablu day_of_week_num s jednotlivými case podmienkami (prípadmi) vypísanými nižšie\n",
    "    case 0: ## ak sa day_of_week_num rovná 0, blok sa vykoná, ak nie, pokračuje na ďalší case\n",
    "        day_name = \"Sunday\"\n",
    "    case 1:\n",
    "        day_name = \"Monday\"\n",
    "    case 2:\n",
    "        day_name = \"Tuesday\"\n",
    "    case 3:\n",
    "        day_name = \"Wednesday\"\n",
    "    case 4:\n",
    "        day_name = \"Thursday\"\n",
    "    case 5:\n",
    "        day_name = \"Friday\"\n",
    "    case 6:\n",
    "        day_name = \"Saturday\"\n",
    "    case _:\n",
    "        day_name = \"Invalid day\"\n",
    "\n",
    "print(day_name)\n"
   ]
  },
  {
   "cell_type": "markdown",
   "id": "x4y5z6a7",
   "metadata": {},
   "source": [
    "## ⭐ **Úloha 10**\n",
    "Vytvor list stringov reprezentujúcich názvy súborov (aj s koncovkami ako '.pdf', '.txt', '.jpg', '.docx' atď.). Použi loops na odfiltrovanie stringov, ktoré nereprezentujú textové súbory a printni výsledok."
   ]
  },
  {
   "cell_type": "code",
   "execution_count": null,
   "id": "b8c9d0e1",
   "metadata": {},
   "outputs": [
    {
     "name": "stdout",
     "output_type": "stream",
     "text": [
      "['report.pdf', 'photo.jpg', 'data.xlsx', 'script.py']\n"
     ]
    }
   ],
   "source": [
    "file_names = [\"report.pdf\", \"notes.txt\", \"photo.jpg\", \"README.md\", \"data.xlsx\", \"script.py\"]\n",
    "\n",
    "for file in file_names:\n",
    "    if file[-4:] == \".txt\" or file[-3:] == \".md\": ## kontroluje, či súbor končí na .txt alebo .md; všimni si, že string je len postupnosť znakov, takže môžeš použiť slicing (napr. file[-4:]) na získanie posledných znakov (úplne ako listy)\n",
    "        file_names.remove(file) ## odstráni súbor z listu, ak spĺňa podmienku v if statemente \n",
    "\n",
    "print(file_names)\n"
   ]
  },
  {
   "cell_type": "markdown",
   "id": "f2g3h4i5",
   "metadata": {},
   "source": [
    "## ⭐ **Úloha 11**\n",
    "Vytvor list 10 náhodných integers. Nájdi a printni druhé najväčšie číslo."
   ]
  },
  {
   "cell_type": "code",
   "execution_count": null,
   "id": "j6k7l8m9",
   "metadata": {},
   "outputs": [
    {
     "name": "stdout",
     "output_type": "stream",
     "text": [
      "29\n"
     ]
    }
   ],
   "source": [
    "numbers = [15, 22, 18, 5, 29, 3, 22, 10, 29, 1]\n",
    "\n",
    "## najprv nájdime najväčší integer v liste\n",
    "top_integer = numbers[0] ## po prvej iterácii bude  prvý integer v liste ten najväčší, ktorý sme doteraz našli\n",
    "for number in numbers: ## ideme cez každý integer v liste\n",
    "    if number > top_integer: ## skontrolujeme, či je aktuálne číslo väčšie ako top_integer\n",
    "        top_integer = number ## ak je aktuálne číslo väčšie, top_integer aktualizujeme\n",
    "        \n",
    "numbers.remove(top_integer) ## odstránime najväčší integer z list-u\n",
    "\n",
    "## keďže sme odstránili najväčší integer z listu, teraz nájdeme druhé najväčšie číslo v upravenom liste (pomocou rovnakej logiky)\n",
    "second_top_integer = numbers[0] ## po prvej iterácii bude toto držať druhé najväčšie číslo, ktoré sme doteraz našli\n",
    "for number in numbers:\n",
    "    if number > second_top_integer: ## skontrolujeme, či je aktuálne číslo väčšie ako second_top_integer\n",
    "        second_top_integer = number ## ak je aktuálne číslo väčšie, second_top_integer aktualizujeme\n",
    "\n",
    "print(second_top_integer)"
   ]
  },
  {
   "cell_type": "markdown",
   "id": "n0o1p2q3",
   "metadata": {},
   "source": [
    "## ⭐ **Úloha 12**\n",
    "Vytvor list obsahujúci dictionaries, kde každý dictionary reprezentuje osobu s menom a vekom. Vypočítaj a printni priemerný vek."
   ]
  },
  {
   "cell_type": "code",
   "execution_count": null,
   "id": "r4s5t6u7",
   "metadata": {},
   "outputs": [
    {
     "name": "stdout",
     "output_type": "stream",
     "text": [
      "28.75\n"
     ]
    }
   ],
   "source": [
    "people = [\n",
    "    {\"name\": \"Alice\", \"age\": 30},\n",
    "    {\"name\": \"Bob\", \"age\": 25},\n",
    "    {\"name\": \"Charlie\", \"age\": 40},\n",
    "    {\"name\": \"Diana\", \"age\": 20}\n",
    "] ## people je list, kde každý element je dictionary a reprezentuje osobu (s menom a vekom vo vnútri tohto dictionary).\n",
    "\n",
    "total_age = 0\n",
    "person_count = 0\n",
    "\n",
    "for person in people: ## prejde každú osobu v liste\n",
    "    total_age += person[\"age\"] ## zvýši total_age o vek aktuálnej osoby (vek nájdeme pomocou key s názvom \"age\" v dictionary)\n",
    "    person_count += 1 ## zvýšime person_count o 1, aby sme spočítali počet ľudí\n",
    "\n",
    "## vypočítame priemer delením total_age cez person_count\n",
    "if person_count > 0:\n",
    "    average_age = total_age / person_count\n",
    "else:\n",
    "    average_age = 0\n",
    "\n",
    "print(average_age)\n"
   ]
  },
  {
   "cell_type": "markdown",
   "id": "v8w9x0y1",
   "metadata": {},
   "source": [
    "## ⭐ **Úloha 13**\n",
    "Vytvor list 12 náhodných mien. Rozdeľ tieto mená do trojíc podľa abecedy a vytlač výsledok ako list."
   ]
  },
  {
   "cell_type": "code",
   "execution_count": 9,
   "id": "z2a3b4c5",
   "metadata": {},
   "outputs": [
    {
     "name": "stdout",
     "output_type": "stream",
     "text": [
      "['Alex', 'Ella', 'Jane', 'John', 'Kyle', 'Luna', 'Mark', 'Nina', 'Pete', 'Quinn', 'Sam', 'Zoe']\n",
      "[('Alex', 'Ella', 'Jane'), ('John', 'Kyle', 'Luna'), ('Mark', 'Nina', 'Pete'), ('Quinn', 'Sam', 'Zoe')]\n"
     ]
    }
   ],
   "source": [
    "names = [\"John\", \"Jane\", \"Alex\", \"Zoe\", \"Mark\", \"Luna\", \"Pete\", \"Nina\", \"Quinn\", \"Sam\", \"Kyle\", \"Ella\"]\n",
    "\n",
    "names.sort() ## táto funkcia zoradí list podľa abecedy (ak sú to stringy, ak niečo iné (napr. integers), tak podľa ich hodnoty)\n",
    "\n",
    "triplets = []\n",
    "curr_idx = 0\n",
    "step = 3\n",
    "\n",
    "while curr_idx < len(names):\n",
    "    triplet = names[curr_idx : curr_idx + step] ## Výraz vnútri [] vráti elementy listu od curr_idx (ľavá strana \":\") po curr_idx + step - 1 (pravá strana \":\")\n",
    "    triplets.append(tuple(triplet)) ## pridáme tieto elementy ako trojmiestnu tuple do listu triplets\n",
    "    curr_idx = curr_idx + step ## zvýšime curr_idx o step, aby sme sa presunuli k ďalšej trojici a predišli tak nekonečnému loopu\n",
    "\n",
    "print(names)\n",
    "print(triplets)\n"
   ]
  },
  {
   "cell_type": "markdown",
   "id": "d6e7f8g9",
   "metadata": {},
   "source": [
    "## ⭐ **Úloha 14**\n",
    "Použi control flows na nájdenie výsledku 63487 delené 7. (Tentokrát žiadne delenie ani násobenie!)"
   ]
  },
  {
   "cell_type": "code",
   "execution_count": null,
   "id": "h0i1j2k3",
   "metadata": {},
   "outputs": [
    {
     "name": "stdout",
     "output_type": "stream",
     "text": [
      "The quotient is: 9069\n",
      "The remainder is: 4\n"
     ]
    }
   ],
   "source": [
    "dividend = 63487\n",
    "divisor = 7\n",
    "quotient = 0\n",
    "\n",
    "remainder = dividend\n",
    "\n",
    "## opakujeme odčítanie divisor-u od remainder-u, kým remainder (zvyšok) nie je menší ako divisor (deliteľ)\n",
    "while remainder >= divisor:\n",
    "    remainder = remainder - divisor\n",
    "    quotient = quotient + 1\n",
    "\n",
    "print(f\"The quotient is: {quotient}\")\n",
    "print(f\"The remainder is: {remainder}\")\n"
   ]
  },
  {
   "cell_type": "markdown",
   "id": "l4m5n6o7",
   "metadata": {},
   "source": [
    "## ⭐ **Úloha 15**\n",
    "Každá vytvorte list 10 farieb vo svojich repositories. Potom zlúčte vaše listy do jednej repository cez GitHub (nie manuálne) a nájdite ich prienik."
   ]
  },
  {
   "cell_type": "code",
   "execution_count": null,
   "id": "p8q9r0s1",
   "metadata": {},
   "outputs": [
    {
     "name": "stdout",
     "output_type": "stream",
     "text": [
      "{'lime', 'blue', 'green', 'red', 'yellow'}\n"
     ]
    }
   ],
   "source": [
    "## POZNÁMKA: ak chceš túto úlohu splniť do konca, musíš si naklonovať niekoho repository a zlúčiť ju s tou svojou\n",
    "## toto riešenie simuluje listy od dvoch prispievateľov a nájde ich intersection (prienik)\n",
    "\n",
    "contributor1_colors = [\"red\", \"blue\", \"green\", \"yellow\", \"purple\", \"black\", \"white\", \"cyan\", \"magenta\", \"lime\"]\n",
    "contributor2_colors = [\"green\", \"orange\", \"blue\", \"red\", \"brown\", \"gray\", \"yellow\", \"pink\", \"gold\", \"lime\"]\n",
    "\n",
    "set1 = set(contributor1_colors) ## odstráni duplicitné elementy a pripraví sets pre set operations\n",
    "set2 = set(contributor2_colors)\n",
    "\n",
    "intersection_colors = set1 & set2 ## set intersection (&) nájde spoločné prvky v oboch sets (ten prienik, čo hľadáme)\n",
    "\n",
    "print(intersection_colors)"
   ]
  }
 ],
 "metadata": {
  "kernelspec": {
   "display_name": "Python 3",
   "language": "python",
   "name": "python3"
  },
  "language_info": {
   "codemirror_mode": {
    "name": "ipython",
    "version": 3
   },
   "file_extension": ".py",
   "mimetype": "text/x-python",
   "name": "python",
   "nbconvert_exporter": "python",
   "pygments_lexer": "ipython3",
   "version": "3.13.7"
  }
 },
 "nbformat": 4,
 "nbformat_minor": 5
}
