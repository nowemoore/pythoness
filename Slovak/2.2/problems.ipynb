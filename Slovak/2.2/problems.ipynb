{
 "cells": [
  {
   "cell_type": "markdown",
   "metadata": {},
   "source": [
    "# Na hodinu"
   ]
  },
  {
   "cell_type": "markdown",
   "metadata": {},
   "source": [
    "## ⭐ **Úloha 01**\n",
    "Napíš funkciu `safe_divide`, ktorá berie dve čísla `a` a `b` a vydelí tieto dve čísla. Uisti sa, že vyhodíš príslušné exceptions, keď `a` a `b` majú nevhodné hodnoty."
   ]
  },
  {
   "cell_type": "code",
   "execution_count": null,
   "metadata": {},
   "outputs": [],
   "source": []
  },
  {
   "cell_type": "markdown",
   "metadata": {},
   "source": [
    "## ⭐ **Úloha 02**\n",
    "Napíš funkciu `check_date`, ktorá berie tri stringy `day`, `month` a `year` a skontroluje, že poskytnuté hodnoty zodpovedajú legitímnemu dátumu narodenia."
   ]
  },
  {
   "cell_type": "code",
   "execution_count": null,
   "metadata": {},
   "outputs": [],
   "source": []
  },
  {
   "cell_type": "markdown",
   "metadata": {},
   "source": [
    "## ⭐ **Úloha 03**\n",
    "Pracuješ pre obchod, ktorý ponúka akciu \"kúp 3, získaj 1 zadarmo\" na jablká. Momentálne je v obchode 400 jabĺk. Napíš funkciu `buy_apples`, ktorá berie počet jabĺk, ktoré chce zákazník kúpiť, a vráti konečnú cenu košíka."
   ]
  },
  {
   "cell_type": "code",
   "execution_count": null,
   "metadata": {},
   "outputs": [],
   "source": []
  },
  {
   "cell_type": "markdown",
   "metadata": {},
   "source": [
    "## ⭐ **Úloha 04**\n",
    "Napíš funkciu `calculate_parking_fee`, ktorá berie duration parkovania v minútach a vráti cenu, s rôznymi sadzbami pre rôzne časové obdobia (napr. 0-15 minút je účtovaných inou sadzbou ako 1-2 hodiny)."
   ]
  },
  {
   "cell_type": "code",
   "execution_count": null,
   "metadata": {},
   "outputs": [],
   "source": []
  },
  {
   "cell_type": "markdown",
   "metadata": {},
   "source": [
    "## ⭐ **Úloha 05**\n",
    "Napíš funkciu `withdraw_money`, ktorá berie stav účtu a sumu výberu, a vráti nový stav účtu po validácii transakcie."
   ]
  },
  {
   "cell_type": "code",
   "execution_count": null,
   "metadata": {},
   "outputs": [],
   "source": []
  },
  {
   "cell_type": "markdown",
   "metadata": {},
   "source": [
    "## ⭐ **Úloha 06**\n",
    "Napíš funkciu `validate_credit_card`, ktorá berie string s číslom kreditnej karty a určí, či je validné pomocou Luhn algoritmu. Otestuj na \"4532015112830366\" a \"1234567890123456\"."
   ]
  },
  {
   "cell_type": "code",
   "execution_count": null,
   "metadata": {},
   "outputs": [],
   "source": []
  },
  {
   "cell_type": "markdown",
   "metadata": {},
   "source": [
    "## ⭐ **Úloha 07**\n",
    "Vytváraš booking systém pre kino. Napíš funkciu `book_seats`, ktorá berie list čísel sedadiel (vo formáte trojznakového stringu pozostávajúceho z jedného písmena a dvoch čísel) a zabezpečí, že sú dostupné a validné."
   ]
  },
  {
   "cell_type": "code",
   "execution_count": null,
   "metadata": {},
   "outputs": [],
   "source": []
  },
  {
   "cell_type": "markdown",
   "metadata": {},
   "source": [
    "## ⭐ **Úloha 08**\n",
    "Napíš funkciu `generate_username`, ktorá berie krstné meno, priezvisko, rok narodenia a databázu a vráti tri random možné usernames, pričom zabráni duplikátom v databáze."
   ]
  },
  {
   "cell_type": "code",
   "execution_count": null,
   "metadata": {},
   "outputs": [],
   "source": []
  },
  {
   "cell_type": "markdown",
   "metadata": {},
   "source": [
    "## ⭐ **Úloha 09**\n",
    "Napíš funkciu `find_mutual_friends`, ktorá berie user ID a vráti všetkých userov, ktorí sú kamaráti aspoň s 3 kamarátmi daného usera. Dokáž, že tvoj algoritmus funguje, keď má (a nefunguje, keď nemá)."
   ]
  },
  {
   "cell_type": "code",
   "execution_count": null,
   "metadata": {},
   "outputs": [],
   "source": []
  },
  {
   "cell_type": "markdown",
   "metadata": {},
   "source": [
    "## ⭐ **Úloha 10**\n",
    "Napíš funkciu `calculate_shipping_cost`, ktorá berie hmotnosť balíka, rozmery a PSČ destinácie, a vráti cenu doručenia. Zohľadni, že rôzne parametre sa účtujú rôznymi sadzbami."
   ]
  },
  {
   "cell_type": "code",
   "execution_count": null,
   "metadata": {},
   "outputs": [],
   "source": []
  }
 ],
 "metadata": {
  "kernelspec": {
   "display_name": "Python 3",
   "language": "python",
   "name": "python3"
  },
  "language_info": {
   "codemirror_mode": {
    "name": "ipython",
    "version": 3
   },
   "file_extension": ".py",
   "mimetype": "text/x-python",
   "name": "python",
   "nbconvert_exporter": "python",
   "pygments_lexer": "ipython3",
   "version": "3.11.4"
  }
 },
 "nbformat": 4,
 "nbformat_minor": 5
}
