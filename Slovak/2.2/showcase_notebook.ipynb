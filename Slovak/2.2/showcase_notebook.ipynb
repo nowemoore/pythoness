{
 "cells": [
  {
   "cell_type": "markdown",
   "id": "7d9c04c8",
   "metadata": {},
   "source": [
    "# Module 2.2"
   ]
  },
  {
   "cell_type": "code",
   "execution_count": null,
   "id": "866de519",
   "metadata": {},
   "outputs": [],
   "source": [
    "my_list = [1, 3, -2, 4, 5]\n",
    "x = my_list.sort()\n",
    "print(x)\n",
    "print(my_list)"
   ]
  },
  {
   "cell_type": "code",
   "execution_count": null,
   "id": "a358044f",
   "metadata": {},
   "outputs": [],
   "source": [
    "my_list = [1, 3, -2, 4, 5]\n",
    "y = sorted(my_list)\n",
    "f = y[0]\n",
    "print(f)\n",
    "print(y)\n",
    "print(my_list)"
   ]
  },
  {
   "cell_type": "markdown",
   "id": "3d13de97",
   "metadata": {},
   "source": [
    "## Libraries"
   ]
  },
  {
   "cell_type": "markdown",
   "id": "b98c8645",
   "metadata": {},
   "source": [
    "### Native Libraries"
   ]
  },
  {
   "cell_type": "markdown",
   "id": "ba113d8c",
   "metadata": {},
   "source": [
    "#### `math`"
   ]
  },
  {
   "cell_type": "code",
   "execution_count": null,
   "id": "66a19ead",
   "metadata": {},
   "outputs": [],
   "source": [
    "from math import sqrt, pi"
   ]
  },
  {
   "cell_type": "code",
   "execution_count": null,
   "id": "e9983716",
   "metadata": {},
   "outputs": [],
   "source": [
    "print(sqrt(25))\n",
    "print(pi)"
   ]
  },
  {
   "cell_type": "code",
   "execution_count": null,
   "id": "a48fa026",
   "metadata": {},
   "outputs": [],
   "source": [
    "import math"
   ]
  },
  {
   "cell_type": "code",
   "execution_count": null,
   "id": "0696f6d1",
   "metadata": {},
   "outputs": [],
   "source": [
    "print(math.sqrt(16))\n",
    "print(math.pi)\n",
    "print(math.pow(2, 3))\n",
    "print(math.factorial(5))\n",
    "print(math.ceil(4.2))\n",
    "print(math.floor(4.8))\n",
    "print(math.sin(math.pi / 2))\n",
    "print(math.log(10))"
   ]
  },
  {
   "cell_type": "code",
   "execution_count": null,
   "id": "ba409847",
   "metadata": {},
   "outputs": [],
   "source": [
    "import math as m ## alias"
   ]
  },
  {
   "cell_type": "code",
   "execution_count": null,
   "id": "b0d3a9d6",
   "metadata": {},
   "outputs": [],
   "source": [
    "print(m.sqrt(25))"
   ]
  },
  {
   "cell_type": "code",
   "execution_count": null,
   "id": "02da57df",
   "metadata": {},
   "outputs": [],
   "source": [
    "print(math.sqrt(25))"
   ]
  },
  {
   "cell_type": "markdown",
   "id": "0c34f924",
   "metadata": {},
   "source": [
    "#### `random`"
   ]
  },
  {
   "cell_type": "code",
   "execution_count": null,
   "id": "666ffc6f",
   "metadata": {},
   "outputs": [],
   "source": [
    "import random"
   ]
  },
  {
   "cell_type": "code",
   "execution_count": null,
   "id": "a74fceba",
   "metadata": {},
   "outputs": [],
   "source": [
    "print(random.randint(1, 10))\n",
    "print(random.randint(1, 10))\n",
    "print(random.randint(1, 10))"
   ]
  },
  {
   "cell_type": "code",
   "execution_count": null,
   "id": "99eafd57",
   "metadata": {},
   "outputs": [],
   "source": [
    "print(random.choice(['apple', 'banana', 'cherry']))\n",
    "print(random.choice(['red', 'blue', 'green']))"
   ]
  },
  {
   "cell_type": "code",
   "execution_count": null,
   "id": "f8c46151",
   "metadata": {},
   "outputs": [],
   "source": [
    "numbers = [1, 2, 3, 4, 5]\n",
    "random.shuffle(numbers)\n",
    "print(numbers)"
   ]
  },
  {
   "cell_type": "markdown",
   "id": "4c1a9cd5",
   "metadata": {},
   "source": [
    "### External Libraries"
   ]
  },
  {
   "cell_type": "markdown",
   "id": "68a668e3",
   "metadata": {},
   "source": [
    "#### `numpy`"
   ]
  },
  {
   "cell_type": "code",
   "execution_count": null,
   "id": "e8479c37",
   "metadata": {},
   "outputs": [],
   "source": [
    "import numpy as np"
   ]
  },
  {
   "cell_type": "code",
   "execution_count": null,
   "id": "7bda5233",
   "metadata": {},
   "outputs": [],
   "source": [
    "arr = np.array([1, 2, 3, 4, 5])\n",
    "print(arr)\n",
    "print(np.mean(arr))\n",
    "print(np.sum(arr))\n",
    "print(np.max(arr))\n",
    "print(np.std(arr))"
   ]
  },
  {
   "cell_type": "markdown",
   "id": "2b8dc737",
   "metadata": {},
   "source": [
    "### Useful Example"
   ]
  },
  {
   "cell_type": "code",
   "execution_count": null,
   "id": "ba3c20be",
   "metadata": {},
   "outputs": [],
   "source": [
    "import random"
   ]
  },
  {
   "cell_type": "code",
   "execution_count": null,
   "id": "a29d0ff7",
   "metadata": {},
   "outputs": [],
   "source": [
    "import string\n",
    "chars = string.ascii_letters + string.digits\n",
    "password = ''.join(random.choice(chars) for _ in range(15))\n",
    "print(password)"
   ]
  },
  {
   "cell_type": "markdown",
   "id": "7e42c991",
   "metadata": {},
   "source": [
    "## Testing & Debugging"
   ]
  },
  {
   "cell_type": "code",
   "execution_count": null,
   "id": "e0f726f4",
   "metadata": {},
   "outputs": [],
   "source": [
    "import ipytest\n",
    "ipytest.autoconfig()"
   ]
  },
  {
   "cell_type": "markdown",
   "id": "1ed37d8a",
   "metadata": {},
   "source": [
    "### Example Function"
   ]
  },
  {
   "cell_type": "code",
   "execution_count": null,
   "id": "e457aea7",
   "metadata": {},
   "outputs": [],
   "source": [
    "def do_computations(x, y):\n",
    "    x += 5\n",
    "    y -= 3\n",
    "    z = x / y\n",
    "    return z"
   ]
  },
  {
   "cell_type": "code",
   "execution_count": null,
   "id": "0489f65c",
   "metadata": {},
   "outputs": [],
   "source": [
    "do_computations(10, 2)"
   ]
  },
  {
   "cell_type": "code",
   "execution_count": null,
   "id": "de2837d4",
   "metadata": {},
   "outputs": [],
   "source": [
    "do_computations(10, 3)"
   ]
  },
  {
   "cell_type": "markdown",
   "id": "c1f25e5f",
   "metadata": {},
   "source": [
    "#### Option #1: Debug with Printing"
   ]
  },
  {
   "cell_type": "code",
   "execution_count": null,
   "id": "8a17d2a5",
   "metadata": {},
   "outputs": [],
   "source": [
    "def do_computations(x, y):\n",
    "    x += 5\n",
    "    print(x)\n",
    "    y -= 3 \n",
    "    print(y)\n",
    "    z = x / y\n",
    "    return z"
   ]
  },
  {
   "cell_type": "code",
   "execution_count": null,
   "id": "2f7b392a",
   "metadata": {},
   "outputs": [],
   "source": [
    "do_computations(10, 3)"
   ]
  },
  {
   "cell_type": "markdown",
   "id": "b89e91ef",
   "metadata": {},
   "source": [
    "#### Option #2: Raise Errors"
   ]
  },
  {
   "cell_type": "code",
   "execution_count": null,
   "id": "5b40782b",
   "metadata": {},
   "outputs": [],
   "source": [
    "def do_computations(x, y):\n",
    "    x += 5\n",
    "    y -= 3 \n",
    "    if y == 0:\n",
    "        raise ValueError(\"y cannot be zero after subtraction.\")\n",
    "    z = x / y\n",
    "    return z"
   ]
  },
  {
   "cell_type": "code",
   "execution_count": null,
   "id": "d9a77b55",
   "metadata": {},
   "outputs": [],
   "source": [
    "do_computations(10, 3)"
   ]
  },
  {
   "cell_type": "markdown",
   "id": "adb7dbbf",
   "metadata": {},
   "source": [
    "#### Option #3: Try-Except-Finally"
   ]
  },
  {
   "cell_type": "code",
   "execution_count": 2,
   "id": "c9bff7db",
   "metadata": {},
   "outputs": [],
   "source": [
    "def do_computations(x, y):\n",
    "    x += 5\n",
    "    y -= 3\n",
    "    try:\n",
    "        z = x / y\n",
    "    except ZeroDivisionError:\n",
    "        z = None\n",
    "    finally:\n",
    "        print(\"Computation attempted.\")\n",
    "    return z"
   ]
  },
  {
   "cell_type": "code",
   "execution_count": null,
   "id": "6c9b871b",
   "metadata": {},
   "outputs": [],
   "source": [
    "do_computations(10, 3)"
   ]
  },
  {
   "cell_type": "code",
   "execution_count": null,
   "id": "1ae27531",
   "metadata": {},
   "outputs": [],
   "source": [
    "print(do_computations(10, 3))"
   ]
  },
  {
   "cell_type": "markdown",
   "id": "5969dacd",
   "metadata": {},
   "source": [
    "#### Option #4: Run Tests"
   ]
  },
  {
   "cell_type": "code",
   "execution_count": 9,
   "id": "d707a0e0",
   "metadata": {},
   "outputs": [],
   "source": [
    "import ipytest\n",
    "ipytest.autoconfig()"
   ]
  },
  {
   "cell_type": "code",
   "execution_count": 10,
   "id": "0f446bbc",
   "metadata": {},
   "outputs": [
    {
     "name": "stdout",
     "output_type": "stream",
     "text": [
      "\u001b[1m======================================= test session starts =======================================\u001b[0m\n",
      "platform win32 -- Python 3.14.0, pytest-8.4.2, pluggy-1.6.0\n",
      "rootdir: c:\\Users\\nikol\\OneDrive\\Desktop\\code\\pythoness\\Slovak\\2.2\n",
      "collected 4 items\n",
      "\n",
      "t_e545f38d8a534d1a99e26d822d8a59a6.py \u001b[32m.\u001b[0m\u001b[32m.\u001b[0m\u001b[32m.\u001b[0m\u001b[32m.\u001b[0m\u001b[32m                                                   [100%]\u001b[0m\n",
      "\n",
      "\u001b[32m======================================== \u001b[32m\u001b[1m4 passed\u001b[0m\u001b[32m in 0.01s\u001b[0m\u001b[32m ========================================\u001b[0m\n"
     ]
    },
    {
     "data": {
      "text/plain": [
       "<ExitCode.OK: 0>"
      ]
     },
     "execution_count": 10,
     "metadata": {},
     "output_type": "execute_result"
    }
   ],
   "source": [
    "def test_normal_division():\n",
    "    \"\"\"Test normal case where division works.\"\"\"\n",
    "    result = do_computations(5, 8)  # x becomes 10, y becomes 5, z = 10/5 = 2\n",
    "    assert result == 2\n",
    "\n",
    "def test_zero_division():\n",
    "    \"\"\"Test that zero division returns None.\"\"\"\n",
    "    result = do_computations(5, 3)  # x becomes 10, y becomes 0, z = None\n",
    "    assert result is None\n",
    "\n",
    "def test_fractional_result():\n",
    "    \"\"\"Test division resulting in a fraction.\"\"\"\n",
    "    result = do_computations(10, 7)  # x becomes 15, y becomes 4, z = 15/4 = 3.75\n",
    "    assert result == 3.75\n",
    "\n",
    "def test_negative_inputs():\n",
    "    \"\"\"Test with negative input values.\"\"\"\n",
    "    result = do_computations(-5, 8)  # x becomes 0, y becomes 5, z = 0/5 = 0\n",
    "    assert result == 0.0\n",
    "    \n",
    "ipytest.run('-v')"
   ]
  },
  {
   "cell_type": "code",
   "execution_count": 11,
   "id": "d47838e3",
   "metadata": {},
   "outputs": [
    {
     "name": "stdout",
     "output_type": "stream",
     "text": [
      "\u001b[1m======================================= test session starts =======================================\u001b[0m\n",
      "platform win32 -- Python 3.14.0, pytest-8.4.2, pluggy-1.6.0\n",
      "rootdir: c:\\Users\\nikol\\OneDrive\\Desktop\\code\\pythoness\\Slovak\\2.2\n",
      "collected 4 items\n",
      "\n",
      "t_e545f38d8a534d1a99e26d822d8a59a6.py \u001b[32m.\u001b[0m\u001b[32m.\u001b[0m\u001b[32m.\u001b[0m\u001b[32m.\u001b[0m\u001b[32m                                                   [100%]\u001b[0m\n",
      "\n",
      "\u001b[32m======================================== \u001b[32m\u001b[1m4 passed\u001b[0m\u001b[32m in 0.01s\u001b[0m\u001b[32m ========================================\u001b[0m\n"
     ]
    }
   ],
   "source": [
    "%%ipytest -v\n",
    "\n",
    "def test_normal_division():\n",
    "    \"\"\"Test normal case where division works.\"\"\"\n",
    "    result = do_computations(5, 8)  # x becomes 10, y becomes 5, z = 10/5 = 2\n",
    "    assert result == 2.0\n",
    "\n",
    "def test_zero_division():\n",
    "    \"\"\"Test that zero division returns None.\"\"\"\n",
    "    result = do_computations(5, 3)  # x becomes 10, y becomes 0, z = None\n",
    "    assert result is None\n",
    "\n",
    "def test_fractional_result():\n",
    "    \"\"\"Test division resulting in a fraction.\"\"\"\n",
    "    result = do_computations(10, 7)  # x becomes 15, y becomes 4, z = 15/4 = 3.75\n",
    "    assert result == 3.75\n",
    "\n",
    "def test_negative_inputs():\n",
    "    \"\"\"Test with negative input values.\"\"\"\n",
    "    result = do_computations(-5, 8)  # x becomes 0, y becomes 5, z = 0/5 = 0\n",
    "    assert result == 0.0"
   ]
  },
  {
   "cell_type": "markdown",
   "id": "f53b84a1",
   "metadata": {},
   "source": [
    "#### Note: Naming Errors\n",
    "\n",
    "When raising errors, using try-except-finally, and running pytests, you should know what exact error you're expecting, as you need to _name it_."
   ]
  },
  {
   "cell_type": "code",
   "execution_count": 4,
   "id": "73cd37ee",
   "metadata": {},
   "outputs": [
    {
     "name": "stdout",
     "output_type": "stream",
     "text": [
      "Result: 5.0\n",
      "Division operation completed.\n",
      "\n",
      "Error: Cannot divide by zero!\n",
      "Division operation completed.\n",
      "\n"
     ]
    }
   ],
   "source": [
    "def safe_division(a, b):\n",
    "    try:\n",
    "        result = a / b\n",
    "        print(f\"Result: {result}\")\n",
    "    except ZeroDivisionError:\n",
    "        print(\"Error: Cannot divide by zero!\")\n",
    "    finally:\n",
    "        print(\"Division operation completed.\\n\")\n",
    "\n",
    "## tests:\n",
    "safe_division(10, 2)   ## works fine\n",
    "safe_division(10, 0)   ## throws error"
   ]
  },
  {
   "cell_type": "code",
   "execution_count": 5,
   "id": "2dd21d1c",
   "metadata": {},
   "outputs": [
    {
     "name": "stdout",
     "output_type": "stream",
     "text": [
      "Element at index 1: pear\n",
      "List access completed.\n",
      "\n",
      "Error: Index 10 does not exist in the list!\n",
      "List access completed.\n",
      "\n"
     ]
    }
   ],
   "source": [
    "def get_element(my_list, index):\n",
    "    try:\n",
    "        element = my_list[index]\n",
    "        print(f\"Element at index {index}: {element}\")\n",
    "    except IndexError:\n",
    "        print(f\"Error: Index {index} does not exist in the list!\")\n",
    "    finally:\n",
    "        print(\"List access completed.\\n\")\n",
    "\n",
    "## tests:\n",
    "fruits = [\"apple\", \"pear\", \"banana\"]\n",
    "get_element(fruits, 1)   ## works fine\n",
    "get_element(fruits, 10)  ## throws error"
   ]
  },
  {
   "cell_type": "code",
   "execution_count": null,
   "id": "04d711da",
   "metadata": {},
   "outputs": [
    {
     "name": "stdout",
     "output_type": "stream",
     "text": [
      "Sum: 15\n",
      "Addition operation completed.\n",
      "\n",
      "Error: Cannot add incompatible types!\n",
      "Addition operation completed.\n",
      "\n"
     ]
    }
   ],
   "source": [
    "def add_numbers(a, b):\n",
    "    try:\n",
    "        result = a + b\n",
    "        print(f\"Sum: {result}\")\n",
    "    except TypeError:\n",
    "        print(\"Error: Cannot add incompatible types!\")\n",
    "    finally:\n",
    "        print(\"Addition operation completed.\\n\")\n",
    "\n",
    "## tests:\n",
    "add_numbers(5, 10)        ## works fine\n",
    "add_numbers(5, \"hello\")   ## throws error"
   ]
  }
 ],
 "metadata": {
  "kernelspec": {
   "display_name": "Python 3",
   "language": "python",
   "name": "python3"
  },
  "language_info": {
   "codemirror_mode": {
    "name": "ipython",
    "version": 3
   },
   "file_extension": ".py",
   "mimetype": "text/x-python",
   "name": "python",
   "nbconvert_exporter": "python",
   "pygments_lexer": "ipython3",
   "version": "3.14.0"
  }
 },
 "nbformat": 4,
 "nbformat_minor": 5
}
