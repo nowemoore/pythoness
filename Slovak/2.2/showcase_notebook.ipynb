{
 "cells": [
  {
   "cell_type": "markdown",
   "id": "7d9c04c8",
   "metadata": {},
   "source": [
    "# Module 2.2"
   ]
  },
  {
   "cell_type": "markdown",
   "id": "3d13de97",
   "metadata": {},
   "source": [
    "## Libraries"
   ]
  },
  {
   "cell_type": "markdown",
   "id": "b98c8645",
   "metadata": {},
   "source": [
    "### Native Libraries"
   ]
  },
  {
   "cell_type": "markdown",
   "id": "ba113d8c",
   "metadata": {},
   "source": [
    "#### `math`"
   ]
  },
  {
   "cell_type": "code",
   "execution_count": null,
   "id": "66a19ead",
   "metadata": {},
   "outputs": [],
   "source": [
    "from math import sqrt, pi"
   ]
  },
  {
   "cell_type": "code",
   "execution_count": null,
   "id": "e9983716",
   "metadata": {},
   "outputs": [],
   "source": [
    "print(sqrt(25))\n",
    "print(pi)"
   ]
  },
  {
   "cell_type": "code",
   "execution_count": null,
   "id": "0696f6d1",
   "metadata": {},
   "outputs": [],
   "source": [
    "print(math.sqrt(16))\n",
    "print(math.pi)\n",
    "print(math.pow(2, 3))\n",
    "print(math.factorial(5))\n",
    "print(math.ceil(4.2))\n",
    "print(math.floor(4.8))\n",
    "print(math.sin(math.pi / 2))\n",
    "print(math.log(10))"
   ]
  },
  {
   "cell_type": "code",
   "execution_count": 1,
   "id": "ba409847",
   "metadata": {},
   "outputs": [],
   "source": [
    "import math as m"
   ]
  },
  {
   "cell_type": "code",
   "execution_count": 2,
   "id": "b0d3a9d6",
   "metadata": {},
   "outputs": [
    {
     "name": "stdout",
     "output_type": "stream",
     "text": [
      "5.0\n"
     ]
    }
   ],
   "source": [
    "print(m.sqrt(25))"
   ]
  },
  {
   "cell_type": "code",
   "execution_count": null,
   "id": "02da57df",
   "metadata": {},
   "outputs": [],
   "source": [
    "print(math.sqrt(25))"
   ]
  },
  {
   "cell_type": "markdown",
   "id": "0c34f924",
   "metadata": {},
   "source": [
    "#### `random`"
   ]
  },
  {
   "cell_type": "code",
   "execution_count": null,
   "id": "a74fceba",
   "metadata": {},
   "outputs": [],
   "source": [
    "print(random.randint(1, 10))\n",
    "print(random.randint(1, 10))\n",
    "print(random.randint(1, 10))"
   ]
  },
  {
   "cell_type": "code",
   "execution_count": null,
   "id": "99eafd57",
   "metadata": {},
   "outputs": [],
   "source": [
    "print(random.choice(['apple', 'banana', 'cherry']))\n",
    "print(random.choice(['red', 'blue', 'green']))"
   ]
  },
  {
   "cell_type": "code",
   "execution_count": null,
   "id": "f8c46151",
   "metadata": {},
   "outputs": [],
   "source": [
    "numbers = [1, 2, 3, 4, 5]\n",
    "random.shuffle(numbers)\n",
    "print(numbers)"
   ]
  },
  {
   "cell_type": "markdown",
   "id": "4c1a9cd5",
   "metadata": {},
   "source": [
    "### External Libraries"
   ]
  },
  {
   "cell_type": "markdown",
   "id": "68a668e3",
   "metadata": {},
   "source": [
    "#### `numpy`"
   ]
  },
  {
   "cell_type": "code",
   "execution_count": 4,
   "id": "e8479c37",
   "metadata": {},
   "outputs": [],
   "source": [
    "import numpy as np"
   ]
  },
  {
   "cell_type": "code",
   "execution_count": 5,
   "id": "7bda5233",
   "metadata": {},
   "outputs": [
    {
     "name": "stdout",
     "output_type": "stream",
     "text": [
      "[1 2 3 4 5]\n",
      "3.0\n",
      "15\n",
      "5\n",
      "1.4142135623730951\n"
     ]
    }
   ],
   "source": [
    "arr = np.array([1, 2, 3, 4, 5])\n",
    "print(arr)\n",
    "print(np.mean(arr))\n",
    "print(np.sum(arr))\n",
    "print(np.max(arr))\n",
    "print(np.std(arr))"
   ]
  },
  {
   "cell_type": "markdown",
   "id": "2b8dc737",
   "metadata": {},
   "source": [
    "### Useful Example"
   ]
  },
  {
   "cell_type": "code",
   "execution_count": 6,
   "id": "ba3c20be",
   "metadata": {},
   "outputs": [],
   "source": [
    "import random"
   ]
  },
  {
   "cell_type": "code",
   "execution_count": 8,
   "id": "a29d0ff7",
   "metadata": {},
   "outputs": [
    {
     "name": "stdout",
     "output_type": "stream",
     "text": [
      "6tnlj9FKctGceHr\n"
     ]
    }
   ],
   "source": [
    "import string\n",
    "chars = string.ascii_letters + string.digits\n",
    "password = ''.join(random.choice(chars) for _ in range(15))\n",
    "print(password)"
   ]
  },
  {
   "cell_type": "markdown",
   "id": "7e42c991",
   "metadata": {},
   "source": [
    "## Testing & Debugging"
   ]
  },
  {
   "cell_type": "markdown",
   "id": "1ed37d8a",
   "metadata": {},
   "source": [
    "### Example Function"
   ]
  },
  {
   "cell_type": "code",
   "execution_count": 9,
   "id": "e457aea7",
   "metadata": {},
   "outputs": [],
   "source": [
    "def add_one(x):\n",
    "    return x + 1"
   ]
  },
  {
   "cell_type": "markdown",
   "id": "bbf81105",
   "metadata": {},
   "source": [
    "### Example Test"
   ]
  },
  {
   "cell_type": "code",
   "execution_count": 18,
   "id": "7c4d91d5",
   "metadata": {},
   "outputs": [],
   "source": [
    "import unittest\n",
    "\n",
    "class TestAddFunction(unittest.TestCase):\n",
    "    def test_add_one(self):\n",
    "        self.assertEqual(add_one(1), 2)\n",
    "        \n",
    "    def test_add_negative(self):\n",
    "        self.assertEqual(add_one(-1), 0)\n",
    "        \n",
    "    def test_add_zero(self):\n",
    "        self.assertTrue(add_one(0) == 1)\n",
    "        \n",
    "    def test_add_float(self):\n",
    "        self.assertEqual(add_one(0.0), 1.0)\n",
    "        self.assertAlmostEqual(add_one(1.5), 2.5)\n"
   ]
  },
  {
   "cell_type": "code",
   "execution_count": 19,
   "id": "e33344f4",
   "metadata": {},
   "outputs": [
    {
     "name": "stderr",
     "output_type": "stream",
     "text": [
      "test_add_float (__main__.TestAddFunction.test_add_float) ... ok\n",
      "test_add_negative (__main__.TestAddFunction.test_add_negative) ... ok\n",
      "test_add_one (__main__.TestAddFunction.test_add_one) ... ok\n",
      "test_add_zero (__main__.TestAddFunction.test_add_zero) ... ok\n",
      "\n",
      "----------------------------------------------------------------------\n",
      "Ran 4 tests in 0.003s\n",
      "\n",
      "OK\n"
     ]
    }
   ],
   "source": [
    "if __name__ == '__main__':\n",
    "    unittest.main(argv=[''], exit=False, verbosity=2)"
   ]
  }
 ],
 "metadata": {
  "kernelspec": {
   "display_name": "Python 3",
   "language": "python",
   "name": "python3"
  },
  "language_info": {
   "codemirror_mode": {
    "name": "ipython",
    "version": 3
   },
   "file_extension": ".py",
   "mimetype": "text/x-python",
   "name": "python",
   "nbconvert_exporter": "python",
   "pygments_lexer": "ipython3",
   "version": "3.13.7"
  }
 },
 "nbformat": 4,
 "nbformat_minor": 5
}
