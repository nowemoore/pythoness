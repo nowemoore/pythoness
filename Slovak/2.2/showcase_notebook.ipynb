{
 "cells": [
  {
   "cell_type": "markdown",
   "id": "7d9c04c8",
   "metadata": {},
   "source": [
    "# Module 2.2"
   ]
  },
  {
   "cell_type": "markdown",
   "id": "3d13de97",
   "metadata": {},
   "source": [
    "## Libraries"
   ]
  },
  {
   "cell_type": "markdown",
   "id": "b98c8645",
   "metadata": {},
   "source": [
    "### Native Libraries"
   ]
  },
  {
   "cell_type": "markdown",
   "id": "ba113d8c",
   "metadata": {},
   "source": [
    "#### `math`"
   ]
  },
  {
   "cell_type": "code",
   "execution_count": 4,
   "id": "66a19ead",
   "metadata": {},
   "outputs": [],
   "source": [
    "from math import sqrt, pi\n",
    "import math"
   ]
  },
  {
   "cell_type": "code",
   "execution_count": 5,
   "id": "e9983716",
   "metadata": {},
   "outputs": [
    {
     "name": "stdout",
     "output_type": "stream",
     "text": [
      "5.0\n",
      "3.141592653589793\n"
     ]
    }
   ],
   "source": [
    "print(sqrt(25))\n",
    "print(pi)"
   ]
  },
  {
   "cell_type": "code",
   "execution_count": 6,
   "id": "0696f6d1",
   "metadata": {},
   "outputs": [
    {
     "name": "stdout",
     "output_type": "stream",
     "text": [
      "4.0\n",
      "3.141592653589793\n",
      "8.0\n",
      "120\n",
      "5\n",
      "4\n",
      "1.0\n",
      "2.302585092994046\n"
     ]
    }
   ],
   "source": [
    "print(math.sqrt(16))\n",
    "print(math.pi)\n",
    "print(math.pow(2, 3))\n",
    "print(math.factorial(5))\n",
    "print(math.ceil(4.2))\n",
    "print(math.floor(4.8))\n",
    "print(math.sin(math.pi / 2))\n",
    "print(math.log(10))"
   ]
  },
  {
   "cell_type": "code",
   "execution_count": 1,
   "id": "ba409847",
   "metadata": {},
   "outputs": [],
   "source": [
    "import math as m"
   ]
  },
  {
   "cell_type": "code",
   "execution_count": 2,
   "id": "b0d3a9d6",
   "metadata": {},
   "outputs": [
    {
     "name": "stdout",
     "output_type": "stream",
     "text": [
      "5.0\n"
     ]
    }
   ],
   "source": [
    "print(m.sqrt(25))"
   ]
  },
  {
   "cell_type": "code",
   "execution_count": null,
   "id": "02da57df",
   "metadata": {},
   "outputs": [],
   "source": [
    "print(math.sqrt(25))"
   ]
  },
  {
   "cell_type": "markdown",
   "id": "0c34f924",
   "metadata": {},
   "source": [
    "#### `random`"
   ]
  },
  {
   "cell_type": "code",
   "execution_count": null,
   "id": "a74fceba",
   "metadata": {},
   "outputs": [],
   "source": [
    "print(random.randint(1, 10))\n",
    "print(random.randint(1, 10))\n",
    "print(random.randint(1, 10))"
   ]
  },
  {
   "cell_type": "code",
   "execution_count": null,
   "id": "99eafd57",
   "metadata": {},
   "outputs": [],
   "source": [
    "print(random.choice(['apple', 'banana', 'cherry']))\n",
    "print(random.choice(['red', 'blue', 'green']))"
   ]
  },
  {
   "cell_type": "code",
   "execution_count": null,
   "id": "f8c46151",
   "metadata": {},
   "outputs": [],
   "source": [
    "numbers = [1, 2, 3, 4, 5]\n",
    "random.shuffle(numbers)\n",
    "print(numbers)"
   ]
  },
  {
   "cell_type": "markdown",
   "id": "4c1a9cd5",
   "metadata": {},
   "source": [
    "### External Libraries"
   ]
  },
  {
   "cell_type": "markdown",
   "id": "68a668e3",
   "metadata": {},
   "source": [
    "#### `numpy`"
   ]
  },
  {
   "cell_type": "code",
   "execution_count": 4,
   "id": "e8479c37",
   "metadata": {},
   "outputs": [],
   "source": [
    "import numpy as np"
   ]
  },
  {
   "cell_type": "code",
   "execution_count": 5,
   "id": "7bda5233",
   "metadata": {},
   "outputs": [
    {
     "name": "stdout",
     "output_type": "stream",
     "text": [
      "[1 2 3 4 5]\n",
      "3.0\n",
      "15\n",
      "5\n",
      "1.4142135623730951\n"
     ]
    }
   ],
   "source": [
    "arr = np.array([1, 2, 3, 4, 5])\n",
    "print(arr)\n",
    "print(np.mean(arr))\n",
    "print(np.sum(arr))\n",
    "print(np.max(arr))\n",
    "print(np.std(arr))"
   ]
  },
  {
   "cell_type": "markdown",
   "id": "2b8dc737",
   "metadata": {},
   "source": [
    "### Useful Example"
   ]
  },
  {
   "cell_type": "code",
   "execution_count": 6,
   "id": "ba3c20be",
   "metadata": {},
   "outputs": [],
   "source": [
    "import random"
   ]
  },
  {
   "cell_type": "code",
   "execution_count": 8,
   "id": "a29d0ff7",
   "metadata": {},
   "outputs": [
    {
     "name": "stdout",
     "output_type": "stream",
     "text": [
      "6tnlj9FKctGceHr\n"
     ]
    }
   ],
   "source": [
    "import string\n",
    "chars = string.ascii_letters + string.digits\n",
    "password = ''.join(random.choice(chars) for _ in range(15))\n",
    "print(password)"
   ]
  },
  {
   "cell_type": "markdown",
   "id": "7e42c991",
   "metadata": {},
   "source": [
    "## Testing & Debugging"
   ]
  },
  {
   "cell_type": "code",
   "execution_count": 15,
   "id": "e0f726f4",
   "metadata": {},
   "outputs": [],
   "source": [
    "import ipytest\n",
    "ipytest.autoconfig()"
   ]
  },
  {
   "cell_type": "markdown",
   "id": "1ed37d8a",
   "metadata": {},
   "source": [
    "### Example Function"
   ]
  },
  {
   "cell_type": "code",
   "execution_count": 5,
   "id": "e457aea7",
   "metadata": {},
   "outputs": [],
   "source": [
    "def do_computations(x, y):\n",
    "    x += 5\n",
    "    y -= 3\n",
    "    z = x / y\n",
    "    return z"
   ]
  },
  {
   "cell_type": "code",
   "execution_count": 6,
   "id": "0489f65c",
   "metadata": {},
   "outputs": [
    {
     "data": {
      "text/plain": [
       "-15.0"
      ]
     },
     "execution_count": 6,
     "metadata": {},
     "output_type": "execute_result"
    }
   ],
   "source": [
    "do_computations(10, 2)"
   ]
  },
  {
   "cell_type": "code",
   "execution_count": 7,
   "id": "de2837d4",
   "metadata": {},
   "outputs": [
    {
     "ename": "ZeroDivisionError",
     "evalue": "division by zero",
     "output_type": "error",
     "traceback": [
      "\u001b[31m---------------------------------------------------------------------------\u001b[39m",
      "\u001b[31mZeroDivisionError\u001b[39m                         Traceback (most recent call last)",
      "\u001b[36mCell\u001b[39m\u001b[36m \u001b[39m\u001b[32mIn[7]\u001b[39m\u001b[32m, line 1\u001b[39m\n\u001b[32m----> \u001b[39m\u001b[32m1\u001b[39m \u001b[43mdo_computations\u001b[49m\u001b[43m(\u001b[49m\u001b[32;43m10\u001b[39;49m\u001b[43m,\u001b[49m\u001b[43m \u001b[49m\u001b[32;43m3\u001b[39;49m\u001b[43m)\u001b[49m\n",
      "\u001b[36mCell\u001b[39m\u001b[36m \u001b[39m\u001b[32mIn[5]\u001b[39m\u001b[32m, line 4\u001b[39m, in \u001b[36mdo_computations\u001b[39m\u001b[34m(x, y)\u001b[39m\n\u001b[32m      2\u001b[39m x += \u001b[32m5\u001b[39m\n\u001b[32m      3\u001b[39m y -= \u001b[32m3\u001b[39m\n\u001b[32m----> \u001b[39m\u001b[32m4\u001b[39m z = \u001b[43mx\u001b[49m\u001b[43m \u001b[49m\u001b[43m/\u001b[49m\u001b[43m \u001b[49m\u001b[43my\u001b[49m\n\u001b[32m      5\u001b[39m \u001b[38;5;28;01mreturn\u001b[39;00m z\n",
      "\u001b[31mZeroDivisionError\u001b[39m: division by zero"
     ]
    }
   ],
   "source": [
    "do_computations(10, 3)"
   ]
  },
  {
   "cell_type": "markdown",
   "id": "c1f25e5f",
   "metadata": {},
   "source": [
    "#### Option #1: Debug with Printing"
   ]
  },
  {
   "cell_type": "code",
   "execution_count": 8,
   "id": "8a17d2a5",
   "metadata": {},
   "outputs": [],
   "source": [
    "def do_computations(x, y):\n",
    "    x += 5\n",
    "    print(x)\n",
    "    y -= 3 \n",
    "    print(y)\n",
    "    z = x / y\n",
    "    return z"
   ]
  },
  {
   "cell_type": "code",
   "execution_count": 9,
   "id": "2f7b392a",
   "metadata": {},
   "outputs": [
    {
     "name": "stdout",
     "output_type": "stream",
     "text": [
      "15\n",
      "0\n"
     ]
    },
    {
     "ename": "ZeroDivisionError",
     "evalue": "division by zero",
     "output_type": "error",
     "traceback": [
      "\u001b[31m---------------------------------------------------------------------------\u001b[39m",
      "\u001b[31mZeroDivisionError\u001b[39m                         Traceback (most recent call last)",
      "\u001b[36mCell\u001b[39m\u001b[36m \u001b[39m\u001b[32mIn[9]\u001b[39m\u001b[32m, line 1\u001b[39m\n\u001b[32m----> \u001b[39m\u001b[32m1\u001b[39m \u001b[43mdo_computations\u001b[49m\u001b[43m(\u001b[49m\u001b[32;43m10\u001b[39;49m\u001b[43m,\u001b[49m\u001b[43m \u001b[49m\u001b[32;43m3\u001b[39;49m\u001b[43m)\u001b[49m\n",
      "\u001b[36mCell\u001b[39m\u001b[36m \u001b[39m\u001b[32mIn[8]\u001b[39m\u001b[32m, line 6\u001b[39m, in \u001b[36mdo_computations\u001b[39m\u001b[34m(x, y)\u001b[39m\n\u001b[32m      4\u001b[39m y -= \u001b[32m3\u001b[39m \n\u001b[32m      5\u001b[39m \u001b[38;5;28mprint\u001b[39m(y)\n\u001b[32m----> \u001b[39m\u001b[32m6\u001b[39m z = \u001b[43mx\u001b[49m\u001b[43m \u001b[49m\u001b[43m/\u001b[49m\u001b[43m \u001b[49m\u001b[43my\u001b[49m\n\u001b[32m      7\u001b[39m \u001b[38;5;28;01mreturn\u001b[39;00m z\n",
      "\u001b[31mZeroDivisionError\u001b[39m: division by zero"
     ]
    }
   ],
   "source": [
    "do_computations(10, 3)"
   ]
  },
  {
   "cell_type": "markdown",
   "id": "b89e91ef",
   "metadata": {},
   "source": [
    "#### Option #2: Raise Errors"
   ]
  },
  {
   "cell_type": "code",
   "execution_count": 10,
   "id": "5b40782b",
   "metadata": {},
   "outputs": [],
   "source": [
    "def do_computations(x, y):\n",
    "    x += 5\n",
    "    y -= 3 \n",
    "    if y == 0:\n",
    "        raise ValueError(\"y cannot be zero after subtraction.\")\n",
    "    z = x / y\n",
    "    return z"
   ]
  },
  {
   "cell_type": "code",
   "execution_count": 11,
   "id": "d9a77b55",
   "metadata": {},
   "outputs": [
    {
     "ename": "ValueError",
     "evalue": "y cannot be zero after subtraction.",
     "output_type": "error",
     "traceback": [
      "\u001b[31m---------------------------------------------------------------------------\u001b[39m",
      "\u001b[31mValueError\u001b[39m                                Traceback (most recent call last)",
      "\u001b[36mCell\u001b[39m\u001b[36m \u001b[39m\u001b[32mIn[11]\u001b[39m\u001b[32m, line 1\u001b[39m\n\u001b[32m----> \u001b[39m\u001b[32m1\u001b[39m \u001b[43mdo_computations\u001b[49m\u001b[43m(\u001b[49m\u001b[32;43m10\u001b[39;49m\u001b[43m,\u001b[49m\u001b[43m \u001b[49m\u001b[32;43m3\u001b[39;49m\u001b[43m)\u001b[49m\n",
      "\u001b[36mCell\u001b[39m\u001b[36m \u001b[39m\u001b[32mIn[10]\u001b[39m\u001b[32m, line 5\u001b[39m, in \u001b[36mdo_computations\u001b[39m\u001b[34m(x, y)\u001b[39m\n\u001b[32m      3\u001b[39m y -= \u001b[32m3\u001b[39m \n\u001b[32m      4\u001b[39m \u001b[38;5;28;01mif\u001b[39;00m y == \u001b[32m0\u001b[39m:\n\u001b[32m----> \u001b[39m\u001b[32m5\u001b[39m     \u001b[38;5;28;01mraise\u001b[39;00m \u001b[38;5;167;01mValueError\u001b[39;00m(\u001b[33m\"\u001b[39m\u001b[33my cannot be zero after subtraction.\u001b[39m\u001b[33m\"\u001b[39m)\n\u001b[32m      6\u001b[39m z = x / y\n\u001b[32m      7\u001b[39m \u001b[38;5;28;01mreturn\u001b[39;00m z\n",
      "\u001b[31mValueError\u001b[39m: y cannot be zero after subtraction."
     ]
    }
   ],
   "source": [
    "do_computations(10, 3)"
   ]
  },
  {
   "cell_type": "markdown",
   "id": "adb7dbbf",
   "metadata": {},
   "source": [
    "#### Option #3: Try-Except-Finally"
   ]
  },
  {
   "cell_type": "code",
   "execution_count": 12,
   "id": "c9bff7db",
   "metadata": {},
   "outputs": [],
   "source": [
    "def do_computations(x, y):\n",
    "    x += 5\n",
    "    y -= 3\n",
    "    try:\n",
    "        z = x / y\n",
    "    except ZeroDivisionError:\n",
    "        z = None\n",
    "    finally:\n",
    "        print(\"Computation attempted.\")\n",
    "    return z"
   ]
  },
  {
   "cell_type": "code",
   "execution_count": null,
   "id": "6c9b871b",
   "metadata": {},
   "outputs": [
    {
     "name": "stdout",
     "output_type": "stream",
     "text": [
      "Computation attempted.\n"
     ]
    }
   ],
   "source": [
    "do_computations(10, 3)"
   ]
  },
  {
   "cell_type": "code",
   "execution_count": 14,
   "id": "1ae27531",
   "metadata": {},
   "outputs": [
    {
     "name": "stdout",
     "output_type": "stream",
     "text": [
      "Computation attempted.\n",
      "None\n"
     ]
    }
   ],
   "source": [
    "print(do_computations(10, 3))"
   ]
  },
  {
   "cell_type": "markdown",
   "id": "5969dacd",
   "metadata": {},
   "source": [
    "#### Option #4: Run Tests"
   ]
  },
  {
   "cell_type": "code",
   "execution_count": null,
   "id": "0f446bbc",
   "metadata": {},
   "outputs": [
    {
     "name": "stdout",
     "output_type": "stream",
     "text": [
      "\u001b[1m======================================= test session starts =======================================\u001b[0m\n",
      "platform win32 -- Python 3.14.0, pytest-8.4.2, pluggy-1.6.0\n",
      "rootdir: c:\\Users\\nikol\\OneDrive\\Desktop\\code\\pythoness\\Slovak\\2.2\n",
      "collected 4 items\n",
      "\n",
      "t_81bbcf415ae94db280c0b75355d232eb.py \u001b[32m.\u001b[0m\u001b[32m.\u001b[0m\u001b[32m.\u001b[0m\u001b[32m.\u001b[0m\u001b[32m                                                   [100%]\u001b[0m\n",
      "\n",
      "\u001b[32m======================================== \u001b[32m\u001b[1m4 passed\u001b[0m\u001b[32m in 0.02s\u001b[0m\u001b[32m ========================================\u001b[0m\n"
     ]
    },
    {
     "data": {
      "text/plain": [
       "<ExitCode.OK: 0>"
      ]
     },
     "execution_count": 23,
     "metadata": {},
     "output_type": "execute_result"
    }
   ],
   "source": [
    "def test_normal_division():\n",
    "    \"\"\"Test normal case where division works.\"\"\"\n",
    "    result = do_computations(5, 8)  # x becomes 10, y becomes 5, z = 10/5 = 2\n",
    "    assert result == 2.0\n",
    "\n",
    "def test_zero_division():\n",
    "    \"\"\"Test that zero division returns None.\"\"\"\n",
    "    result = do_computations(5, 3)  # x becomes 10, y becomes 0, z = None\n",
    "    assert result is None\n",
    "\n",
    "def test_fractional_result():\n",
    "    \"\"\"Test division resulting in a fraction.\"\"\"\n",
    "    result = do_computations(10, 7)  # x becomes 15, y becomes 4, z = 15/4 = 3.75\n",
    "    assert result == 3.75\n",
    "\n",
    "def test_negative_inputs():\n",
    "    \"\"\"Test with negative input values.\"\"\"\n",
    "    result = do_computations(-5, 8)  # x becomes 0, y becomes 5, z = 0/5 = 0\n",
    "    assert result == 0.0\n",
    "    \n",
    "ipytest.run('-v')"
   ]
  },
  {
   "cell_type": "code",
   "execution_count": 24,
   "id": "d47838e3",
   "metadata": {},
   "outputs": [
    {
     "name": "stdout",
     "output_type": "stream",
     "text": [
      "\u001b[1m======================================= test session starts =======================================\u001b[0m\n",
      "platform win32 -- Python 3.14.0, pytest-8.4.2, pluggy-1.6.0\n",
      "rootdir: c:\\Users\\nikol\\OneDrive\\Desktop\\code\\pythoness\\Slovak\\2.2\n",
      "collected 4 items\n",
      "\n",
      "t_81bbcf415ae94db280c0b75355d232eb.py \u001b[32m.\u001b[0m\u001b[32m.\u001b[0m\u001b[32m.\u001b[0m\u001b[32m.\u001b[0m\u001b[32m                                                   [100%]\u001b[0m\n",
      "\n",
      "\u001b[32m======================================== \u001b[32m\u001b[1m4 passed\u001b[0m\u001b[32m in 0.01s\u001b[0m\u001b[32m ========================================\u001b[0m\n"
     ]
    }
   ],
   "source": [
    "%%ipytest -v\n",
    "\n",
    "def test_normal_division():\n",
    "    \"\"\"Test normal case where division works.\"\"\"\n",
    "    result = do_computations(5, 8)  # x becomes 10, y becomes 5, z = 10/5 = 2\n",
    "    assert result == 2.0\n",
    "\n",
    "def test_zero_division():\n",
    "    \"\"\"Test that zero division returns None.\"\"\"\n",
    "    result = do_computations(5, 3)  # x becomes 10, y becomes 0, z = None\n",
    "    assert result is None\n",
    "\n",
    "def test_fractional_result():\n",
    "    \"\"\"Test division resulting in a fraction.\"\"\"\n",
    "    result = do_computations(10, 7)  # x becomes 15, y becomes 4, z = 15/4 = 3.75\n",
    "    assert result == 3.75\n",
    "\n",
    "def test_negative_inputs():\n",
    "    \"\"\"Test with negative input values.\"\"\"\n",
    "    result = do_computations(-5, 8)  # x becomes 0, y becomes 5, z = 0/5 = 0\n",
    "    assert result == 0.0"
   ]
  }
 ],
 "metadata": {
  "kernelspec": {
   "display_name": "Python 3",
   "language": "python",
   "name": "python3"
  },
  "language_info": {
   "codemirror_mode": {
    "name": "ipython",
    "version": 3
   },
   "file_extension": ".py",
   "mimetype": "text/x-python",
   "name": "python",
   "nbconvert_exporter": "python",
   "pygments_lexer": "ipython3",
   "version": "3.14.0"
  }
 },
 "nbformat": 4,
 "nbformat_minor": 5
}
