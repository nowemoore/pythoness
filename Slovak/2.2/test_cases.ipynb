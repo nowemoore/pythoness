{
 "cells": [
  {
   "cell_type": "markdown",
   "id": "b09c6ffc",
   "metadata": {},
   "source": [
    "# Test Cases"
   ]
  },
  {
   "cell_type": "markdown",
   "id": "94caa8b3",
   "metadata": {},
   "source": [
    "This notebook serves as a hub for collecting test cases from the entire group. All participants are encouraged to submit pull requests to this file with test cases for any problems in the `problems.md` or `advanced_problems.md` collections."
   ]
  }
 ],
 "metadata": {
  "language_info": {
   "name": "python"
  }
 },
 "nbformat": 4,
 "nbformat_minor": 5
}
