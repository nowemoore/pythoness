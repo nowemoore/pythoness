{
 "cells": [
  {
   "cell_type": "markdown",
   "id": "7e42c991",
   "metadata": {},
   "source": [
    "# Module 3.1"
   ]
  },
  {
   "cell_type": "markdown",
   "id": "f7819acb",
   "metadata": {},
   "source": [
    "## Classes & Objects"
   ]
  },
  {
   "cell_type": "markdown",
   "id": "ea5548ee",
   "metadata": {},
   "source": [
    "### Initialisation"
   ]
  },
  {
   "cell_type": "code",
   "execution_count": 1,
   "id": "e457aea7",
   "metadata": {},
   "outputs": [],
   "source": [
    "class Student:\n",
    "    def __init__(self, name, age, grade):\n",
    "        self.name = name\n",
    "        self.age = age\n",
    "        self.grade = grade"
   ]
  },
  {
   "cell_type": "markdown",
   "id": "e8bbec36",
   "metadata": {},
   "source": [
    "### String"
   ]
  },
  {
   "cell_type": "code",
   "execution_count": 2,
   "id": "c4603bd0",
   "metadata": {},
   "outputs": [
    {
     "name": "stdout",
     "output_type": "stream",
     "text": [
      "<__main__.Student object at 0x0000020245972E40>\n"
     ]
    }
   ],
   "source": [
    "john = Student(\"John\", 20, \"90%\")\n",
    "print(john)"
   ]
  },
  {
   "cell_type": "code",
   "execution_count": 31,
   "id": "b39bbe57",
   "metadata": {},
   "outputs": [],
   "source": [
    "class Student:\n",
    "    def __init__(self, name, age, grade):\n",
    "        self.name = name\n",
    "        self.age = age\n",
    "        self.grade = grade\n",
    "        \n",
    "    def __str__(self):\n",
    "        return \"Name: %s, Age: %s, Grade: %s\" % (self.name, self.age, self.grade)\n",
    "    \n",
    "    def calculate_average(math_grade, science_grade):\n",
    "        average = (math_grade + science_grade) / 2\n",
    "        return average"
   ]
  },
  {
   "cell_type": "code",
   "execution_count": 36,
   "id": "d615568e",
   "metadata": {},
   "outputs": [
    {
     "name": "stdout",
     "output_type": "stream",
     "text": [
      "Name: John, Age: 20, Grade: 90%\n",
      "Name: John, Age: 20, Grade: 90%\n",
      "False\n"
     ]
    }
   ],
   "source": [
    "john1 = Student(\"John\", \"20\", \"90%\")\n",
    "john2 = Student(\"John\", \"20\", \"90%\")\n",
    "print(john1)\n",
    "print(john2)\n",
    "\n",
    "print(john1 == john2)  # False, different objects in memory"
   ]
  },
  {
   "cell_type": "code",
   "execution_count": 29,
   "id": "e36bb0a8",
   "metadata": {},
   "outputs": [
    {
     "name": "stdout",
     "output_type": "stream",
     "text": [
      "Name: Sarah, Age: 22, Grade: 95%\n",
      "Name: Peter, Age: 21, Grade: 88%\n"
     ]
    }
   ],
   "source": [
    "sarah = Student(\"Sarah\", \"22\", \"95%\")\n",
    "print(sarah)\n",
    "peter = Student(\"Peter\", \"21\", \"88%\")\n",
    "print(peter)"
   ]
  },
  {
   "cell_type": "code",
   "execution_count": 38,
   "id": "c2a0f0dc",
   "metadata": {},
   "outputs": [
    {
     "name": "stdout",
     "output_type": "stream",
     "text": [
      "Sarah\n",
      "Peter\n",
      "John\n",
      "John\n"
     ]
    },
    {
     "ename": "AttributeError",
     "evalue": "'str' object has no attribute 'name'",
     "output_type": "error",
     "traceback": [
      "\u001b[31m---------------------------------------------------------------------------\u001b[39m",
      "\u001b[31mAttributeError\u001b[39m                            Traceback (most recent call last)",
      "\u001b[36mCell\u001b[39m\u001b[36m \u001b[39m\u001b[32mIn[38]\u001b[39m\u001b[32m, line 4\u001b[39m\n\u001b[32m      1\u001b[39m list_of_students = [sarah, peter, john1, john2, \u001b[33m\"\u001b[39m\u001b[33m2\u001b[39m\u001b[33m\"\u001b[39m]\n\u001b[32m      3\u001b[39m \u001b[38;5;28;01mfor\u001b[39;00m student \u001b[38;5;129;01min\u001b[39;00m list_of_students:\n\u001b[32m----> \u001b[39m\u001b[32m4\u001b[39m     \u001b[38;5;28mprint\u001b[39m(\u001b[43mstudent\u001b[49m\u001b[43m.\u001b[49m\u001b[43mname\u001b[49m)\n",
      "\u001b[31mAttributeError\u001b[39m: 'str' object has no attribute 'name'"
     ]
    }
   ],
   "source": [
    "list_of_students = [sarah, peter, john1, john2, \"2\"]\n",
    "\n",
    "for student in list_of_students:\n",
    "    print(student.name)"
   ]
  },
  {
   "cell_type": "code",
   "execution_count": 32,
   "id": "11dc28bd",
   "metadata": {},
   "outputs": [
    {
     "name": "stdout",
     "output_type": "stream",
     "text": [
      "Calculated Average: 87.5%\n"
     ]
    }
   ],
   "source": [
    "calculated_average = Student.calculate_average(85, 90)\n",
    "print(\"Calculated Average: %.1f%%\" % calculated_average)"
   ]
  },
  {
   "cell_type": "markdown",
   "id": "dd37dd2a",
   "metadata": {},
   "source": [
    "### Other Format Specifiers"
   ]
  },
  {
   "cell_type": "code",
   "execution_count": 9,
   "id": "cf77a3f6",
   "metadata": {},
   "outputs": [
    {
     "name": "stdout",
     "output_type": "stream",
     "text": [
      "Name: Emma, _\n",
      "Math: 95%\n",
      "Science: 88%\n",
      "Average: 91.5%\n",
      "Letter Grade: A\n"
     ]
    }
   ],
   "source": [
    "student_name = \"Emma\"\n",
    "math_grade = 95\n",
    "science_grade = 88\n",
    "average = (math_grade + science_grade) / 2\n",
    "lettergrade = 'A'\n",
    "\n",
    "print(\"Name: %s, %c\" % (student_name, math_grade))\n",
    "print(\"Math: %d%%\" % math_grade)\n",
    "print(\"Science: %d%%\" % science_grade)\n",
    "print(\"Average: %.1f%%\" % average)\n",
    "print(\"Letter Grade: %c\" % lettergrade)"
   ]
  },
  {
   "cell_type": "markdown",
   "id": "339b2df7",
   "metadata": {},
   "source": [
    "### Other Stuff to Do with Objects"
   ]
  },
  {
   "cell_type": "markdown",
   "id": "170fbf3d",
   "metadata": {},
   "source": [
    "#### Changing Object Attributes"
   ]
  },
  {
   "cell_type": "code",
   "execution_count": 10,
   "id": "ec08baed",
   "metadata": {},
   "outputs": [],
   "source": [
    "class Student:\n",
    "    def __init__(self, name, age, grade):\n",
    "        self.name = name\n",
    "        self.age = age\n",
    "        self.grade = grade\n",
    "        \n",
    "    def __str__(self):\n",
    "        return \"Name: %s, Age: %d, Grade: %s\" % (self.name, self.age, self.grade)"
   ]
  },
  {
   "cell_type": "code",
   "execution_count": 11,
   "id": "31e013fe",
   "metadata": {},
   "outputs": [
    {
     "name": "stdout",
     "output_type": "stream",
     "text": [
      "Name: John, Age: 20, Grade: 90%\n"
     ]
    }
   ],
   "source": [
    "john = Student(\"John\", 20, \"90%\")\n",
    "print(john)"
   ]
  },
  {
   "cell_type": "code",
   "execution_count": 12,
   "id": "5cbd6057",
   "metadata": {},
   "outputs": [
    {
     "ename": "NameError",
     "evalue": "name 'jessica' is not defined",
     "output_type": "error",
     "traceback": [
      "\u001b[31m---------------------------------------------------------------------------\u001b[39m",
      "\u001b[31mNameError\u001b[39m                                 Traceback (most recent call last)",
      "\u001b[36mCell\u001b[39m\u001b[36m \u001b[39m\u001b[32mIn[12]\u001b[39m\u001b[32m, line 1\u001b[39m\n\u001b[32m----> \u001b[39m\u001b[32m1\u001b[39m \u001b[43mjessica\u001b[49m.age = \u001b[32m21\u001b[39m\n\u001b[32m      2\u001b[39m \u001b[38;5;28mprint\u001b[39m(jessica)\n",
      "\u001b[31mNameError\u001b[39m: name 'jessica' is not defined"
     ]
    }
   ],
   "source": [
    "jessica.age = 21\n",
    "print(jessica)"
   ]
  },
  {
   "cell_type": "code",
   "execution_count": 13,
   "id": "d10e7c54",
   "metadata": {},
   "outputs": [
    {
     "name": "stdout",
     "output_type": "stream",
     "text": [
      "Name: John, Age: 21, Grade: 90%\n"
     ]
    }
   ],
   "source": [
    "john.age = 21\n",
    "print(john)"
   ]
  },
  {
   "cell_type": "code",
   "execution_count": 14,
   "id": "44f2e58e",
   "metadata": {},
   "outputs": [
    {
     "name": "stdout",
     "output_type": "stream",
     "text": [
      "21\n"
     ]
    }
   ],
   "source": [
    "print(john.age)"
   ]
  },
  {
   "cell_type": "markdown",
   "id": "23e91eb5",
   "metadata": {},
   "source": [
    "#### Creating & Calling Custom Methods"
   ]
  },
  {
   "cell_type": "code",
   "execution_count": 15,
   "id": "5214c397",
   "metadata": {},
   "outputs": [],
   "source": [
    "class Student:\n",
    "    def __init__(self, name, age, grade):\n",
    "        self.name = name\n",
    "        self.age = age\n",
    "        self.grade = grade\n",
    "        self.study_hours = 0\n",
    "        \n",
    "    def __str__(self):\n",
    "        return \"Name: %s, Age: %d, Grade: %s\" % (self.name, self.age, self.grade)\n",
    "    \n",
    "    def study(self, hours):\n",
    "        self.study_hours += hours\n",
    "        print(\"%s studied for %d hours.\" % (self.name, hours) + \" Total study hours: %d\" % self.study_hours)"
   ]
  },
  {
   "cell_type": "code",
   "execution_count": 16,
   "id": "f1ef220b",
   "metadata": {},
   "outputs": [
    {
     "name": "stdout",
     "output_type": "stream",
     "text": [
      "0\n"
     ]
    }
   ],
   "source": [
    "john = Student(\"John\", 20, \"90%\")\n",
    "print(john.study_hours)"
   ]
  },
  {
   "cell_type": "code",
   "execution_count": 17,
   "id": "e2f3ae29",
   "metadata": {},
   "outputs": [
    {
     "name": "stdout",
     "output_type": "stream",
     "text": [
      "John studied for 3 hours. Total study hours: 3\n"
     ]
    }
   ],
   "source": [
    "john.study(3)"
   ]
  },
  {
   "cell_type": "code",
   "execution_count": 18,
   "id": "36074cf9",
   "metadata": {},
   "outputs": [
    {
     "name": "stdout",
     "output_type": "stream",
     "text": [
      "John studied for 2 hours. Total study hours: 5\n"
     ]
    }
   ],
   "source": [
    "john.study(2)"
   ]
  },
  {
   "cell_type": "code",
   "execution_count": 19,
   "id": "e5614d44",
   "metadata": {},
   "outputs": [
    {
     "name": "stdout",
     "output_type": "stream",
     "text": [
      "5\n"
     ]
    }
   ],
   "source": [
    "print(john.study_hours)"
   ]
  }
 ],
 "metadata": {
  "kernelspec": {
   "display_name": "Python 3",
   "language": "python",
   "name": "python3"
  },
  "language_info": {
   "codemirror_mode": {
    "name": "ipython",
    "version": 3
   },
   "file_extension": ".py",
   "mimetype": "text/x-python",
   "name": "python",
   "nbconvert_exporter": "python",
   "pygments_lexer": "ipython3",
   "version": "3.14.0"
  }
 },
 "nbformat": 4,
 "nbformat_minor": 5
}
