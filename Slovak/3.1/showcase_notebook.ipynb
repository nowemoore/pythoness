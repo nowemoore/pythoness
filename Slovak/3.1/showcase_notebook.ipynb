{
 "cells": [
  {
   "cell_type": "markdown",
   "id": "7e42c991",
   "metadata": {},
   "source": [
    "# Module 3.1"
   ]
  },
  {
   "cell_type": "markdown",
   "id": "f7819acb",
   "metadata": {},
   "source": [
    "## Classes & Objects"
   ]
  },
  {
   "cell_type": "markdown",
   "id": "ea5548ee",
   "metadata": {},
   "source": [
    "### Initialisation"
   ]
  },
  {
   "cell_type": "code",
   "execution_count": 9,
   "id": "e457aea7",
   "metadata": {},
   "outputs": [],
   "source": [
    "class Student:\n",
    "    def __init__(self, name, age, grade):\n",
    "        self.name = name\n",
    "        self.age = age\n",
    "        self.grade = grade"
   ]
  },
  {
   "cell_type": "markdown",
   "id": "e8bbec36",
   "metadata": {},
   "source": [
    "### String"
   ]
  },
  {
   "cell_type": "code",
   "execution_count": 10,
   "id": "c4603bd0",
   "metadata": {},
   "outputs": [
    {
     "name": "stdout",
     "output_type": "stream",
     "text": [
      "<__main__.Student object at 0x00000263909C4AD0>\n"
     ]
    }
   ],
   "source": [
    "john = Student(\"John\", 20, \"90%\")\n",
    "print(john)"
   ]
  },
  {
   "cell_type": "code",
   "execution_count": 11,
   "id": "b39bbe57",
   "metadata": {},
   "outputs": [],
   "source": [
    "class Student:\n",
    "    def __init__(self, name, age, grade):\n",
    "        self.name = name\n",
    "        self.age = age\n",
    "        self.grade = grade\n",
    "        \n",
    "    def __str__(self):\n",
    "        return \"Name: %s, Age: %d, Grade: %s\" % (self.name, self.age, self.grade)"
   ]
  },
  {
   "cell_type": "code",
   "execution_count": 12,
   "id": "d615568e",
   "metadata": {},
   "outputs": [
    {
     "ename": "TypeError",
     "evalue": "%d format: a real number is required, not str",
     "output_type": "error",
     "traceback": [
      "\u001b[31m---------------------------------------------------------------------------\u001b[39m",
      "\u001b[31mTypeError\u001b[39m                                 Traceback (most recent call last)",
      "\u001b[36mCell\u001b[39m\u001b[36m \u001b[39m\u001b[32mIn[12]\u001b[39m\u001b[32m, line 2\u001b[39m\n\u001b[32m      1\u001b[39m john = Student(\u001b[33m\"\u001b[39m\u001b[33mJohn\u001b[39m\u001b[33m\"\u001b[39m, \u001b[33m\"\u001b[39m\u001b[33m20\u001b[39m\u001b[33m\"\u001b[39m, \u001b[33m\"\u001b[39m\u001b[33m90\u001b[39m\u001b[33m%\u001b[39m\u001b[33m\"\u001b[39m)\n\u001b[32m----> \u001b[39m\u001b[32m2\u001b[39m \u001b[38;5;28;43mprint\u001b[39;49m\u001b[43m(\u001b[49m\u001b[43mjohn\u001b[49m\u001b[43m)\u001b[49m\n",
      "\u001b[36mCell\u001b[39m\u001b[36m \u001b[39m\u001b[32mIn[11]\u001b[39m\u001b[32m, line 8\u001b[39m, in \u001b[36mStudent.__str__\u001b[39m\u001b[34m(self)\u001b[39m\n\u001b[32m      7\u001b[39m \u001b[38;5;28;01mdef\u001b[39;00m\u001b[38;5;250m \u001b[39m\u001b[34m__str__\u001b[39m(\u001b[38;5;28mself\u001b[39m):\n\u001b[32m----> \u001b[39m\u001b[32m8\u001b[39m     \u001b[38;5;28;01mreturn\u001b[39;00m \u001b[33;43m\"\u001b[39;49m\u001b[33;43mName: \u001b[39;49m\u001b[38;5;132;43;01m%s\u001b[39;49;00m\u001b[33;43m, Age: \u001b[39;49m\u001b[38;5;132;43;01m%d\u001b[39;49;00m\u001b[33;43m, Grade: \u001b[39;49m\u001b[38;5;132;43;01m%s\u001b[39;49;00m\u001b[33;43m\"\u001b[39;49m\u001b[43m \u001b[49m\u001b[43m%\u001b[49m\u001b[43m \u001b[49m\u001b[43m(\u001b[49m\u001b[38;5;28;43mself\u001b[39;49m\u001b[43m.\u001b[49m\u001b[43mname\u001b[49m\u001b[43m,\u001b[49m\u001b[43m \u001b[49m\u001b[38;5;28;43mself\u001b[39;49m\u001b[43m.\u001b[49m\u001b[43mage\u001b[49m\u001b[43m,\u001b[49m\u001b[43m \u001b[49m\u001b[38;5;28;43mself\u001b[39;49m\u001b[43m.\u001b[49m\u001b[43mgrade\u001b[49m\u001b[43m)\u001b[49m\n",
      "\u001b[31mTypeError\u001b[39m: %d format: a real number is required, not str"
     ]
    }
   ],
   "source": [
    "john = Student(\"John\", \"20\", \"90%\")\n",
    "print(john)"
   ]
  },
  {
   "cell_type": "markdown",
   "id": "dd37dd2a",
   "metadata": {},
   "source": [
    "### Other Format Specifiers"
   ]
  },
  {
   "cell_type": "code",
   "execution_count": 14,
   "id": "cf77a3f6",
   "metadata": {},
   "outputs": [
    {
     "name": "stdout",
     "output_type": "stream",
     "text": [
      "Name: Emma\n",
      "Math: 95%\n",
      "Science: 88%\n",
      "Average: 91.5%\n",
      "Letter Grade: A\n"
     ]
    }
   ],
   "source": [
    "student_name = \"Emma\"\n",
    "math_grade = 95\n",
    "science_grade = 88\n",
    "average = (math_grade + science_grade) / 2\n",
    "lettergrade = 'A'\n",
    "\n",
    "print(\"Name: %s\" % student_name)\n",
    "print(\"Math: %d%%\" % math_grade)\n",
    "print(\"Science: %d%%\" % science_grade)\n",
    "print(\"Average: %.1f%%\" % average)\n",
    "print(\"Letter Grade: %c\" % lettergrade)"
   ]
  },
  {
   "cell_type": "markdown",
   "id": "339b2df7",
   "metadata": {},
   "source": [
    "### Other Stuff to Do with Objects"
   ]
  },
  {
   "cell_type": "markdown",
   "id": "170fbf3d",
   "metadata": {},
   "source": [
    "#### Changing Object Parameters"
   ]
  },
  {
   "cell_type": "code",
   "execution_count": null,
   "id": "ec08baed",
   "metadata": {},
   "outputs": [],
   "source": [
    "class Student:\n",
    "    def __init__(self, name, age, grade):\n",
    "        self.name = name\n",
    "        self.age = age\n",
    "        self.grade = grade\n",
    "        \n",
    "    def __str__(self):\n",
    "        return \"Name: %s, Age: %d, Grade: %s\" % (self.name, self.age, self.grade)"
   ]
  },
  {
   "cell_type": "code",
   "execution_count": null,
   "id": "31e013fe",
   "metadata": {},
   "outputs": [],
   "source": [
    "john = Student(\"John\", 20, \"90%\")\n",
    "print(john)"
   ]
  },
  {
   "cell_type": "code",
   "execution_count": null,
   "id": "d10e7c54",
   "metadata": {},
   "outputs": [],
   "source": [
    "john.age = 21\n",
    "print(john)"
   ]
  },
  {
   "cell_type": "markdown",
   "id": "23e91eb5",
   "metadata": {},
   "source": [
    "#### Creating & Calling Custom Methods"
   ]
  },
  {
   "cell_type": "code",
   "execution_count": null,
   "id": "5214c397",
   "metadata": {},
   "outputs": [],
   "source": [
    "class Student:\n",
    "    def __init__(self, name, age, grade):\n",
    "        self.name = name\n",
    "        self.age = age\n",
    "        self.grade = grade\n",
    "        self.study_hours = 0\n",
    "        \n",
    "    def __str__(self):\n",
    "        return \"Name: %s, Age: %d, Grade: %s\" % (self.name, self.age, self.grade)\n",
    "    \n",
    "    def study(self, hours):\n",
    "        self.study_hours += hours\n",
    "        print(\"%s studied for %d hours.\" % (self.name, hours) + \" Total study hours: %d\" % self.study_hours)"
   ]
  },
  {
   "cell_type": "code",
   "execution_count": null,
   "id": "f1ef220b",
   "metadata": {},
   "outputs": [],
   "source": [
    "john = Student(\"John\", 20, \"90%\")\n",
    "print(john.study_hours)"
   ]
  },
  {
   "cell_type": "code",
   "execution_count": null,
   "id": "e2f3ae29",
   "metadata": {},
   "outputs": [],
   "source": [
    "john.study(3)"
   ]
  },
  {
   "cell_type": "code",
   "execution_count": null,
   "id": "e5614d44",
   "metadata": {},
   "outputs": [],
   "source": [
    "print(john.study_hours)"
   ]
  }
 ],
 "metadata": {
  "kernelspec": {
   "display_name": "Python 3",
   "language": "python",
   "name": "python3"
  },
  "language_info": {
   "codemirror_mode": {
    "name": "ipython",
    "version": 3
   },
   "file_extension": ".py",
   "mimetype": "text/x-python",
   "name": "python",
   "nbconvert_exporter": "python",
   "pygments_lexer": "ipython3",
   "version": "3.13.7"
  }
 },
 "nbformat": 4,
 "nbformat_minor": 5
}
