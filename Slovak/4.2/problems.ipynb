{
 "cells": [
  {
   "cell_type": "markdown",
   "id": "fdedb7a4",
   "metadata": {},
   "source": [
    "# Úlohy pre cvičenie (In-Class Problems) 💖\n",
    "Tento set úloh sa týka dát, ktoré nájdeš v súbore `csvsample.csv`."
   ]
  },
  {
   "cell_type": "markdown",
   "id": "ff53b801",
   "metadata": {},
   "source": [
    "## ⭐ Úloha 01\n",
    "Zisti, aká je distribúcia cien všetkých produktov a vizualizuj ju pomocou stĺpcového grafu (bar chart)."
   ]
  },
  {
   "cell_type": "code",
   "execution_count": null,
   "id": "12a8ca16",
   "metadata": {},
   "outputs": [],
   "source": []
  },
  {
   "cell_type": "markdown",
   "id": "40347070",
   "metadata": {},
   "source": [
    "## ⭐ Úloha 02\n",
    "Ukáž, aké tržby (sales) vygenerovala každá kategória produktov. Vizualizuj to pomocou koláčového grafu (pie chart)."
   ]
  },
  {
   "cell_type": "code",
   "execution_count": null,
   "id": "31404497",
   "metadata": {},
   "outputs": [],
   "source": []
  },
  {
   "cell_type": "markdown",
   "id": "de813226",
   "metadata": {},
   "source": [
    "## ⭐ Úloha 03\n",
    "Zobraz, koľko kusov produktov (units) sa predalo každý deň pomocou čiarového grafu (line chart). Nezabudni najprv dáta správne agregovať!"
   ]
  },
  {
   "cell_type": "code",
   "execution_count": null,
   "id": "800d3293",
   "metadata": {},
   "outputs": [],
   "source": []
  },
  {
   "cell_type": "markdown",
   "id": "ae9982e7",
   "metadata": {},
   "source": [
    "## ⭐ Úloha 04\n",
    "Vytvor bodový graf (scatterplot) a preskúmaj, či počet predaných kusov koreluje s nákladmi na kus (cost per unit)."
   ]
  },
  {
   "cell_type": "code",
   "execution_count": null,
   "id": "51bb1046",
   "metadata": {},
   "outputs": [],
   "source": []
  },
  {
   "cell_type": "markdown",
   "id": "dda8bf0e",
   "metadata": {},
   "source": [
    "## ⭐ Úloha 05\n",
    "Vytvor zoskupený stĺpcový graf (grouped bar graph) podľa vlastného výberu, ale nezabudni zmeniť farbu stĺpcov oproti predvolenému nastaveniu. Trochu experimentuj!"
   ]
  },
  {
   "cell_type": "code",
   "execution_count": null,
   "id": "f13cf33a",
   "metadata": {},
   "outputs": [],
   "source": []
  }
 ],
 "metadata": {
  "language_info": {
   "name": "python"
  }
 },
 "nbformat": 4,
 "nbformat_minor": 5
}