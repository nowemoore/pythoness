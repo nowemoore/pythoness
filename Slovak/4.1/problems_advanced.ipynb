{
 "cells": [
  {
   "cell_type": "markdown",
   "id": "fdedb7a4",
   "metadata": {},
   "source": [
    "# Pre pokročilé"
   ]
  },
  {
   "cell_type": "markdown",
   "id": "ff53b801",
   "metadata": {},
   "source": [
    "## ⭐ Úloha 01\n",
    "Prečítaj **textový súbor**, nahraď všetky výskyty špecifického slova iným slovom a zapíš upravený obsah do **nového súboru**.\n",
    "\n",
    "<details>\n",
    "<summary>Nápoveda</summary>\n",
    "Pamätaj, že riadky v obyčajnom textovom súbore sú len reťazce. Zváž, ktoré metódy pre reťazce by tu mohli byť užitočné. (Tip: Skús metódu `.replace()`!)\n",
    "</details>"
   ]
  },
  {
   "cell_type": "code",
   "execution_count": null,
   "id": "29f1d836",
   "metadata": {},
   "outputs": [],
   "source": []
  },
  {
   "cell_type": "markdown",
   "id": "274fb223",
   "metadata": {},
   "source": [
    "## ⭐ Úloha 02\n",
    "Prečítaj **textový súbor** a vytlač všetky riadky v **opačnom poradí** (teda posledný riadok ako prvý, prvý riadok ako posledný)."
   ]
  },
  {
   "cell_type": "code",
   "execution_count": null,
   "id": "12a8ca16",
   "metadata": {},
   "outputs": [],
   "source": []
  }
 ],
 "metadata": {
  "language_info": {
   "name": "python"
  }
 },
 "nbformat": 4,
 "nbformat_minor": 5
}
