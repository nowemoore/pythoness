{
 "cells": [
  {
   "cell_type": "markdown",
   "id": "fdedb7a4",
   "metadata": {},
   "source": [
    "# Na hodinu"
   ]
  },
  {
   "cell_type": "markdown",
   "id": "ff53b801",
   "metadata": {},
   "source": [
    "## ⭐ Úloha 01\n",
    "Prečítajte poskytnutý textový súbor a vytlačte len tretí riadok."
   ]
  },
  {
   "cell_type": "code",
   "execution_count": null,
   "id": "12a8ca16",
   "metadata": {},
   "outputs": [],
   "source": []
  },
  {
   "cell_type": "markdown",
   "id": "40347070",
   "metadata": {},
   "source": [
    "## ⭐ Úloha 02\n",
    "Prečítajte poskytnutý súbor CSV a vytlačte prvú hodnotu v každom riadku."
   ]
  },
  {
   "cell_type": "code",
   "execution_count": null,
   "id": "31408497",
   "metadata": {},
   "outputs": [],
   "source": []
  },
  {
   "cell_type": "markdown",
   "id": "de813226",
   "metadata": {},
   "source": [
    "## ⭐ Úloha 03\n",
    "Prečítajte poskytnutý súbor CSV pomocou `pandas`. Potom pridajte stĺpec `discounted` (zľavnená cena), ktorý prevezme ceny zo stĺpca `price` a zľavní ich všetky o 20%."
   ]
  },
  {
   "cell_type": "code",
   "execution_count": null,
   "id": "800d3293",
   "metadata": {},
   "outputs": [],
   "source": []
  },
  {
   "cell_type": "markdown",
   "id": "ae9982e7",
   "metadata": {},
   "source": [
    "## ⭐ Úloha 04\n",
    "Prečítajte poskytnutý súbor CSV pomocou `pandas`. Potom vypočítajte celkový príjem (Množstvo × Jednotková cena) pre všetky transakcie typu \"Sale\" (Predaj). Vytlačte výsledok."
   ]
  },
  {
   "cell_type": "code",
   "execution_count": null,
   "id": "51bb1046",
   "metadata": {},
   "outputs": [],
   "source": []
  },
  {
   "cell_type": "markdown",
   "id": "dda8bf0e",
   "metadata": {},
   "source": [
    "## ⭐ Úloha 05\n",
    "Prečítajte súbor CSV a nájdite všetky položky, ktorých predajná cena je viac ako dvojnásobok nákupnej ceny. Vytlačte názvy položiek a percento prirážky."
   ]
  },
  {
   "cell_type": "code",
   "execution_count": null,
   "id": "f13cf33a",
   "metadata": {},
   "outputs": [],
   "source": []
  },
  {
   "cell_type": "markdown",
   "id": "c2a0baff",
   "metadata": {},
   "source": [
    "## ⭐ Úloha 06\n",
    "Prečítajte súbor CSV a zistite, ktorý dátum mal najvyšší celkový predaný objem položiek. Vytlačte dátum a celkové množstvo."
   ]
  },
  {
   "cell_type": "code",
   "execution_count": null,
   "id": "bfc14187",
   "metadata": {},
   "outputs": [],
   "source": []
  },
  {
   "cell_type": "markdown",
   "id": "c9b38318",
   "metadata": {},
   "source": [
    "## ⭐ Úloha 07\n",
    "Prečítajte poskytnutý súbor CSV pomocou pandas. Filtrujte, aby sa zobrazili iba transakcie, kde je Množstvo (Quantity) väčšie ako 100. Vytlačte výsledný dataframe."
   ]
  },
  {
   "cell_type": "code",
   "execution_count": null,
   "id": "f52243f7",
   "metadata": {},
   "outputs": [],
   "source": []
  },
  {
   "cell_type": "markdown",
   "id": "cd457a0d",
   "metadata": {},
   "source": [
    "## ⭐ Úloha 08\n",
    "Prečítajte poskytnutý súbor CSV a vypočítajte priemernú jednotkovú cenu pre každú jedinečnú Položku (Item). Vytlačte výsledky zobrazujúce názov Položky a jej priemernú cenu."
   ]
  },
  {
   "cell_type": "code",
   "execution_count": null,
   "id": "aae5ba1b",
   "metadata": {},
   "outputs": [],
   "source": []
  },
  {
   "cell_type": "markdown",
   "id": "8014bada",
   "metadata": {},
   "source": [
    "## ⭐ Úloha 09\n",
    "Prečítajte poskytnutý súbor CSV a navrhnite, ktorých položiek by mal obchod nakupovať viac/menej. Odôvodnite svoje zdôvodnenie."
   ]
  },
  {
   "cell_type": "code",
   "execution_count": null,
   "id": "8d7c7674",
   "metadata": {},
   "outputs": [],
   "source": []
  },
  {
   "cell_type": "markdown",
   "id": "27a7cbcd",
   "metadata": {},
   "source": [
    "## ⭐ Úloha 10\n",
    "Prečítajte textový súbor a vytlačte len riadky, ktoré sú dlhšie ako 30 znakov."
   ]
  },
  {
   "cell_type": "code",
   "execution_count": null,
   "id": "b56d21a8",
   "metadata": {},
   "outputs": [],
   "source": []
  },
  {
   "cell_type": "markdown",
   "id": "31f58b56",
   "metadata": {},
   "source": [
    "## ⭐ Úloha 11\n",
    "Prečítajte textový súbor a nájdite najdlhší riadok. Vytlačte číslo riadku, obsah riadku a jeho dĺžku (počet znakov)."
   ]
  },
  {
   "cell_type": "code",
   "execution_count": null,
   "id": "1c76a4f9",
   "metadata": {},
   "outputs": [],
   "source": []
  }
 ],
 "metadata": {
  "language_info": {
   "name": "python"
  }
 },
 "nbformat": 4,
 "nbformat_minor": 5
}
