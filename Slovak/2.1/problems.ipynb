{
 "cells": [
  {
   "cell_type": "markdown",
   "metadata": {},
   "source": [
    "# Na hodinu"
   ]
  },
  {
   "cell_type": "markdown",
   "metadata": {},
   "source": [
    "## ⭐ **Úloha 01**\n",
    "Napíš funkciu `greet()`, ktorá berie meno ako argument a vypíše `\"Hello, [meno]!\"`. Otestuj ju so svojím vlastným menom."
   ]
  },
  {
   "cell_type": "code",
   "execution_count": 1,
   "metadata": {},
   "outputs": [
    {
     "name": "stdout",
     "output_type": "stream",
     "text": [
      "Hello, Ada!\n"
     ]
    }
   ],
   "source": [
    "def greet(name):\n",
    "    return f\"Hello, {name}!\"\n",
    "\n",
    "print(greet(\"Ada\"))\n",
    "    \n",
    " \n",
    "\n"
   ]
  },
  {
   "cell_type": "markdown",
   "metadata": {},
   "source": [
    "## ⭐ **Úloha 02**\n",
    "Napíš funkciu `reverse()`, ktorá berie string a vráti ten istý string ale naopak."
   ]
  },
  {
   "cell_type": "code",
   "execution_count": 14,
   "id": "36935243",
   "metadata": {},
   "outputs": [
    {
     "name": "stdout",
     "output_type": "stream",
     "text": [
      "olleh\n"
     ]
    }
   ],
   "source": [
    "def reverse(text):\n",
    "    return text [::-1]\n",
    "print(reverse(\"hello\"))\n",
    "\n",
    "#The [::-1] reverses the order. In a similar way, we can slice strings like this. Remember, negative number for step means \"in reverse order\"\n",
    "# ak dam -2 tak kazde druhe"
   ]
  },
  {
   "cell_type": "code",
   "execution_count": null,
   "metadata": {},
   "outputs": [
    {
     "name": "stdout",
     "output_type": "stream",
     "text": [
      "5\n",
      "dlha\n",
      "kratka\n"
     ]
    }
   ],
   "source": [
    "def reverse(str):\n",
    "    if len(str) > 3:\n",
    "        return \"dlha\"\n",
    "    else:\n",
    "        return \"kratka\"\n",
    "\n",
    "print(len(\"Hello\"))\n",
    "print(reverse(\"hello\"))\n",
    "print(reverse(\"me\"))\n",
    "  \n",
    "    \n",
    "    "
   ]
  },
  {
   "cell_type": "markdown",
   "metadata": {},
   "source": [
    "## ⭐ **Úloha 03**\n",
    "Napíš funkciu `area()`, ktorá berie každú *unikátnu* dĺžku pravouhlého symetrického štvorca a vráti jeho plochu."
   ]
  },
  {
   "cell_type": "code",
   "execution_count": 17,
   "metadata": {},
   "outputs": [
    {
     "name": "stdout",
     "output_type": "stream",
     "text": [
      "9\n"
     ]
    }
   ],
   "source": [
    "def area(a):\n",
    "    return a * a\n",
    "\n",
    "print(area(3))"
   ]
  },
  {
   "cell_type": "markdown",
   "metadata": {},
   "source": [
    "## ⭐ **Úloha 04**\n",
    "Vytvor funkciu `leap_year_check()`, ktorá berie rok a vráti `True`, ak je rok prestupný."
   ]
  },
  {
   "cell_type": "code",
   "execution_count": 19,
   "metadata": {},
   "outputs": [
    {
     "name": "stdout",
     "output_type": "stream",
     "text": [
      "False\n",
      "True\n"
     ]
    }
   ],
   "source": [
    "def leap_year_check(x):\n",
    "    if x == 366:\n",
    "        return \"True\"\n",
    "    else:\n",
    "        return \"False\"\n",
    "    \n",
    "print(leap_year_check(365))\n",
    "print(leap_year_check(366))\n",
    "    "
   ]
  },
  {
   "cell_type": "markdown",
   "metadata": {},
   "source": [
    "## ⭐ **Úloha 05**\n",
    "Napíš funkciu `greet_everyone()`, ktorá berie list mien a vypíše `\"Hello, [meno]!\"` pre všetky mená v liste. Počet mien nie je vopred špecifikovaný."
   ]
  },
  {
   "cell_type": "code",
   "execution_count": null,
   "metadata": {},
   "outputs": [],
   "source": [
    "names = [\"Katka\", \"Ada\", \"Gregor\"]\n",
    "\n",
    "def greet_everyone(names):\n",
    "    for x in names:\n",
    "        x \n",
    "\n",
    "\n",
    "\n",
    "        \n",
    "    \n",
    "\n",
    "\n",
    "    "
   ]
  },
  {
   "cell_type": "markdown",
   "metadata": {},
   "source": [
    "## ⭐ **Úloha 06**\n",
    "Vytvor funkciu `names_alphabetical()`, ktorá berie meno osoby (dopredu sa nevie, koľko mien user poskytne) a vráti všetky časti ich mena v abecednom poradí."
   ]
  },
  {
   "cell_type": "code",
   "execution_count": 27,
   "id": "24064cf0",
   "metadata": {},
   "outputs": [
    {
     "name": "stdout",
     "output_type": "stream",
     "text": [
      "[666, 369, 100, 68, 28, 15, 11, 1]\n",
      "369\n"
     ]
    }
   ],
   "source": [
    "number = [15, 28, 369, 1, 68, 11, 100, 666]  #randomne cisla v zozname\n",
    "\n",
    "number.sort(reverse=True)                  # cez sort zoradim od najvacsieho po najmensie\n",
    "print(number) \n",
    "print(number[1])                           #printujem cislo s indexom jedna. kedze sa zacina od nuly,druhe najvyssie cislo bude mat 1\n",
    "\n",
    "# Gut Schuschen"
   ]
  },
  {
   "cell_type": "code",
   "execution_count": null,
   "metadata": {},
   "outputs": [],
   "source": [
    "names = \n",
    "def names_alfabetical(names):\n",
    "    "
   ]
  },
  {
   "cell_type": "markdown",
   "metadata": {},
   "source": [
    "## ⭐ **Úloha 07**\n",
    "Napíš funkciu `prime_check()`, ktorá berie integer a vráti `True`, ak je číslo prvočíslo, inak `False`. (Tip: uisti sa, že ošetríš záporné čísla a iné edge cases.)"
   ]
  },
  {
   "cell_type": "code",
   "execution_count": null,
   "metadata": {},
   "outputs": [],
   "source": []
  },
  {
   "cell_type": "markdown",
   "metadata": {},
   "source": [
    "## ⭐ **Úloha 08**\n",
    "Vytvor funkciu `word_count()`, ktorá berie string s vetou a vráti dictionary s každým slovom ako key a jeho frekvenciou ako value."
   ]
  },
  {
   "cell_type": "code",
   "execution_count": null,
   "metadata": {},
   "outputs": [],
   "source": []
  },
  {
   "cell_type": "markdown",
   "metadata": {},
   "source": [
    "## ⭐ **Úloha 09**\n",
    "Vytvor funkciu `validate_email()`, ktorá vráti `True` len vtedy, keď input string obsahuje presne jeden `@`, aspoň jednu bodku za `@`, a žiadne medzery."
   ]
  },
  {
   "cell_type": "code",
   "execution_count": null,
   "metadata": {},
   "outputs": [],
   "source": []
  },
  {
   "cell_type": "markdown",
   "metadata": {},
   "source": [
    "## ⭐ **Úloha 10**\n",
    "Vytvor funkciu `find_intersection()`, ktorá berie dva listy a vráti list elementov, ktoré sa vyskytujú v oboch listoch."
   ]
  },
  {
   "cell_type": "code",
   "execution_count": null,
   "metadata": {},
   "outputs": [],
   "source": []
  },
  {
   "cell_type": "markdown",
   "metadata": {},
   "source": [
    "## ⭐ **Úloha 11**\n",
    "Vytvor funkciu `count_words_by_length()`, ktorá berie vetu a vráti dictionary, kde keys sú dĺžky slov a values sú počty slov s danou dĺžkou."
   ]
  },
  {
   "cell_type": "code",
   "execution_count": null,
   "metadata": {},
   "outputs": [],
   "source": []
  },
  {
   "cell_type": "markdown",
   "metadata": {},
   "source": [
    "## ⭐ **Úloha 12**\n",
    "Vytvor funkciu `hours_to_hms()`, ktorá berie počet hodín ako desatiné číslo a vráti ho vo formáte hodiny:minúty:sekundy."
   ]
  },
  {
   "cell_type": "code",
   "execution_count": null,
   "metadata": {},
   "outputs": [],
   "source": []
  },
  {
   "cell_type": "markdown",
   "metadata": {},
   "source": [
    "## ⭐ **Úloha 13**\n",
    "Napíš funkciu `fibonacci()`, ktorá berie integer `n` a vráti n-té Fibonacci číslo."
   ]
  },
  {
   "cell_type": "code",
   "execution_count": null,
   "metadata": {},
   "outputs": [],
   "source": []
  },
  {
   "cell_type": "markdown",
   "metadata": {},
   "source": [
    "## ⭐ **Úloha 14**\n",
    "Vytvor rekurzívnu funkciu `gcd()`, ktorá nájde a vráti najväčší spoločný deliteľ dvoch input integerov. (Tip: zvaž použitie Euklidovho algoritmu.)"
   ]
  },
  {
   "cell_type": "code",
   "execution_count": null,
   "metadata": {},
   "outputs": [],
   "source": []
  },
  {
   "cell_type": "markdown",
   "metadata": {},
   "source": [
    "## ⭐ **Úloha 15**\n",
    "Vytvor funkciu `merge_lists()`, ktorá berie presne dva zoradené listy integerov a vráti jeden zoradený list obsahujúci všetky elementy z oboch listov."
   ]
  },
  {
   "cell_type": "code",
   "execution_count": null,
   "metadata": {},
   "outputs": [],
   "source": []
  },
  {
   "cell_type": "markdown",
   "metadata": {},
   "source": [
    "## ⭐ **Úloha 16**\n",
    "Napíš funkciu `find_second_largest()`, ktorá berie list čísel a vráti druhé najväčšie číslo. (Tip: ošetri prípad, keď sú všetky hodnoty rovnaké.)"
   ]
  },
  {
   "cell_type": "code",
   "execution_count": null,
   "metadata": {},
   "outputs": [],
   "source": []
  },
  {
   "cell_type": "markdown",
   "metadata": {},
   "source": [
    "## ⭐ **Úloha 17**\n",
    "Vytvor funkciu `ceasar_cipher()`, ktorá berie string a integer `n`, a vráti string posunutý o `n` pozícií doľava. (Tip: ošetri prípady, keď `n` je väčšie ako dĺžka stringu.)"
   ]
  },
  {
   "cell_type": "code",
   "execution_count": null,
   "metadata": {},
   "outputs": [],
   "source": []
  },
  {
   "cell_type": "markdown",
   "metadata": {},
   "source": [
    "## ⭐ **Úloha 18**\n",
    "Napíš funkciu `remove_nth_character()`, ktorá berie string a integer `n`, a vráti string s každým n-tým charakterom odstráneným. Ošetri prípady, keď `n` je väčšie ako dĺžka stringu."
   ]
  },
  {
   "cell_type": "code",
   "execution_count": null,
   "metadata": {},
   "outputs": [],
   "source": []
  },
  {
   "cell_type": "markdown",
   "metadata": {},
   "source": [
    "## ⭐ **Úloha 19**\n",
    "Napíš funkciu `find_missing_number()`, ktorá berie list integerov od 1 do n s jedným chýbajúcim číslom, a vráti chýbajúce číslo. (List nemusí byť zoradený.)"
   ]
  },
  {
   "cell_type": "code",
   "execution_count": null,
   "metadata": {},
   "outputs": [],
   "source": []
  },
  {
   "cell_type": "markdown",
   "metadata": {},
   "source": [
    "## ⭐ **Úloha 20**\n",
    "Napíš funkciu `anagram_groups()`, ktorá berie list slov a vráti dictionary anagramov, kde key je abecedne zoradený reprezentant (napr. `{\"aet\": [\"eat\", \"tea\", \"ate\"], \"ab\": [\"ab\", \"ba\"]}`)."
   ]
  },
  {
   "cell_type": "code",
   "execution_count": null,
   "metadata": {},
   "outputs": [],
   "source": []
  },
  {
   "cell_type": "markdown",
   "metadata": {},
   "source": [
    "## ⭐ **Úloha 21**\n",
    "Vytvor funkciu `sort_by_frequency()`, ktorá berie list elementov a vráti list zoradený podľa frekvencie výskytu (najčastejšie prvé). (Tip: premysli si, ako chceš riešiť prípady, keď sa slová vyskytujú toľko isto krát.)"
   ]
  },
  {
   "cell_type": "code",
   "execution_count": null,
   "metadata": {},
   "outputs": [],
   "source": []
  }
 ],
 "metadata": {
  "kernelspec": {
   "display_name": "Python 3",
   "language": "python",
   "name": "python3"
  },
  "language_info": {
   "codemirror_mode": {
    "name": "ipython",
    "version": 3
   },
   "file_extension": ".py",
   "mimetype": "text/x-python",
   "name": "python",
   "nbconvert_exporter": "python",
   "pygments_lexer": "ipython3",
   "version": "3.14.0"
  }
 },
 "nbformat": 4,
 "nbformat_minor": 5
}
