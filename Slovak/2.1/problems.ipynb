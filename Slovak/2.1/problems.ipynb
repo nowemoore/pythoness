{
 "cells": [
  {
   "cell_type": "markdown",
   "metadata": {},
   "source": [
    "# Na hodinu"
   ]
  },
  {
   "cell_type": "markdown",
   "metadata": {},
   "source": [
    "## ⭐ **Úloha 01**\n",
    "Napíš funkciu `greet()`, ktorá berie meno ako argument a vypíše `\"Hello, [meno]!\"`. Otestuj ju so svojím vlastným menom."
   ]
  },
  {
   "cell_type": "code",
   "execution_count": null,
   "metadata": {},
   "outputs": [],
   "source": []
  },
  {
   "cell_type": "markdown",
   "metadata": {},
   "source": [
    "## ⭐ **Úloha 02**\n",
    "Napíš funkciu `reverse()`, ktorá berie string a vráti ten istý string ale naopak."
   ]
  },
  {
   "cell_type": "code",
   "execution_count": null,
   "metadata": {},
   "outputs": [],
   "source": []
  },
  {
   "cell_type": "markdown",
   "metadata": {},
   "source": [
    "## ⭐ **Úloha 03**\n",
    "Napíš funkciu `area()`, ktorá berie každú *unikátnu* dĺžku pravouhlého symetrického štvorca a vráti jeho plochu."
   ]
  },
  {
   "cell_type": "code",
   "execution_count": null,
   "metadata": {},
   "outputs": [],
   "source": []
  },
  {
   "cell_type": "markdown",
   "metadata": {},
   "source": [
    "## ⭐ **Úloha 04**\n",
    "Vytvor funkciu `leap_year_check()`, ktorá berie rok a vráti `True`, ak je rok prestupný."
   ]
  },
  {
   "cell_type": "code",
   "execution_count": null,
   "metadata": {},
   "outputs": [],
   "source": []
  },
  {
   "cell_type": "markdown",
   "metadata": {},
   "source": [
    "## ⭐ **Úloha 05**\n",
    "Napíš funkciu `greet_everyone()`, ktorá berie list mien a vypíše `\"Hello, [meno]!\"` pre všetky mená v liste. Počet mien nie je vopred špecifikovaný."
   ]
  },
  {
   "cell_type": "code",
   "execution_count": null,
   "metadata": {},
   "outputs": [],
   "source": []
  },
  {
   "cell_type": "markdown",
   "metadata": {},
   "source": [
    "## ⭐ **Úloha 06**\n",
    "Vytvor funkciu `names_alphabetical()`, ktorá berie meno osoby (dopredu sa nevie, koľko mien user poskytne) a vráti všetky časti ich mena v abecednom poradí."
   ]
  },
  {
   "cell_type": "code",
   "execution_count": null,
   "metadata": {},
   "outputs": [],
   "source": []
  },
  {
   "cell_type": "markdown",
   "metadata": {},
   "source": [
    "## ⭐ **Úloha 07**\n",
    "Napíš funkciu `prime_check()`, ktorá berie integer a vráti `True`, ak je číslo prvočíslo, inak `False`. (Tip: uisti sa, že ošetríš záporné čísla a iné edge cases.)"
   ]
  },
  {
   "cell_type": "code",
   "execution_count": null,
   "metadata": {},
   "outputs": [],
   "source": []
  },
  {
   "cell_type": "markdown",
   "metadata": {},
   "source": [
    "## ⭐ **Úloha 08**\n",
    "Vytvor funkciu `word_count()`, ktorá berie string s vetou a vráti dictionary s každým slovom ako key a jeho frekvenciou ako value."
   ]
  },
  {
   "cell_type": "code",
   "execution_count": null,
   "metadata": {},
   "outputs": [],
   "source": []
  },
  {
   "cell_type": "markdown",
   "metadata": {},
   "source": [
    "## ⭐ **Úloha 09**\n",
    "Vytvor funkciu `validate_email()`, ktorá vráti `True` len vtedy, keď input string obsahuje presne jeden `@`, aspoň jednu bodku za `@`, a žiadne medzery."
   ]
  },
  {
   "cell_type": "code",
   "execution_count": null,
   "metadata": {},
   "outputs": [],
   "source": []
  },
  {
   "cell_type": "markdown",
   "metadata": {},
   "source": [
    "## ⭐ **Úloha 10**\n",
    "Vytvor funkciu `find_intersection()`, ktorá berie dva listy a vráti list elementov, ktoré sa vyskytujú v oboch listoch."
   ]
  },
  {
   "cell_type": "code",
   "execution_count": null,
   "metadata": {},
   "outputs": [],
   "source": []
  },
  {
   "cell_type": "markdown",
   "metadata": {},
   "source": [
    "## ⭐ **Úloha 11**\n",
    "Vytvor funkciu `count_words_by_length()`, ktorá berie vetu a vráti dictionary, kde keys sú dĺžky slov a values sú počty slov s danou dĺžkou."
   ]
  },
  {
   "cell_type": "code",
   "execution_count": null,
   "metadata": {},
   "outputs": [],
   "source": []
  },
  {
   "cell_type": "markdown",
   "metadata": {},
   "source": [
    "## ⭐ **Úloha 12**\n",
    "Vytvor funkciu `hours_to_hms()`, ktorá berie počet hodín ako desatiné číslo a vráti ho vo formáte hodiny:minúty:sekundy."
   ]
  },
  {
   "cell_type": "code",
   "execution_count": null,
   "metadata": {},
   "outputs": [],
   "source": []
  },
  {
   "cell_type": "markdown",
   "metadata": {},
   "source": [
    "## ⭐ **Úloha 13**\n",
    "Napíš funkciu `fibonacci()`, ktorá berie integer `n` a vráti n-té Fibonacci číslo."
   ]
  },
  {
   "cell_type": "code",
   "execution_count": null,
   "metadata": {},
   "outputs": [],
   "source": []
  },
  {
   "cell_type": "markdown",
   "metadata": {},
   "source": [
    "## ⭐ **Úloha 14**\n",
    "Vytvor rekurzívnu funkciu `gcd()`, ktorá nájde a vráti najväčší spoločný deliteľ dvoch input integerov. (Tip: zvaž použitie Euklidovho algoritmu.)"
   ]
  },
  {
   "cell_type": "code",
   "execution_count": null,
   "metadata": {},
   "outputs": [],
   "source": []
  },
  {
   "cell_type": "markdown",
   "metadata": {},
   "source": [
    "## ⭐ **Úloha 15**\n",
    "Vytvor funkciu `merge_lists()`, ktorá berie presne dva zoradené listy integerov a vráti jeden zoradený list obsahujúci všetky elementy z oboch listov."
   ]
  },
  {
   "cell_type": "code",
   "execution_count": null,
   "metadata": {},
   "outputs": [],
   "source": []
  },
  {
   "cell_type": "markdown",
   "metadata": {},
   "source": [
    "## ⭐ **Úloha 16**\n",
    "Napíš funkciu `find_second_largest()`, ktorá berie list čísel a vráti druhé najväčšie číslo. (Tip: ošetri prípad, keď sú všetky hodnoty rovnaké.)"
   ]
  },
  {
   "cell_type": "code",
   "execution_count": null,
   "metadata": {},
   "outputs": [],
   "source": []
  },
  {
   "cell_type": "markdown",
   "metadata": {},
   "source": [
    "## ⭐ **Úloha 17**\n",
    "Vytvor funkciu `ceasar_cipher()`, ktorá berie string a integer `n`, a vráti string posunutý o `n` pozícií doľava. (Tip: ošetri prípady, keď `n` je väčšie ako dĺžka stringu.)"
   ]
  },
  {
   "cell_type": "code",
   "execution_count": null,
   "metadata": {},
   "outputs": [],
   "source": []
  },
  {
   "cell_type": "markdown",
   "metadata": {},
   "source": [
    "## ⭐ **Úloha 18**\n",
    "Napíš funkciu `remove_nth_character()`, ktorá berie string a integer `n`, a vráti string s každým n-tým charakterom odstráneným. Ošetri prípady, keď `n` je väčšie ako dĺžka stringu."
   ]
  },
  {
   "cell_type": "code",
   "execution_count": null,
   "metadata": {},
   "outputs": [],
   "source": []
  },
  {
   "cell_type": "markdown",
   "metadata": {},
   "source": [
    "## ⭐ **Úloha 19**\n",
    "Napíš funkciu `find_missing_number()`, ktorá berie list integerov od 1 do n s jedným chýbajúcim číslom, a vráti chýbajúce číslo. (List nemusí byť zoradený.)"
   ]
  },
  {
   "cell_type": "code",
   "execution_count": null,
   "metadata": {},
   "outputs": [],
   "source": []
  },
  {
   "cell_type": "markdown",
   "metadata": {},
   "source": [
    "## ⭐ **Úloha 20**\n",
    "Napíš funkciu `anagram_groups()`, ktorá berie list slov a vráti dictionary anagramov, kde key je abecedne zoradený reprezentant (napr. `{\"aet\": [\"eat\", \"tea\", \"ate\"], \"ab\": [\"ab\", \"ba\"]}`)."
   ]
  },
  {
   "cell_type": "code",
   "execution_count": null,
   "metadata": {},
   "outputs": [],
   "source": []
  },
  {
   "cell_type": "markdown",
   "metadata": {},
   "source": [
    "## ⭐ **Úloha 21**\n",
    "Vytvor funkciu `sort_by_frequency()`, ktorá berie list elementov a vráti list zoradený podľa frekvencie výskytu (najčastejšie prvé). (Tip: premysli si, ako chceš riešiť prípady, keď sa slová vyskytujú toľko isto krát.)"
   ]
  },
  {
   "cell_type": "code",
   "execution_count": null,
   "metadata": {},
   "outputs": [],
   "source": []
  }
 ],
 "metadata": {
  "kernelspec": {
   "display_name": "Python 3",
   "language": "python",
   "name": "python3"
  },
  "language_info": {
   "codemirror_mode": {
    "name": "ipython",
    "version": 3
   },
   "file_extension": ".py",
   "mimetype": "text/x-python",
   "name": "python",
   "nbconvert_exporter": "python",
   "pygments_lexer": "ipython3",
   "version": "3.11.4"
  }
 },
 "nbformat": 4,
 "nbformat_minor": 5
}
