{
 "cells": [
  {
   "cell_type": "markdown",
   "id": "7b6a3b41",
   "metadata": {},
   "source": [
    "# Module 2.1"
   ]
  },
  {
   "cell_type": "markdown",
   "id": "5f69a3cf",
   "metadata": {},
   "source": [
    "## Defining Functions"
   ]
  },
  {
   "cell_type": "code",
   "execution_count": 5,
   "id": "be1a22c5",
   "metadata": {},
   "outputs": [],
   "source": [
    "def say_hello():\n",
    "    return \"Hello!\""
   ]
  },
  {
   "cell_type": "code",
   "execution_count": 6,
   "id": "904d8bd4",
   "metadata": {},
   "outputs": [
    {
     "name": "stdout",
     "output_type": "stream",
     "text": [
      "Hello!\n"
     ]
    }
   ],
   "source": [
    "print(say_hello())"
   ]
  },
  {
   "cell_type": "markdown",
   "id": "45279bb4",
   "metadata": {},
   "source": [
    "### Parametres"
   ]
  },
  {
   "cell_type": "markdown",
   "id": "0fb9565d",
   "metadata": {},
   "source": [
    "#### Regular"
   ]
  },
  {
   "cell_type": "code",
   "execution_count": 8,
   "id": "2471c49f",
   "metadata": {},
   "outputs": [],
   "source": [
    "def greet_person(name):\n",
    "    return f\"Hello, {name}!\""
   ]
  },
  {
   "cell_type": "code",
   "execution_count": 10,
   "id": "bdc8ddcf",
   "metadata": {},
   "outputs": [
    {
     "name": "stdout",
     "output_type": "stream",
     "text": [
      "Hello, Alena!\n"
     ]
    }
   ],
   "source": [
    "print(greet_person(\"Alena\"))"
   ]
  },
  {
   "cell_type": "markdown",
   "id": "72af66e6",
   "metadata": {},
   "source": [
    "#### Default"
   ]
  },
  {
   "cell_type": "code",
   "execution_count": 11,
   "id": "f9428072",
   "metadata": {},
   "outputs": [],
   "source": [
    "def greet_person(name, greeting=\"Hello\"):\n",
    "    return f\"{greeting}, {name}!\""
   ]
  },
  {
   "cell_type": "code",
   "execution_count": 12,
   "id": "b32a3b2a",
   "metadata": {},
   "outputs": [
    {
     "name": "stdout",
     "output_type": "stream",
     "text": [
      "Hello, Alice!\n"
     ]
    }
   ],
   "source": [
    "print(greet_person(\"Alice\"))"
   ]
  },
  {
   "cell_type": "code",
   "execution_count": 13,
   "id": "735dff94",
   "metadata": {},
   "outputs": [
    {
     "name": "stdout",
     "output_type": "stream",
     "text": [
      "Hi, Alice!\n"
     ]
    }
   ],
   "source": [
    "print(greet_person(\"Alice\", greeting=\"Hi\"))"
   ]
  },
  {
   "cell_type": "markdown",
   "id": "d9f1bd46",
   "metadata": {},
   "source": [
    "#### Keyword"
   ]
  },
  {
   "cell_type": "code",
   "execution_count": null,
   "id": "72f9b304",
   "metadata": {},
   "outputs": [],
   "source": [
    "def greet_person_global(name, city, age):\n",
    "    return f\"Say hi to {name} who is {age} years old and lives in {city}, say hi to {name}.\""
   ]
  },
  {
   "cell_type": "code",
   "execution_count": 17,
   "id": "0c97a981",
   "metadata": {},
   "outputs": [
    {
     "name": "stdout",
     "output_type": "stream",
     "text": [
      "Say hi to Linda who is 30 years old and lives in New York, say hi to Linda.\n"
     ]
    }
   ],
   "source": [
    "print(greet_person_global(\"Linda\", \"New York\", 30))"
   ]
  },
  {
   "cell_type": "code",
   "execution_count": 18,
   "id": "2aebdc8a",
   "metadata": {},
   "outputs": [
    {
     "name": "stdout",
     "output_type": "stream",
     "text": [
      "Say hi to Linda who is 30 years old and lives in New York, say hi to Linda.\n"
     ]
    }
   ],
   "source": [
    "print(greet_person_global(name = \"Linda\", city = \"New York\", age = 30))"
   ]
  },
  {
   "cell_type": "code",
   "execution_count": 19,
   "id": "9349c17a",
   "metadata": {},
   "outputs": [
    {
     "name": "stdout",
     "output_type": "stream",
     "text": [
      "Say hi to New York who is 30 years old and lives in Linda, say hi to New York.\n"
     ]
    }
   ],
   "source": [
    "print(greet_person_global(\"New York\", \"Linda\", 30))"
   ]
  },
  {
   "cell_type": "code",
   "execution_count": 20,
   "id": "91104775",
   "metadata": {},
   "outputs": [
    {
     "name": "stdout",
     "output_type": "stream",
     "text": [
      "Say hi to Linda who is 30 years old and lives in New York, say hi to Linda.\n"
     ]
    }
   ],
   "source": [
    "print(greet_person_global(city=\"New York\", name=\"Linda\", age=30))"
   ]
  },
  {
   "cell_type": "markdown",
   "id": "b9195af7",
   "metadata": {},
   "source": [
    "### `return` Statements"
   ]
  },
  {
   "cell_type": "markdown",
   "id": "072e144e",
   "metadata": {},
   "source": [
    "#### Simple"
   ]
  },
  {
   "cell_type": "code",
   "execution_count": null,
   "id": "6a001c2a",
   "metadata": {},
   "outputs": [],
   "source": [
    "def say_hello(name):\n",
    "    return_str = \"Hello \" + name + \"!\"\n",
    "    return return_str"
   ]
  },
  {
   "cell_type": "code",
   "execution_count": 22,
   "id": "c627b363",
   "metadata": {},
   "outputs": [
    {
     "name": "stdout",
     "output_type": "stream",
     "text": [
      "Hello Mina!\n"
     ]
    }
   ],
   "source": [
    "print(say_hello(\"Mina\"))"
   ]
  },
  {
   "cell_type": "markdown",
   "id": "9ff527e8",
   "metadata": {},
   "source": [
    "#### Modified"
   ]
  },
  {
   "cell_type": "code",
   "execution_count": 23,
   "id": "1c35b3d8",
   "metadata": {},
   "outputs": [],
   "source": [
    "def square_area(x):\n",
    "    return x * x"
   ]
  },
  {
   "cell_type": "code",
   "execution_count": 24,
   "id": "86ea3344",
   "metadata": {},
   "outputs": [
    {
     "name": "stdout",
     "output_type": "stream",
     "text": [
      "25\n"
     ]
    }
   ],
   "source": [
    "print(square_area(5))"
   ]
  },
  {
   "cell_type": "markdown",
   "id": "3a467096",
   "metadata": {},
   "source": [
    "#### Conditional"
   ]
  },
  {
   "cell_type": "code",
   "execution_count": 28,
   "id": "1555048f",
   "metadata": {},
   "outputs": [],
   "source": [
    "def check_positive(x):\n",
    "    return \"positive\" if x > 0 else \"not positive\""
   ]
  },
  {
   "cell_type": "code",
   "execution_count": 27,
   "id": "22784e6a",
   "metadata": {},
   "outputs": [],
   "source": [
    "def check_negattive(x):\n",
    "    if x > 0:\n",
    "        return \"positive\"\n",
    "    else:\n",
    "        return \"not positive\""
   ]
  },
  {
   "cell_type": "code",
   "execution_count": 29,
   "id": "b938fc17",
   "metadata": {},
   "outputs": [
    {
     "name": "stdout",
     "output_type": "stream",
     "text": [
      "positive\n",
      "positive\n"
     ]
    }
   ],
   "source": [
    "print(check_positive(10))\n",
    "print(check_negattive(10))"
   ]
  },
  {
   "cell_type": "code",
   "execution_count": 30,
   "id": "cb2d4ebb",
   "metadata": {},
   "outputs": [
    {
     "name": "stdout",
     "output_type": "stream",
     "text": [
      "not positive\n",
      "not positive\n"
     ]
    }
   ],
   "source": [
    "print(check_positive(-3))\n",
    "print(check_negattive(-3))"
   ]
  },
  {
   "cell_type": "markdown",
   "id": "fcd55062",
   "metadata": {},
   "source": [
    "#### Returning Multiple Values"
   ]
  },
  {
   "cell_type": "code",
   "execution_count": null,
   "id": "b6324c72",
   "metadata": {},
   "outputs": [],
   "source": [
    "def get_stats(numbers):\n",
    "    return min(numbers), max(numbers), sum(numbers)"
   ]
  },
  {
   "cell_type": "code",
   "execution_count": 32,
   "id": "cca805be",
   "metadata": {},
   "outputs": [
    {
     "name": "stdout",
     "output_type": "stream",
     "text": [
      "(1, 9, 36)\n"
     ]
    }
   ],
   "source": [
    "print(get_stats([3, 1, 4, 1, 5, 9, 2, 6, 5]))"
   ]
  },
  {
   "cell_type": "code",
   "execution_count": 33,
   "id": "1052bc95",
   "metadata": {},
   "outputs": [
    {
     "name": "stdout",
     "output_type": "stream",
     "text": [
      "Min: 1, Max: 9, Sum: 36\n"
     ]
    }
   ],
   "source": [
    "x, y, z = get_stats([3, 1, 4, 1, 5, 9, 2, 6, 5])\n",
    "print(f\"Min: {x}, Max: {y}, Sum: {z}\")"
   ]
  },
  {
   "cell_type": "markdown",
   "id": "9c455577",
   "metadata": {},
   "source": [
    "## Recursive Functions Example"
   ]
  },
  {
   "cell_type": "code",
   "execution_count": 48,
   "id": "c58cb5af",
   "metadata": {},
   "outputs": [],
   "source": [
    "def sum_list(numbers):\n",
    "    # Base case\n",
    "    if len(numbers) == 0:\n",
    "        return 0\n",
    "    \n",
    "    # Recursive case\n",
    "    else:\n",
    "        return numbers[0] + sum_list(numbers[1:])"
   ]
  },
  {
   "cell_type": "code",
   "execution_count": 50,
   "id": "1764530f",
   "metadata": {},
   "outputs": [
    {
     "name": "stdout",
     "output_type": "stream",
     "text": [
      "15\n"
     ]
    }
   ],
   "source": [
    "sum_result = sum_list([1, 2, 3, 4, 5])\n",
    "print(sum_result)"
   ]
  },
  {
   "cell_type": "markdown",
   "id": "fc9f0981",
   "metadata": {},
   "source": [
    "## Function vs. Method"
   ]
  },
  {
   "cell_type": "code",
   "execution_count": 51,
   "id": "bb13e4c8",
   "metadata": {},
   "outputs": [
    {
     "name": "stdout",
     "output_type": "stream",
     "text": [
      "HELLO\n",
      "HELLO\n"
     ]
    }
   ],
   "source": [
    "## Function (can be called independently)\n",
    "def to_uppercase(s):\n",
    "    return s.upper()\n",
    "\n",
    "print(to_uppercase(\"hello\"))\n",
    "\n",
    "## Method (needs to be called on an object)\n",
    "\n",
    "text = \"hello\" ## in this case, text is a string (i.e. an object)\n",
    "print(text.upper())"
   ]
  }
 ],
 "metadata": {
  "kernelspec": {
   "display_name": "Python 3",
   "language": "python",
   "name": "python3"
  },
  "language_info": {
   "codemirror_mode": {
    "name": "ipython",
    "version": 3
   },
   "file_extension": ".py",
   "mimetype": "text/x-python",
   "name": "python",
   "nbconvert_exporter": "python",
   "pygments_lexer": "ipython3",
   "version": "3.13.7"
  }
 },
 "nbformat": 4,
 "nbformat_minor": 5
}
