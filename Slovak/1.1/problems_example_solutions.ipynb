{
 "cells": [
  {
   "cell_type": "markdown",
   "id": "ce6f8604",
   "metadata": {},
   "source": [
    "# Príklady riešení 1.1"
   ]
  },
  {
   "cell_type": "markdown",
   "id": "433d6bd6",
   "metadata": {},
   "source": [
    "Väčšina problémov v tomto kurze má viacero správnych riešení. Pre prípadné vysvetlenie sa obráťte na LLMs a/alebo autora. "
   ]
  },
  {
   "cell_type": "markdown",
   "id": "696d2a44",
   "metadata": {},
   "source": [
    "## ⭐ **Úloha 03**\n",
    "Definuj variably `x`, `y` a `z` tak, aby bol každý iného typu. Printni ich typy."
   ]
  },
  {
   "cell_type": "code",
   "execution_count": null,
   "id": "0d08042e",
   "metadata": {},
   "outputs": [],
   "source": [
    "x = 10\n",
    "y = 2.5\n",
    "z = \"hello\"\n",
    "\n",
    "print(type(x), type(y), type(z))    ## demonštruje flexibilitu Pythonu s typmi (integer, float, string)\n"
   ]
  },
  {
   "cell_type": "markdown",
   "id": "79a46b89",
   "metadata": {},
   "source": [
    "## ⭐ **Úloha 04**\n",
    "Napíš program, ktorý printne súčin dvoch súčtov."
   ]
  },
  {
   "cell_type": "code",
   "execution_count": null,
   "id": "3729f074",
   "metadata": {},
   "outputs": [],
   "source": [
    "a = 3 + 2           ## súčet č. 1\n",
    "b = 5 + 4           ## súčet č. 2\n",
    "product = a * b     ## súčin dvoch súčtov\n",
    "print(product)   "
   ]
  },
  {
   "cell_type": "markdown",
   "id": "5247f39a",
   "metadata": {},
   "source": [
    "## ⭐ **Úloha 05**\n",
    "Priraď hodnotu 3 variablu `x` a hodnotu 10 variably `y`. Printni hodnotu `28` použitím len týchto dvoch variablov a aritmetických operátorov."
   ]
  },
  {
   "cell_type": "code",
   "execution_count": null,
   "id": "b3cf849a",
   "metadata": {},
   "outputs": [
    {
     "name": "stdout",
     "output_type": "stream",
     "text": [
      "28\n"
     ]
    }
   ],
   "source": [
    "x = 3\n",
    "y = 10\n",
    "print(x**x + y%3)   ## využíva pokročilejšie operátory ako %, **, atď."
   ]
  },
  {
   "cell_type": "markdown",
   "id": "9dbe390b",
   "metadata": {},
   "source": [
    "## ⭐ **Úloha 06**\n",
    "Vytvor samostatné variably pre rôzne typy osobných údajov (meno, dátum narodenia, email atď.). Printni tieto údaje ako vizitku (\"meno: John, vek: 23, atď.\")"
   ]
  },
  {
   "cell_type": "code",
   "execution_count": null,
   "id": "fbbd1df9",
   "metadata": {},
   "outputs": [
    {
     "name": "stdout",
     "output_type": "stream",
     "text": [
      "Alex, 2000-05-15, alex@example.com\n"
     ]
    }
   ],
   "source": [
    "name = \"Alex\"\n",
    "dob = \"2000-05-15\"\n",
    "email = \"alex@example.com\"\n",
    "print(name + \", \" + dob + \", \" + email)   ## všimni si, že strings môžu byť spájané (concatenated) priamo v príkaze print; variably, ktoré sú už strings, nemusia byť v úvodzovkách.\n"
   ]
  },
  {
   "cell_type": "markdown",
   "id": "24d8d4ce",
   "metadata": {},
   "source": [
    "## ⭐ **Úloha 07**\n",
    "Vytvor dva variably, jeden s hodinovou mzdou a jeden s odpracovanými hodinami. Printni hrubú mzdu a mzdu po 23% dani."
   ]
  },
  {
   "cell_type": "code",
   "execution_count": null,
   "id": "c8c3e17c",
   "metadata": {},
   "outputs": [],
   "source": [
    "hourly_wage = 20\n",
    "hours_worked = 40\n",
    "gross_pay = hourly_wage * hours_worked\n",
    "net_pay = gross_pay * (1 - 0.23)\n",
    "print(gross_pay, net_pay)    ##\tmodeluje jednoduchú aritmetickú logiku s premennými\n"
   ]
  },
  {
   "cell_type": "markdown",
   "id": "e72c32ae",
   "metadata": {},
   "source": [
    "## ⭐ **Úloha 08**\n",
    "Sporiaci účet má na počiatku $1000. Majiteľka pridáva $100 každý mesiac pri 2.1% úrokovej sadzbe (počítanej mesačne). Printni sumu nasporenú po 2 rokoch."
   ]
  },
  {
   "cell_type": "code",
   "execution_count": null,
   "id": "e8b83edc",
   "metadata": {},
   "outputs": [],
   "source": [
    "initial = 1000          ## počiatočná suma\n",
    "monthly_add = 100       ## mesačný príspevok\n",
    "rate = 0.021 / 12       ## mesačná úroková sadzba (float)\n",
    "months = 24             ## definovaný počet mesiacov\n",
    "\n",
    "final_balance = initial * (1 + rate)**months + monthly_add * (((1 + rate)**months - 1) / rate)\n",
    "## aplikuje vzorec zloženého úročenia s pravidelnými príspevkami\n",
    "\n",
    "print(final_balance)    \n"
   ]
  },
  {
   "cell_type": "markdown",
   "id": "8acc0989",
   "metadata": {},
   "source": [
    "## ⭐ **Úloha 09**\n",
    "Priraď `3749` k variablu s názvom `seconds`, potom printni počet hodín a minút **bez** použitia operátorov `*` (násobenie) alebo `/` (delenie)."
   ]
  },
  {
   "cell_type": "code",
   "execution_count": 8,
   "id": "0680ce28",
   "metadata": {},
   "outputs": [
    {
     "name": "stdout",
     "output_type": "stream",
     "text": [
      "1 hours 2 minutes 29 seconds\n"
     ]
    }
   ],
   "source": [
    "seconds = 3749\n",
    "\n",
    "hours = seconds // 60 // 60                         ## 60 minút v hodine a 60 sekúnd v minúte (použitie //, floor division)\n",
    "minutes = (seconds - hours * 60 * 60) // 60         ## zostávajúce sekundy prevedené na minúty\n",
    "seconds = seconds - hours * 60 * 60 - minutes * 60  ## zostávajúce sekundy po zohľadnení hodín a minút\n",
    "\n",
    "print(hours, \"hours\", minutes, \"minutes\", seconds, \"seconds\")  \n"
   ]
  },
  {
   "cell_type": "markdown",
   "id": "ccc8ab20",
   "metadata": {},
   "source": [
    "## ⭐ **Úloha 10**\n",
    "01/01/2025 padol na stredu. Použi operátory na výpočet toho, na ktorý deň v týždni padol 175. deň roku 2025."
   ]
  },
  {
   "cell_type": "code",
   "execution_count": null,
   "id": "5c1bbd0b",
   "metadata": {},
   "outputs": [
    {
     "name": "stdout",
     "output_type": "stream",
     "text": [
      "2\n"
     ]
    }
   ],
   "source": [
    "days_in_week = 7\n",
    "day_of_year = 175\n",
    "start_day = 3    ## predpokladáme, že rok začína v stredu (0=Ne, 1=Po, ..., 6=So)\n",
    "\n",
    "weekday = (start_day + day_of_year - 1) % days_in_week  ## -1, pretože day_of_year začína od 1 (nie 0) \n",
    "print(weekday)   ## printne numerické zastúpenie dňa v týždni (0=Ne, 1=Po, ..., 6=So)\n"
   ]
  },
  {
   "cell_type": "markdown",
   "id": "d98af9f4",
   "metadata": {},
   "source": [
    "## ⭐ **Úloha 11**\n",
    "Boolean variable `quartered` ukladá, či je číslo 4792 deliteľné 4. Printni hodnotu `quartered`."
   ]
  },
  {
   "cell_type": "code",
   "execution_count": null,
   "id": "1af6cae9",
   "metadata": {},
   "outputs": [
    {
     "name": "stdout",
     "output_type": "stream",
     "text": [
      "True\n"
     ]
    }
   ],
   "source": [
    "quartered = (4792 % 4 == 0) ## všimni si, že variable s názvom quartered ukladá boolean hodnotu (True/False), keďže vnútri je porovnávací operátor ==\n",
    "print(quartered) "
   ]
  },
  {
   "cell_type": "markdown",
   "id": "a7fc5d94",
   "metadata": {},
   "source": [
    "## ⭐ **Úloha 12**\n",
    "V recepte sa píše, že 4 šálky múky a stačia na 5 ľudí. Vyškáluj recept tak, aby vyšiel na 7 ľudí. Porovnaj výsledky, keď počet šálok uložíš ako integer verzus float."
   ]
  },
  {
   "cell_type": "code",
   "execution_count": null,
   "id": "f1b8fa0d",
   "metadata": {},
   "outputs": [
    {
     "name": "stdout",
     "output_type": "stream",
     "text": [
      "5.6000000000000005 5.6000000000000005\n"
     ]
    }
   ],
   "source": [
    "recipe_people = 5\n",
    "actual_people = 7\n",
    "\n",
    "## výpočet ako integer\n",
    "cups_int = 4\n",
    "scaled_int = cups_int / recipe_people * actual_people ## vypočíta množstvo na osobu a potom násobí novým počtom ľudí\n",
    "\n",
    "## výpočet ako float\n",
    "cups_float = 4.0\n",
    "scaled_float = cups_float / recipe_people * actual_people\n",
    "\n",
    "print(scaled_int, scaled_float) \n"
   ]
  },
  {
   "cell_type": "markdown",
   "id": "2b7a8546",
   "metadata": {},
   "source": [
    "## ⭐ **Úloha 13**\n",
    "Vytvor variable `age` s (realistickým) vekom. Vytvor variable, ktorý ukladá True, ak je vek nad 18, inak False. Printni výsledok."
   ]
  },
  {
   "cell_type": "code",
   "execution_count": null,
   "id": "9244a965",
   "metadata": {},
   "outputs": [
    {
     "name": "stdout",
     "output_type": "stream",
     "text": [
      "True\n"
     ]
    }
   ],
   "source": [
    "age = 20\n",
    "is_adult = age > 18     ## operátor v priradení nastavuje is_adult na True alebo False na základe porovnania/porovnávacieho operátora\n",
    "print(is_adult)  \n"
   ]
  },
  {
   "cell_type": "markdown",
   "id": "f3614b01",
   "metadata": {},
   "source": [
    "## ⭐ **Úloha 14**\n",
    "Vytvor dva variables, jeden s počtom cookies a jeden s počtom ľudí, ktorí prídu. Vytvor boolean, ktorí ukladá True ak každý človek dostane aspoň jeden cookie, inak False. Printni výsledok."
   ]
  },
  {
   "cell_type": "code",
   "execution_count": null,
   "id": "0bba6b3a",
   "metadata": {},
   "outputs": [],
   "source": [
    "cookies = 12\n",
    "people = 10\n",
    "enough = cookies >= people ## vďaka porovnávaciemu operátoru, variable s názvom enough ukladá boolean hodnotu\n",
    "print(enough) \n"
   ]
  },
  {
   "cell_type": "markdown",
   "id": "e88b9a32",
   "metadata": {},
   "source": [
    "## ⭐ **Úloha 15**\n",
    "Počasie sa považuje za 'nepríjemné', ak teplota klesne pod 17 alebo stúpne nad 27. Ulož teplotu ako `x` a vytvor boolean variable s názvom `unpleasant`, ktorá vyhodnotí, či je počasie nepríjemné."
   ]
  },
  {
   "cell_type": "code",
   "execution_count": null,
   "id": "3be07bf8",
   "metadata": {},
   "outputs": [],
   "source": [
    "x = 15 ## nahraď hodnotami 22 a 30 pre testovanie zvyšných prípadov\n",
    "unpleasant = (x < 17) or (x > 27)\n",
    "print(unpleasant)"
   ]
  }
 ],
 "metadata": {
  "language_info": {
   "name": "python"
  }
 },
 "nbformat": 4,
 "nbformat_minor": 5
}
