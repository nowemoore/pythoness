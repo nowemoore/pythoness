{
 "cells": [
  {
   "cell_type": "markdown",
   "id": "093673db",
   "metadata": {},
   "source": [
    "# Module 1.1"
   ]
  },
  {
   "cell_type": "markdown",
   "id": "2e8a0a5e",
   "metadata": {},
   "source": [
    "## Primitive Data Types"
   ]
  },
  {
   "cell_type": "markdown",
   "id": "ab51ebe3",
   "metadata": {},
   "source": [
    "### `Int`"
   ]
  },
  {
   "cell_type": "code",
   "execution_count": null,
   "id": "1a61bee9",
   "metadata": {},
   "outputs": [],
   "source": [
    "my_int = 3\n",
    "print(type(my_int))"
   ]
  },
  {
   "cell_type": "markdown",
   "id": "984cf032",
   "metadata": {},
   "source": [
    "### `Float`"
   ]
  },
  {
   "cell_type": "code",
   "execution_count": null,
   "id": "bcaee4c8",
   "metadata": {},
   "outputs": [],
   "source": [
    "my_float = 10.0\n",
    "print(type(my_float))"
   ]
  },
  {
   "cell_type": "code",
   "execution_count": null,
   "id": "51475732",
   "metadata": {},
   "outputs": [],
   "source": [
    "## the precision issue\n",
    "sum_float = 0.1 + 0.2\n",
    "print(sum_float)\n",
    "print(sum_float == 0.3)"
   ]
  },
  {
   "cell_type": "markdown",
   "id": "14c473b9",
   "metadata": {},
   "source": [
    "### `Str`"
   ]
  },
  {
   "cell_type": "code",
   "execution_count": null,
   "id": "2ec5efc9",
   "metadata": {},
   "outputs": [],
   "source": [
    "my_str = \"Hello World\"\n",
    "print(type(my_str))"
   ]
  },
  {
   "cell_type": "code",
   "execution_count": null,
   "id": "c8451602",
   "metadata": {},
   "outputs": [],
   "source": [
    "my_other_str = 'Hello World'\n",
    "print(my_other_str == my_str)"
   ]
  },
  {
   "cell_type": "markdown",
   "id": "4bcb0c6d",
   "metadata": {},
   "source": [
    "### `Bool`"
   ]
  },
  {
   "cell_type": "code",
   "execution_count": null,
   "id": "63240474",
   "metadata": {},
   "outputs": [],
   "source": [
    "my_bool = 1 > 2\n",
    "print(my_bool)\n",
    "print(type(my_bool))"
   ]
  },
  {
   "cell_type": "markdown",
   "id": "0faa2761",
   "metadata": {},
   "source": [
    "### Conversion Between Types"
   ]
  },
  {
   "cell_type": "code",
   "execution_count": null,
   "id": "549c6d6a",
   "metadata": {},
   "outputs": [],
   "source": [
    "convert_to_int = int(3.7)\n",
    "print(convert_to_int)"
   ]
  },
  {
   "cell_type": "code",
   "execution_count": null,
   "id": "63d82378",
   "metadata": {},
   "outputs": [],
   "source": [
    "convert_to_float = float(5)\n",
    "print(convert_to_float)"
   ]
  },
  {
   "cell_type": "code",
   "execution_count": null,
   "id": "61ad47a8",
   "metadata": {},
   "outputs": [],
   "source": [
    "convert_to_str = str(0.5)\n",
    "print(convert_to_str)\n",
    "## now you won't be able to do math with it"
   ]
  },
  {
   "cell_type": "code",
   "execution_count": null,
   "id": "62f9614f",
   "metadata": {},
   "outputs": [],
   "source": [
    "convert_str = int(\"Hello World\")\n",
    "print(convert_str)\n",
    "## this will throw an error because \"Hello World\" cannot be interpreted as an integer"
   ]
  },
  {
   "cell_type": "markdown",
   "id": "bcb5923f",
   "metadata": {},
   "source": [
    "## Operators"
   ]
  },
  {
   "cell_type": "markdown",
   "id": "ad9cd373",
   "metadata": {},
   "source": [
    "### Assignment Operators"
   ]
  },
  {
   "cell_type": "code",
   "execution_count": null,
   "id": "8999f792",
   "metadata": {},
   "outputs": [],
   "source": [
    "x = 2\n",
    "print(x)"
   ]
  },
  {
   "cell_type": "code",
   "execution_count": null,
   "id": "d583a8e7",
   "metadata": {},
   "outputs": [],
   "source": [
    "x += 3\n",
    "print(x)"
   ]
  },
  {
   "cell_type": "code",
   "execution_count": null,
   "id": "1748aaa5",
   "metadata": {},
   "outputs": [],
   "source": [
    "x -= 4\n",
    "print(x)"
   ]
  },
  {
   "cell_type": "code",
   "execution_count": null,
   "id": "38c37cd6",
   "metadata": {},
   "outputs": [],
   "source": [
    "x **= 2\n",
    "print(x)"
   ]
  },
  {
   "cell_type": "markdown",
   "id": "138cddf7",
   "metadata": {},
   "source": [
    "### Arithmetic Operators"
   ]
  },
  {
   "cell_type": "code",
   "execution_count": null,
   "id": "49a52ca7",
   "metadata": {},
   "outputs": [],
   "source": [
    "result = 5 + 3\n",
    "print(f\"5 + 3 = {result}\")"
   ]
  },
  {
   "cell_type": "code",
   "execution_count": null,
   "id": "193ffdd0",
   "metadata": {},
   "outputs": [],
   "source": [
    "\n",
    "result = 10 - 4 - 2\n",
    "print(f\"10 - 4 - 2 = {result}\")"
   ]
  },
  {
   "cell_type": "code",
   "execution_count": null,
   "id": "baa6d053",
   "metadata": {},
   "outputs": [],
   "source": [
    "\n",
    "result = 4 * 7\n",
    "print(f\"4 * 7 = {result}\")"
   ]
  },
  {
   "cell_type": "code",
   "execution_count": null,
   "id": "49df7c55",
   "metadata": {},
   "outputs": [],
   "source": [
    "result = 15 / 3\n",
    "print(f\"15 / 3 = {result}\")"
   ]
  },
  {
   "cell_type": "code",
   "execution_count": null,
   "id": "0a2bc3cc",
   "metadata": {},
   "outputs": [],
   "source": [
    "\n",
    "result = 17 // 3\n",
    "print(f\"17 // 3 = {result} (quotient without the remainder)\")"
   ]
  },
  {
   "cell_type": "code",
   "execution_count": null,
   "id": "db2f07a9",
   "metadata": {},
   "outputs": [],
   "source": [
    "\n",
    "result = 2 ** 3\n",
    "print(f\"2 ** 3 = {result}\")"
   ]
  },
  {
   "cell_type": "code",
   "execution_count": null,
   "id": "9d14ca61",
   "metadata": {},
   "outputs": [],
   "source": [
    "\n",
    "result = 17 % 5\n",
    "print(f\"17 % 5 = {result} (remainder when 17 is divided by 5)\")"
   ]
  },
  {
   "cell_type": "markdown",
   "id": "a6231d95",
   "metadata": {},
   "source": [
    "### Logical Operators"
   ]
  },
  {
   "cell_type": "code",
   "execution_count": null,
   "id": "0b365393",
   "metadata": {},
   "outputs": [],
   "source": [
    "x = 7\n",
    "y = 12\n",
    "print(f\"x = {x}, y = {y}\")"
   ]
  },
  {
   "cell_type": "code",
   "execution_count": null,
   "id": "a7c1b699",
   "metadata": {},
   "outputs": [],
   "source": [
    "result = x > 5 and y < 10\n",
    "print(f\"x > 5 and y < 10 → {result}\")"
   ]
  },
  {
   "cell_type": "code",
   "execution_count": null,
   "id": "7127fb1c",
   "metadata": {},
   "outputs": [],
   "source": [
    "result = x > 5 or y < 10\n",
    "print(f\"x > 5 or y < 10 → {result}\")"
   ]
  },
  {
   "cell_type": "code",
   "execution_count": null,
   "id": "a29c77e4",
   "metadata": {},
   "outputs": [],
   "source": [
    "result = x < 5 or y < 10\n",
    "print(f\"x < 5 or y < 10 → {result}\")"
   ]
  },
  {
   "cell_type": "code",
   "execution_count": null,
   "id": "9a6cbcf0",
   "metadata": {},
   "outputs": [],
   "source": [
    "result = not x > 5\n",
    "print(f\"not x > 5 → {result}\")"
   ]
  },
  {
   "cell_type": "code",
   "execution_count": null,
   "id": "21c841d5",
   "metadata": {},
   "outputs": [],
   "source": [
    "\n",
    "result = not x < 5\n",
    "print(f\"not x < 5 → {result}\")"
   ]
  },
  {
   "cell_type": "markdown",
   "id": "6fb594de",
   "metadata": {},
   "source": [
    "### Comparison Operators"
   ]
  },
  {
   "cell_type": "code",
   "execution_count": null,
   "id": "1e66f4d5",
   "metadata": {},
   "outputs": [],
   "source": [
    "x = 5\n",
    "y = 10\n",
    "print(f\"x = {x}, y = {y}\")"
   ]
  },
  {
   "cell_type": "code",
   "execution_count": null,
   "id": "3d8be12d",
   "metadata": {},
   "outputs": [],
   "source": [
    "print(x == y)"
   ]
  },
  {
   "cell_type": "code",
   "execution_count": null,
   "id": "fb638d88",
   "metadata": {},
   "outputs": [],
   "source": [
    "print(x != y)"
   ]
  },
  {
   "cell_type": "code",
   "execution_count": null,
   "id": "2a8778a7",
   "metadata": {},
   "outputs": [],
   "source": [
    "print(x > y)"
   ]
  },
  {
   "cell_type": "code",
   "execution_count": null,
   "id": "db69ede6",
   "metadata": {},
   "outputs": [],
   "source": [
    "print(y > x)"
   ]
  },
  {
   "cell_type": "code",
   "execution_count": null,
   "id": "552d7705",
   "metadata": {},
   "outputs": [],
   "source": [
    "print(y//2 >= x)"
   ]
  }
 ],
 "metadata": {
  "kernelspec": {
   "display_name": "Python 3",
   "language": "python",
   "name": "python3"
  },
  "language_info": {
   "codemirror_mode": {
    "name": "ipython",
    "version": 3
   },
   "file_extension": ".py",
   "mimetype": "text/x-python",
   "name": "python",
   "nbconvert_exporter": "python",
   "pygments_lexer": "ipython3",
   "version": "3.13.7"
  }
 },
 "nbformat": 4,
 "nbformat_minor": 5
}
